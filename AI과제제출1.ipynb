{
 "cells": [
  {
   "cell_type": "markdown",
   "metadata": {
    "slideshow": {
     "slide_type": "slide"
    }
   },
   "source": [
    "# CNN (CIFAR10)\n",
    "## 1. Library, Data Preprocessing \n",
    "## 2. Solve classification with Pytorch\n",
    "## 3. Show the result "
   ]
  },
  {
   "cell_type": "markdown",
   "metadata": {
    "slideshow": {
     "slide_type": "slide"
    }
   },
   "source": [
    "# Library"
   ]
  },
  {
   "cell_type": "code",
   "execution_count": 3,
   "metadata": {
    "slideshow": {
     "slide_type": "fragment"
    }
   },
   "outputs": [
    {
     "name": "stdout",
     "output_type": "stream",
     "text": [
      "device: gpu\n"
     ]
    }
   ],
   "source": [
    "import torch\n",
    "import torch.nn as nn\n",
    "import torch.optim as optim\n",
    "import torch.nn.init as init\n",
    "import torchvision.datasets as dataset # for loading dataset (mnist)\n",
    "import torchvision.transforms as transforms # for processing datasets\n",
    "from torch.utils.data import DataLoader # for making dataset easier to use \n",
    "\n",
    "from matplotlib import pyplot as plt\n",
    "import numpy as np\n",
    "\n",
    "device = torch.device(\"cuda:0\" if torch.cuda.is_available() else \"cpu\")\n",
    "print(\"device: gpu\") if torch.cuda.is_available() else print(\"device: cpu\")"
   ]
  },
  {
   "cell_type": "markdown",
   "metadata": {
    "slideshow": {
     "slide_type": "slide"
    }
   },
   "source": [
    "# Hyper parameter setting"
   ]
  },
  {
   "cell_type": "code",
   "execution_count": 4,
   "metadata": {
    "slideshow": {
     "slide_type": "fragment"
    }
   },
   "outputs": [],
   "source": [
    "# hypter parameter setting\n",
    "learning_rate = 1e-2\n",
    "training_epochs = 150\n",
    "display_step = 30\n",
    "batch_size = 32\n",
    "momentum = 0.9\n",
    "\n",
    "activation = nn.ReLU()\n",
    "max_pool = nn.MaxPool2d(2,2) # kerel size, stride size, padding size "
   ]
  },
  {
   "cell_type": "markdown",
   "metadata": {
    "slideshow": {
     "slide_type": "slide"
    }
   },
   "source": [
    "# Load data & Pre-process data"
   ]
  },
  {
   "cell_type": "code",
   "execution_count": 5,
   "metadata": {
    "slideshow": {
     "slide_type": "fragment"
    }
   },
   "outputs": [
    {
     "name": "stdout",
     "output_type": "stream",
     "text": [
      "Files already downloaded and verified\n",
      "Files already downloaded and verified\n",
      "len(train_data):  50000\n",
      "len(test_data):  10000\n",
      "data tensor([[[0.2314, 0.2431, 0.2471],\n",
      "         [0.1686, 0.1804, 0.1765],\n",
      "         [0.1961, 0.1882, 0.1686],\n",
      "         ...,\n",
      "         [0.6196, 0.5176, 0.4235],\n",
      "         [0.5961, 0.4902, 0.4000],\n",
      "         [0.5804, 0.4863, 0.4039]],\n",
      "\n",
      "        [[0.0627, 0.0784, 0.0784],\n",
      "         [0.0000, 0.0000, 0.0000],\n",
      "         [0.0706, 0.0314, 0.0000],\n",
      "         ...,\n",
      "         [0.4824, 0.3451, 0.2157],\n",
      "         [0.4667, 0.3255, 0.1961],\n",
      "         [0.4784, 0.3412, 0.2235]],\n",
      "\n",
      "        [[0.0980, 0.0941, 0.0824],\n",
      "         [0.0627, 0.0275, 0.0000],\n",
      "         [0.1922, 0.1059, 0.0314],\n",
      "         ...,\n",
      "         [0.4627, 0.3294, 0.1961],\n",
      "         [0.4706, 0.3294, 0.1961],\n",
      "         [0.4275, 0.2863, 0.1647]],\n",
      "\n",
      "        ...,\n",
      "\n",
      "        [[0.8157, 0.6667, 0.3765],\n",
      "         [0.7882, 0.6000, 0.1333],\n",
      "         [0.7765, 0.6314, 0.1020],\n",
      "         ...,\n",
      "         [0.6275, 0.5216, 0.2745],\n",
      "         [0.2196, 0.1216, 0.0275],\n",
      "         [0.2078, 0.1333, 0.0784]],\n",
      "\n",
      "        [[0.7059, 0.5451, 0.3765],\n",
      "         [0.6784, 0.4824, 0.1647],\n",
      "         [0.7294, 0.5647, 0.1176],\n",
      "         ...,\n",
      "         [0.7216, 0.5804, 0.3686],\n",
      "         [0.3804, 0.2431, 0.1333],\n",
      "         [0.3255, 0.2078, 0.1333]],\n",
      "\n",
      "        [[0.6941, 0.5647, 0.4549],\n",
      "         [0.6588, 0.5059, 0.3686],\n",
      "         [0.7020, 0.5569, 0.3412],\n",
      "         ...,\n",
      "         [0.8471, 0.7216, 0.5490],\n",
      "         [0.5922, 0.4627, 0.3294],\n",
      "         [0.4824, 0.3608, 0.2824]]])\n",
      "data shape:  torch.Size([32, 32, 3])\n",
      "label:  6\n"
     ]
    },
    {
     "data": {
      "image/png": "[encoded data removed]",
      "text/plain": [
       "<Figure size 432x288 with 1 Axes>"
      ]
     },
     "metadata": {
      "needs_background": "light"
     },
     "output_type": "display_data"
    }
   ],
   "source": [
    "# load data\n",
    "train_data = dataset.CIFAR10(\"./\", train = True, transform = transforms.ToTensor(), target_transform = None, download = True)\n",
    "test_data = dataset.CIFAR10(\"./\", train = False, transform = transforms.ToTensor(), target_transform = None, download = True)\n",
    "\n",
    "# check the data\n",
    "print('len(train_data): ', len(train_data))\n",
    "print('len(test_data): ', len(test_data))\n",
    "\n",
    "x_train, y_train = train_data[0]\n",
    "x_train = np.transpose(x_train, (1, 2, 0))\n",
    "\n",
    "print('data', x_train)\n",
    "print('data shape: ', x_train.shape)\n",
    "print('label: ', y_train)\n",
    "\n",
    "plt.figure()\n",
    "plt.imshow(x_train)\n",
    "plt.show()"
   ]
  },
  {
   "cell_type": "code",
   "execution_count": 6,
   "metadata": {},
   "outputs": [
    {
     "name": "stdout",
     "output_type": "stream",
     "text": [
      "data shape: torch.Size([32, 3, 32, 32])\n",
      "label: tensor([0, 8, 2, 7, 0, 1, 8, 0, 0, 1, 2, 8, 7, 7, 9, 6, 1, 4, 0, 8, 5, 6, 4, 8,\n",
      "        5, 2, 3, 3, 3, 7, 0, 3])\n"
     ]
    },
    {
     "data": {
      "image/png": "[encoded data removed]",
      "text/plain": [
       "<Figure size 432x288 with 1 Axes>"
      ]
     },
     "metadata": {
      "needs_background": "light"
     },
     "output_type": "display_data"
    }
   ],
   "source": [
    "# Pre-process (batch, shuffle)\n",
    "train_loader = torch.utils.data.DataLoader(train_data, batch_size = batch_size, shuffle = True, num_workers = 1, drop_last = True)\n",
    "test_loader = torch.utils.data.DataLoader(test_data, batch_size = batch_size, shuffle = True, num_workers = 1, drop_last = True)\n",
    "\n",
    "# check the data \n",
    "examples = enumerate(train_loader)\n",
    "batch_idx, (example_data, example_target) = next(examples)\n",
    "\n",
    "print('data shape:', example_data.shape)\n",
    "print('label:', example_target)\n",
    "\n",
    "check_image = example_data[0]\n",
    "check_image = np.transpose(check_image, (1, 2, 0))\n",
    "\n",
    "plt.figure()\n",
    "plt.imshow(check_image)\n",
    "plt.show()"
   ]
  },
  {
   "cell_type": "markdown",
   "metadata": {
    "slideshow": {
     "slide_type": "slide"
    }
   },
   "source": [
    "# Model & Optimization and Loss function"
   ]
  },
  {
   "cell_type": "code",
   "execution_count": 17,
   "metadata": {
    "slideshow": {
     "slide_type": "fragment"
    }
   },
   "outputs": [],
   "source": [
    "class CNN(nn.Module):\n",
    "    def __init__(self):\n",
    "        super(CNN, self).__init__() # for initializing nn.Module (parent class)\n",
    "        self.feature_extraction = nn.Sequential(\n",
    "            nn.Conv2d(3, 16, 3, padding = 1), \n",
    "            activation, \n",
    "            nn.Conv2d(16, 64,3, padding = 1), # 3\n",
    "            nn.BatchNorm2d(64),\n",
    "            activation,\n",
    "            nn.Conv2d(64, 32,3, padding = 1), # 3\n",
    "            nn.BatchNorm2d(32),\n",
    "            activation,\n",
    "            nn.Conv2d(32, 64,3, padding = 1), # 3\n",
    "            nn.BatchNorm2d(64),\n",
    "            activation,\n",
    "            nn.Conv2d(64, 32,3, padding = 1), # 3\n",
    "            nn.BatchNorm2d(32),\n",
    "            activation,\n",
    "            nn.Conv2d(32, 128,3, padding = 1), # 3\n",
    "            nn.BatchNorm2d(128),\n",
    "            activation,\n",
    "            nn.Conv2d(128, 64,3, padding = 1), # 3\n",
    "            nn.BatchNorm2d(64),\n",
    "            activation,\n",
    "            nn.Conv2d(64, 32,3, padding = 1), # 3\n",
    "            nn.BatchNorm2d(32),\n",
    "            nn.Conv2d(32, 32,3, padding = 1), # 3\n",
    "            nn.BatchNorm2d(32),\n",
    "            activation,\n",
    "            nn.Conv2d(32, 64,3, padding = 1), # 3\n",
    "            nn.BatchNorm2d(64),\n",
    "            activation,\n",
    "            nn.Conv2d(64, 64,3, padding = 1), # 3\n",
    "            nn.BatchNorm2d(64),\n",
    "            activation,\n",
    "            nn.Conv2d(64, 128,3, padding = 1), # 3\n",
    "            nn.BatchNorm2d(128),\n",
    "            activation,\n",
    "            nn.Conv2d(128, 64,3, padding = 1), # 3\n",
    "            nn.BatchNorm2d(64),\n",
    "            activation,\n",
    "            nn.Conv2d(64, 64,3, padding = 1), # 3\n",
    "            nn.BatchNorm2d(64),\n",
    "            activation,\n",
    "            nn.Conv2d(64, 32,3, padding = 1), # 3\n",
    "            nn.BatchNorm2d(32),\n",
    "            activation,\n",
    "            max_pool,\n",
    "            nn.Conv2d(32,64,3, padding = 1),\n",
    "            nn.BatchNorm2d(64),\n",
    "            activation,\n",
    "            max_pool\n",
    "        )\n",
    "        self.classifier = nn.Sequential(\n",
    "            nn.Linear(64 * 8 * 8, 100),\n",
    "            activation,\n",
    "            nn.Linear(100, 10)\n",
    "        )\n",
    "    def forward(self, x): # 32 * 3*32*32\n",
    "        extracted_feature = self.feature_extraction(x) # [32, 64, 4, 4] # 뱃취사이즈 32\n",
    "#         print(extracted_feature.shape)\n",
    "        flatten = extracted_feature.view(batch_size, -1) # [32, 64 * 4 * 4]\n",
    "        result = self.classifier(flatten)\n",
    "        return result\n",
    "\n",
    "model = CNN().to(device)\n",
    "model.train()\n",
    "loss_function = nn.CrossEntropyLoss()\n",
    "optimizer = optim.SGD(model.parameters(), lr = learning_rate, momentum= 0.9 )"
   ]
  },
  {
   "cell_type": "markdown",
   "metadata": {
    "slideshow": {
     "slide_type": "slide"
    }
   },
   "source": [
    "# Train & Test"
   ]
  },
  {
   "cell_type": "code",
   "execution_count": 18,
   "metadata": {
    "scrolled": true,
    "slideshow": {
     "slide_type": "fragment"
    }
   },
   "outputs": [
    {
     "name": "stdout",
     "output_type": "stream",
     "text": [
      "0 epoch loss: 1.5173012018203735\n",
      "30 epoch loss: 0.1404339075088501\n",
      "60 epoch loss: 0.006244334392249584\n",
      "90 epoch loss: 0.0001854094152804464\n",
      "120 epoch loss: 8.382785745197907e-05\n"
     ]
    }
   ],
   "source": [
    "loss_array = []\n",
    "\n",
    "# train the model\n",
    "for i in range(training_epochs):\n",
    "    for index, [data, label] in enumerate(train_loader):\n",
    "        data = data.to(device)\n",
    "        label = label.to(device)\n",
    "                \n",
    "        optimizer.zero_grad()\n",
    "        output = model.forward(data)\n",
    "        loss = loss_function(output, label)\n",
    "        loss.backward()\n",
    "        optimizer.step()\n",
    "        \n",
    "    if i % display_step == 0:\n",
    "        print('{} epoch loss: {}'.format(i,loss))\n",
    "        loss_array.append(loss.cpu().detach().numpy())"
   ]
  },
  {
   "cell_type": "code",
   "execution_count": 19,
   "metadata": {},
   "outputs": [
    {
     "data": {
      "image/png": "[encoded data removed]",
      "text/plain": [
       "<Figure size 432x288 with 1 Axes>"
      ]
     },
     "metadata": {
      "needs_background": "light"
     },
     "output_type": "display_data"
    }
   ],
   "source": [
    "plt.figure()\n",
    "plt.plot(loss_array)\n",
    "plt.show()"
   ]
  },
  {
   "cell_type": "code",
   "execution_count": 20,
   "metadata": {},
   "outputs": [
    {
     "name": "stdout",
     "output_type": "stream",
     "text": [
      "Accuracy of the model: 0.7870593070983887\n"
     ]
    }
   ],
   "source": [
    "#test the model\n",
    "model.eval()\n",
    "correct = 0\n",
    "total = 0\n",
    "\n",
    "prediction_list = []\n",
    "label_list = []\n",
    "\n",
    "with torch.no_grad():\n",
    "    for index, [data, label] in enumerate(test_loader):\n",
    "        data = data.to(device)\n",
    "        label = label.to(device)\n",
    "        \n",
    "        output = model.forward(data)\n",
    "        _, prediction_index = torch.max(output, 1)\n",
    "        \n",
    "        prediction_list.append(prediction_index)\n",
    "        label_list.append(label)\n",
    "        \n",
    "        total += label.size(0)\n",
    "        correct += (prediction_index == label).sum().float()\n",
    "\n",
    "    print(\"Accuracy of the model: {}\".format(correct/total))"
   ]
  },
  {
   "cell_type": "code",
   "execution_count": null,
   "metadata": {},
   "outputs": [],
   "source": []
  }
 ],
 "metadata": {
  "celltoolbar": "Slideshow",
  "kernelspec": {
   "display_name": "Pytorch",
   "language": "python",
   "name": "pytorch"
  },
  "language_info": {
   "codemirror_mode": {
    "name": "ipython",
    "version": 3
   },
   "file_extension": ".py",
   "mimetype": "text/x-python",
   "name": "python",
   "nbconvert_exporter": "python",
   "pygments_lexer": "ipython3",
   "version": "3.7.9"
  },
  "widgets": {
   "state": {},
   "version": "1.1.2"
  }
 },
 "nbformat": 4,
 "nbformat_minor": 2
}
