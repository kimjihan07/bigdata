{
 "cells": [
  {
   "cell_type": "code",
   "execution_count": 1,
   "metadata": {},
   "outputs": [],
   "source": [
    "import pandas as pd\n",
    "import matplotlib.pyplot as plt\n",
    "import matplotlib\n",
    "from sklearn.tree import export_graphviz\n",
    "import numpy as np\n",
    "import graphviz\n",
    "\n",
    "\n",
    "#Scale 변환: 평균, 표준편차, 기준\n",
    "\n",
    "from sklearn.preprocessing import StandardScaler\n",
    "\n",
    "#주성분 분석\n",
    "from sklearn.decomposition import PCA\n",
    "\n",
    "#회귀분석\n",
    "from statsmodels.formula.api import ols\n",
    "#qqplot, 회귀분석의 상수항 추가\n",
    "from statsmodels.api import qqplot, add_constant\n",
    "#선형 모델 formula(y~X1+X2+...)\n",
    "\n",
    "import statsmodels.formula.api as smf\n",
    "#평가함수\n",
    "from statsmodels.tools.eval_measures import rmse\n",
    "from sklearn.ensemble import RandomForestClassifier as RFC\n",
    "from sklearn.model_selection import train_test_split\n",
    "from sklearn.tree import DecisionTreeClassifier\n",
    "from sklearn.model_selection import GridSearchCV\n",
    "from sklearn.ensemble import GradientBoostingClassifier as GBC\n",
    "import seaborn as sns\n",
    "# 주피터 사용시 그래프자동출력 옵션\n",
    "matplotlib.rc('font', family ='Malgun Gothic')\n",
    "\n",
    "import statsmodels.formula.api as smf # 선형모델 formula(y ~ x1 +x2+ x3)\n",
    "import statsmodels.api as sm\n",
    "# ols Ordinary Least Squares (최소자승법 라이브러리)\n",
    "from statsmodels.formula.api import ols\n",
    "from statsmodels.stats.anova import anova_lm\n",
    "\n",
    "\n",
    "from statsmodels.api import Logit\n",
    "\n",
    "from sklearn.metrics import accuracy_score\n",
    "\n",
    "from sklearn.metrics import confusion_matrix\n",
    "# 한글 맑은 고딕 적용\n",
    "matplotlib.rc('font',family='NanumGothic')\n",
    "\n",
    "# matplotlib  패키지 한글 깨짐 처리\n",
    "# 한글 폰트(맑은 고딕) 적용 : 윈도우, 구글 콜랩\n",
    "matplotlib.rc('font',family='NanumGothic')\n",
    "plt.rc('font',family='NanumGothic')\n",
    "\n",
    "# seaborn에서 한글 깨짐 해결:unicode minus 사용 않기 위한 설정(minus 깨짐 현상 방지)\n",
    "plt.rcParams['axes.unicode_minus']=False\n"
   ]
  },
  {
   "cell_type": "markdown",
   "metadata": {},
   "source": [
    "\n",
    "#  Step1. 데이터 불러오기\n"
   ]
  },
  {
   "cell_type": "code",
   "execution_count": 2,
   "metadata": {},
   "outputs": [
    {
     "name": "stdout",
     "output_type": "stream",
     "text": [
      "<class 'pandas.core.frame.DataFrame'>\n",
      "RangeIndex: 720 entries, 0 to 719\n",
      "Data columns (total 18 columns):\n",
      " #   Column             Non-Null Count  Dtype  \n",
      "---  ------             --------------  -----  \n",
      " 0   SCALE              720 non-null    int64  \n",
      " 1   STEEL_KIND         720 non-null    object \n",
      " 2   PT_THK             720 non-null    float64\n",
      " 3   PT_WDTH            720 non-null    int64  \n",
      " 4   PT_LTH             720 non-null    int64  \n",
      " 5   PT_WGT             720 non-null    int64  \n",
      " 6   FUR_NO             720 non-null    object \n",
      " 7   FUR_NO_ROW         720 non-null    object \n",
      " 8   FUR_HZ_TEMP        720 non-null    int64  \n",
      " 9   FUR_HZ_TIME        720 non-null    int64  \n",
      " 10  FUR_SZ_TEMP        720 non-null    int64  \n",
      " 11  FUR_SZ_TIME        720 non-null    int64  \n",
      " 12  FUR_TIME           720 non-null    int64  \n",
      " 13  FUR_EXTEMP         720 non-null    int64  \n",
      " 14  ROLLING_TEMP_T5    720 non-null    int64  \n",
      " 15  HSB                720 non-null    object \n",
      " 16  ROLLING_DESCALING  720 non-null    int64  \n",
      " 17  WORK_GR            720 non-null    object \n",
      "dtypes: float64(1), int64(12), object(5)\n",
      "memory usage: 101.4+ KB\n"
     ]
    }
   ],
   "source": [
    "df_raw= pd.read_csv('/home/piai/test/test2/currentwork/SCALE불량.csv', engine= 'python', encoding ='cp949')\n",
    "df_raw.drop(\"PLATE_NO\", axis = 1, inplace = True)\n",
    "df_raw.drop(\"ROLLING_DATE\", axis = 1, inplace = True)\n",
    "df_raw.drop(\"SPEC\", axis = 1, inplace = True)\n",
    "#목표 변수와 전혀관계 없는  명목척도 제외 후 df_raw에 그대로 저장\n",
    "df_raw['SCALE'] = df_raw['SCALE'].map(lambda x : 0 if x == \"양품\" else 1)\n",
    "# 정수로 표현된 범주형 변수 object로 변환\n",
    "df_raw= df_raw.astype({'FUR_NO_ROW' : 'object'}) \n",
    "\n",
    "\n",
    "\n",
    "\n",
    "df_raw.info()"
   ]
  },
  {
   "cell_type": "markdown",
   "metadata": {},
   "source": [
    "#  Step2. 데이터 정제 "
   ]
  },
  {
   "cell_type": "code",
   "execution_count": 3,
   "metadata": {},
   "outputs": [
    {
     "data": {
      "text/html": [
       "<div>\n",
       "<style scoped>\n",
       "    .dataframe tbody tr th:only-of-type {\n",
       "        vertical-align: middle;\n",
       "    }\n",
       "\n",
       "    .dataframe tbody tr th {\n",
       "        vertical-align: top;\n",
       "    }\n",
       "\n",
       "    .dataframe thead th {\n",
       "        text-align: right;\n",
       "    }\n",
       "</style>\n",
       "<table border=\"1\" class=\"dataframe\">\n",
       "  <thead>\n",
       "    <tr style=\"text-align: right;\">\n",
       "      <th></th>\n",
       "      <th>SCALE</th>\n",
       "      <th>PT_THK</th>\n",
       "      <th>PT_WDTH</th>\n",
       "      <th>PT_LTH</th>\n",
       "      <th>PT_WGT</th>\n",
       "      <th>FUR_HZ_TEMP</th>\n",
       "      <th>FUR_HZ_TIME</th>\n",
       "      <th>FUR_SZ_TEMP</th>\n",
       "      <th>FUR_SZ_TIME</th>\n",
       "      <th>FUR_TIME</th>\n",
       "      <th>FUR_EXTEMP</th>\n",
       "      <th>ROLLING_TEMP_T5</th>\n",
       "      <th>ROLLING_DESCALING</th>\n",
       "    </tr>\n",
       "  </thead>\n",
       "  <tbody>\n",
       "    <tr>\n",
       "      <th>count</th>\n",
       "      <td>720.000</td>\n",
       "      <td>720.000</td>\n",
       "      <td>720.000</td>\n",
       "      <td>720.000</td>\n",
       "      <td>720.000</td>\n",
       "      <td>720.000</td>\n",
       "      <td>720.000</td>\n",
       "      <td>720.000</td>\n",
       "      <td>720.000</td>\n",
       "      <td>720.000</td>\n",
       "      <td>720.000</td>\n",
       "      <td>720.000</td>\n",
       "      <td>720.000</td>\n",
       "    </tr>\n",
       "    <tr>\n",
       "      <th>mean</th>\n",
       "      <td>0.321</td>\n",
       "      <td>29.268</td>\n",
       "      <td>2807.128</td>\n",
       "      <td>34323.269</td>\n",
       "      <td>41481.778</td>\n",
       "      <td>1155.339</td>\n",
       "      <td>88.528</td>\n",
       "      <td>1149.667</td>\n",
       "      <td>78.803</td>\n",
       "      <td>300.564</td>\n",
       "      <td>1149.667</td>\n",
       "      <td>933.921</td>\n",
       "      <td>8.319</td>\n",
       "    </tr>\n",
       "    <tr>\n",
       "      <th>std</th>\n",
       "      <td>0.467</td>\n",
       "      <td>19.153</td>\n",
       "      <td>517.840</td>\n",
       "      <td>13828.435</td>\n",
       "      <td>24751.322</td>\n",
       "      <td>20.866</td>\n",
       "      <td>37.661</td>\n",
       "      <td>17.572</td>\n",
       "      <td>36.421</td>\n",
       "      <td>45.390</td>\n",
       "      <td>17.572</td>\n",
       "      <td>107.864</td>\n",
       "      <td>1.623</td>\n",
       "    </tr>\n",
       "    <tr>\n",
       "      <th>min</th>\n",
       "      <td>0.000</td>\n",
       "      <td>12.030</td>\n",
       "      <td>1800.000</td>\n",
       "      <td>7893.000</td>\n",
       "      <td>7820.000</td>\n",
       "      <td>1103.000</td>\n",
       "      <td>43.000</td>\n",
       "      <td>1113.000</td>\n",
       "      <td>35.000</td>\n",
       "      <td>221.000</td>\n",
       "      <td>1113.000</td>\n",
       "      <td>0.000</td>\n",
       "      <td>5.000</td>\n",
       "    </tr>\n",
       "    <tr>\n",
       "      <th>25%</th>\n",
       "      <td>0.000</td>\n",
       "      <td>16.090</td>\n",
       "      <td>2466.000</td>\n",
       "      <td>22663.000</td>\n",
       "      <td>17757.500</td>\n",
       "      <td>1139.000</td>\n",
       "      <td>65.000</td>\n",
       "      <td>1132.000</td>\n",
       "      <td>57.750</td>\n",
       "      <td>257.000</td>\n",
       "      <td>1132.000</td>\n",
       "      <td>889.750</td>\n",
       "      <td>6.000</td>\n",
       "    </tr>\n",
       "    <tr>\n",
       "      <th>50%</th>\n",
       "      <td>0.000</td>\n",
       "      <td>20.130</td>\n",
       "      <td>2725.000</td>\n",
       "      <td>37380.000</td>\n",
       "      <td>36120.000</td>\n",
       "      <td>1158.000</td>\n",
       "      <td>75.000</td>\n",
       "      <td>1155.000</td>\n",
       "      <td>67.500</td>\n",
       "      <td>304.000</td>\n",
       "      <td>1155.000</td>\n",
       "      <td>951.000</td>\n",
       "      <td>8.000</td>\n",
       "    </tr>\n",
       "    <tr>\n",
       "      <th>75%</th>\n",
       "      <td>1.000</td>\n",
       "      <td>40.000</td>\n",
       "      <td>3125.000</td>\n",
       "      <td>43735.000</td>\n",
       "      <td>61120.000</td>\n",
       "      <td>1171.000</td>\n",
       "      <td>101.000</td>\n",
       "      <td>1164.000</td>\n",
       "      <td>86.000</td>\n",
       "      <td>342.000</td>\n",
       "      <td>1164.000</td>\n",
       "      <td>994.250</td>\n",
       "      <td>10.000</td>\n",
       "    </tr>\n",
       "    <tr>\n",
       "      <th>max</th>\n",
       "      <td>1.000</td>\n",
       "      <td>100.340</td>\n",
       "      <td>4575.000</td>\n",
       "      <td>54917.000</td>\n",
       "      <td>115080.000</td>\n",
       "      <td>1206.000</td>\n",
       "      <td>312.000</td>\n",
       "      <td>1185.000</td>\n",
       "      <td>294.000</td>\n",
       "      <td>398.000</td>\n",
       "      <td>1185.000</td>\n",
       "      <td>1078.000</td>\n",
       "      <td>10.000</td>\n",
       "    </tr>\n",
       "  </tbody>\n",
       "</table>\n",
       "</div>"
      ],
      "text/plain": [
       "         SCALE   PT_THK   PT_WDTH     PT_LTH      PT_WGT  FUR_HZ_TEMP  \\\n",
       "count  720.000  720.000   720.000    720.000     720.000      720.000   \n",
       "mean     0.321   29.268  2807.128  34323.269   41481.778     1155.339   \n",
       "std      0.467   19.153   517.840  13828.435   24751.322       20.866   \n",
       "min      0.000   12.030  1800.000   7893.000    7820.000     1103.000   \n",
       "25%      0.000   16.090  2466.000  22663.000   17757.500     1139.000   \n",
       "50%      0.000   20.130  2725.000  37380.000   36120.000     1158.000   \n",
       "75%      1.000   40.000  3125.000  43735.000   61120.000     1171.000   \n",
       "max      1.000  100.340  4575.000  54917.000  115080.000     1206.000   \n",
       "\n",
       "       FUR_HZ_TIME  FUR_SZ_TEMP  FUR_SZ_TIME  FUR_TIME  FUR_EXTEMP  \\\n",
       "count      720.000      720.000      720.000   720.000     720.000   \n",
       "mean        88.528     1149.667       78.803   300.564    1149.667   \n",
       "std         37.661       17.572       36.421    45.390      17.572   \n",
       "min         43.000     1113.000       35.000   221.000    1113.000   \n",
       "25%         65.000     1132.000       57.750   257.000    1132.000   \n",
       "50%         75.000     1155.000       67.500   304.000    1155.000   \n",
       "75%        101.000     1164.000       86.000   342.000    1164.000   \n",
       "max        312.000     1185.000      294.000   398.000    1185.000   \n",
       "\n",
       "       ROLLING_TEMP_T5  ROLLING_DESCALING  \n",
       "count          720.000            720.000  \n",
       "mean           933.921              8.319  \n",
       "std            107.864              1.623  \n",
       "min              0.000              5.000  \n",
       "25%            889.750              6.000  \n",
       "50%            951.000              8.000  \n",
       "75%            994.250             10.000  \n",
       "max           1078.000             10.000  "
      ]
     },
     "execution_count": 3,
     "metadata": {},
     "output_type": "execute_result"
    }
   ],
   "source": [
    "df_raw.describe().round(3)"
   ]
  },
  {
   "cell_type": "markdown",
   "metadata": {},
   "source": [
    "## Step2-1 결측치 확인"
   ]
  },
  {
   "cell_type": "code",
   "execution_count": 4,
   "metadata": {},
   "outputs": [
    {
     "data": {
      "text/plain": [
       "SCALE                0\n",
       "STEEL_KIND           0\n",
       "PT_THK               0\n",
       "PT_WDTH              0\n",
       "PT_LTH               0\n",
       "PT_WGT               0\n",
       "FUR_NO               0\n",
       "FUR_NO_ROW           0\n",
       "FUR_HZ_TEMP          0\n",
       "FUR_HZ_TIME          0\n",
       "FUR_SZ_TEMP          0\n",
       "FUR_SZ_TIME          0\n",
       "FUR_TIME             0\n",
       "FUR_EXTEMP           0\n",
       "ROLLING_TEMP_T5      0\n",
       "HSB                  0\n",
       "ROLLING_DESCALING    0\n",
       "WORK_GR              0\n",
       "dtype: int64"
      ]
     },
     "execution_count": 4,
     "metadata": {},
     "output_type": "execute_result"
    }
   ],
   "source": [
    "# 결측치를 확인한다.\n",
    "# 결측치는 없다.\n",
    "df_raw.isna().sum()\n"
   ]
  },
  {
   "cell_type": "code",
   "execution_count": 5,
   "metadata": {},
   "outputs": [
    {
     "data": {
      "text/plain": [
       "<matplotlib.axes._subplots.AxesSubplot at 0x7fedcdca79d0>"
      ]
     },
     "execution_count": 5,
     "metadata": {},
     "output_type": "execute_result"
    },
    {
     "data": {
      "image/png": "[encoded data removed]",
      "text/plain": [
       "<Figure size 1440x720 with 1 Axes>"
      ]
     },
     "metadata": {
      "needs_background": "light"
     },
     "output_type": "display_data"
    }
   ],
   "source": [
    "df_raw.boxplot(figsize =(20,10))\n",
    "\n"
   ]
  },
  {
   "cell_type": "markdown",
   "metadata": {},
   "source": [
    "###연속형 변수 13개의 분포 및 이상치를 확인하기 위해  박스플롯을 그려보았다.\n",
    "그려본 결과 PT_THICK,PT_WIDTH,FUR_HZ_TIME,FUR_SZ_TIME,ROLLING_TEMP_T5 총 5개 변수에서 이상치를 발견하였다. 이상치는 SCALE과의 영향을 분석하는 과정에서 다른 결과를 나타낼 수있기 때문에 제거하거나 대체값을 지정해주어야한다.\n"
   ]
  },
  {
   "cell_type": "code",
   "execution_count": 6,
   "metadata": {},
   "outputs": [
    {
     "data": {
      "text/plain": [
       "array([<matplotlib.axes._subplots.AxesSubplot object at 0x7fedcd307400>],\n",
       "      dtype=object)"
      ]
     },
     "execution_count": 6,
     "metadata": {},
     "output_type": "execute_result"
    },
    {
     "data": {
      "image/png": "[encoded data removed]",
      "text/plain": [
       "<Figure size 1440x360 with 2 Axes>"
      ]
     },
     "metadata": {
      "needs_background": "light"
     },
     "output_type": "display_data"
    }
   ],
   "source": [
    "df_strange1= df_raw[['PT_THK']]\n",
    "df_strange2= df_raw[['PT_WDTH']]\n",
    "df_strange3= df_raw[['FUR_HZ_TIME']]\n",
    "df_strange4= df_raw[['FUR_SZ_TIME']]\n",
    "df_strange5= df_raw[['ROLLING_TEMP_T5']]\n",
    "\n",
    "fig, ax =plt.subplots(nrows= 1, ncols =2, figsize = (20, 5))\n",
    "df_strange1.hist(figsize =(10,5), ax = ax[0])\n",
    "\n",
    "df_strange2.hist(figsize =(10,5), ax = ax[1])\n"
   ]
  },
  {
   "cell_type": "markdown",
   "metadata": {},
   "source": [
    "설명 변수 PT_THICK, PT_WIDTH, FUR_HZ_TIME, FUR_SZ_TIME, ROLLING_TEMP_T5의 이상치를 상세히 확인하기 \n",
    "위해 그려보았다. 상세하게 보니 PT_THICK는 편향된 분포를 보이긴 하지만, 이상치로 보이는 값은 없다.\n",
    "PT_WIDTH도 이상치로 보이는 값은 없다."
   ]
  },
  {
   "cell_type": "code",
   "execution_count": 109,
   "metadata": {},
   "outputs": [
    {
     "data": {
      "text/plain": [
       "array([<matplotlib.axes._subplots.AxesSubplot object at 0x7fedc7d0d340>],\n",
       "      dtype=object)"
      ]
     },
     "execution_count": 109,
     "metadata": {},
     "output_type": "execute_result"
    },
    {
     "data": {
      "image/png": "[encoded data removed]",
      "text/plain": [
       "<Figure size 1440x360 with 3 Axes>"
      ]
     },
     "metadata": {
      "needs_background": "light"
     },
     "output_type": "display_data"
    }
   ],
   "source": [
    "\n",
    "fig, ax =plt.subplots(nrows= 1, ncols =3, figsize = (20, 5))\n",
    "\n",
    "df_strange3.hist(figsize =(10,5), ax = ax[0])\n",
    "df_strange4.hist(figsize =(10,5), ax = ax[1])\n",
    "df_strange5.hist(figsize =(10,5), ax = ax[2])\n"
   ]
  },
  {
   "cell_type": "markdown",
   "metadata": {},
   "source": [
    "FUR_HZ_TIME변수는 250인 연결이 안되고 좀 동떨어진 곳에 관측치가 존재하지만, 큰차이가 시간차이가 심하게 나는 이상치로 보기어렵다. \n",
    "FUR_SZ_TIME변수에서는 이상치를 볼 수 없다.\n",
    "ROLLING_TEMP_T5는 600 미만의 값이 존재한다. \n",
    "해당변수는 압연 온도를 나타내는 변수인데, 압연이 상온에서 진행되는 것은 있을 수 없는 일이므로 이 값들은 이상치라고\n",
    "볼수있다.\n"
   ]
  },
  {
   "cell_type": "markdown",
   "metadata": {},
   "source": [
    "# ROLLING_TEMP_T5변수 이상치 처리"
   ]
  },
  {
   "cell_type": "code",
   "execution_count": 8,
   "metadata": {},
   "outputs": [
    {
     "data": {
      "text/html": [
       "<div>\n",
       "<style scoped>\n",
       "    .dataframe tbody tr th:only-of-type {\n",
       "        vertical-align: middle;\n",
       "    }\n",
       "\n",
       "    .dataframe tbody tr th {\n",
       "        vertical-align: top;\n",
       "    }\n",
       "\n",
       "    .dataframe thead th {\n",
       "        text-align: right;\n",
       "    }\n",
       "</style>\n",
       "<table border=\"1\" class=\"dataframe\">\n",
       "  <thead>\n",
       "    <tr style=\"text-align: right;\">\n",
       "      <th></th>\n",
       "      <th>SCALE</th>\n",
       "      <th>STEEL_KIND</th>\n",
       "      <th>PT_THK</th>\n",
       "      <th>PT_WDTH</th>\n",
       "      <th>PT_LTH</th>\n",
       "      <th>PT_WGT</th>\n",
       "      <th>FUR_NO</th>\n",
       "      <th>FUR_NO_ROW</th>\n",
       "      <th>FUR_HZ_TEMP</th>\n",
       "      <th>FUR_HZ_TIME</th>\n",
       "      <th>FUR_SZ_TEMP</th>\n",
       "      <th>FUR_SZ_TIME</th>\n",
       "      <th>FUR_TIME</th>\n",
       "      <th>FUR_EXTEMP</th>\n",
       "      <th>ROLLING_TEMP_T5</th>\n",
       "      <th>HSB</th>\n",
       "      <th>ROLLING_DESCALING</th>\n",
       "      <th>WORK_GR</th>\n",
       "    </tr>\n",
       "  </thead>\n",
       "  <tbody>\n",
       "    <tr>\n",
       "      <th>41</th>\n",
       "      <td>0</td>\n",
       "      <td>T8</td>\n",
       "      <td>55.51</td>\n",
       "      <td>3765</td>\n",
       "      <td>11398</td>\n",
       "      <td>37400</td>\n",
       "      <td>3호기</td>\n",
       "      <td>2</td>\n",
       "      <td>1132</td>\n",
       "      <td>95</td>\n",
       "      <td>1128</td>\n",
       "      <td>80</td>\n",
       "      <td>341</td>\n",
       "      <td>1128</td>\n",
       "      <td>0</td>\n",
       "      <td>적용</td>\n",
       "      <td>6</td>\n",
       "      <td>1조</td>\n",
       "    </tr>\n",
       "    <tr>\n",
       "      <th>184</th>\n",
       "      <td>0</td>\n",
       "      <td>C0</td>\n",
       "      <td>16.09</td>\n",
       "      <td>2221</td>\n",
       "      <td>43596</td>\n",
       "      <td>61150</td>\n",
       "      <td>3호기</td>\n",
       "      <td>1</td>\n",
       "      <td>1169</td>\n",
       "      <td>64</td>\n",
       "      <td>1164</td>\n",
       "      <td>61</td>\n",
       "      <td>308</td>\n",
       "      <td>1164</td>\n",
       "      <td>0</td>\n",
       "      <td>적용</td>\n",
       "      <td>10</td>\n",
       "      <td>3조</td>\n",
       "    </tr>\n",
       "    <tr>\n",
       "      <th>185</th>\n",
       "      <td>0</td>\n",
       "      <td>C0</td>\n",
       "      <td>16.09</td>\n",
       "      <td>2221</td>\n",
       "      <td>43596</td>\n",
       "      <td>61150</td>\n",
       "      <td>3호기</td>\n",
       "      <td>2</td>\n",
       "      <td>1163</td>\n",
       "      <td>57</td>\n",
       "      <td>1166</td>\n",
       "      <td>67</td>\n",
       "      <td>303</td>\n",
       "      <td>1166</td>\n",
       "      <td>0</td>\n",
       "      <td>적용</td>\n",
       "      <td>10</td>\n",
       "      <td>4조</td>\n",
       "    </tr>\n",
       "    <tr>\n",
       "      <th>494</th>\n",
       "      <td>0</td>\n",
       "      <td>T5</td>\n",
       "      <td>80.82</td>\n",
       "      <td>2085</td>\n",
       "      <td>12919</td>\n",
       "      <td>17090</td>\n",
       "      <td>2호기</td>\n",
       "      <td>1</td>\n",
       "      <td>1133</td>\n",
       "      <td>89</td>\n",
       "      <td>1122</td>\n",
       "      <td>59</td>\n",
       "      <td>378</td>\n",
       "      <td>1122</td>\n",
       "      <td>0</td>\n",
       "      <td>적용</td>\n",
       "      <td>6</td>\n",
       "      <td>2조</td>\n",
       "    </tr>\n",
       "    <tr>\n",
       "      <th>495</th>\n",
       "      <td>0</td>\n",
       "      <td>T5</td>\n",
       "      <td>80.82</td>\n",
       "      <td>2085</td>\n",
       "      <td>13176</td>\n",
       "      <td>17430</td>\n",
       "      <td>1호기</td>\n",
       "      <td>2</td>\n",
       "      <td>1130</td>\n",
       "      <td>92</td>\n",
       "      <td>1124</td>\n",
       "      <td>61</td>\n",
       "      <td>362</td>\n",
       "      <td>1124</td>\n",
       "      <td>0</td>\n",
       "      <td>적용</td>\n",
       "      <td>6</td>\n",
       "      <td>3조</td>\n",
       "    </tr>\n",
       "    <tr>\n",
       "      <th>496</th>\n",
       "      <td>0</td>\n",
       "      <td>T0</td>\n",
       "      <td>40.35</td>\n",
       "      <td>2497</td>\n",
       "      <td>23592</td>\n",
       "      <td>37320</td>\n",
       "      <td>3호기</td>\n",
       "      <td>1</td>\n",
       "      <td>1119</td>\n",
       "      <td>109</td>\n",
       "      <td>1117</td>\n",
       "      <td>76</td>\n",
       "      <td>383</td>\n",
       "      <td>1117</td>\n",
       "      <td>0</td>\n",
       "      <td>적용</td>\n",
       "      <td>6</td>\n",
       "      <td>3조</td>\n",
       "    </tr>\n",
       "  </tbody>\n",
       "</table>\n",
       "</div>"
      ],
      "text/plain": [
       "     SCALE STEEL_KIND  PT_THK  PT_WDTH  PT_LTH  PT_WGT FUR_NO FUR_NO_ROW  \\\n",
       "41       0         T8   55.51     3765   11398   37400    3호기          2   \n",
       "184      0         C0   16.09     2221   43596   61150    3호기          1   \n",
       "185      0         C0   16.09     2221   43596   61150    3호기          2   \n",
       "494      0         T5   80.82     2085   12919   17090    2호기          1   \n",
       "495      0         T5   80.82     2085   13176   17430    1호기          2   \n",
       "496      0         T0   40.35     2497   23592   37320    3호기          1   \n",
       "\n",
       "     FUR_HZ_TEMP  FUR_HZ_TIME  FUR_SZ_TEMP  FUR_SZ_TIME  FUR_TIME  FUR_EXTEMP  \\\n",
       "41          1132           95         1128           80       341        1128   \n",
       "184         1169           64         1164           61       308        1164   \n",
       "185         1163           57         1166           67       303        1166   \n",
       "494         1133           89         1122           59       378        1122   \n",
       "495         1130           92         1124           61       362        1124   \n",
       "496         1119          109         1117           76       383        1117   \n",
       "\n",
       "     ROLLING_TEMP_T5 HSB  ROLLING_DESCALING WORK_GR  \n",
       "41                 0  적용                  6      1조  \n",
       "184                0  적용                 10      3조  \n",
       "185                0  적용                 10      4조  \n",
       "494                0  적용                  6      2조  \n",
       "495                0  적용                  6      3조  \n",
       "496                0  적용                  6      3조  "
      ]
     },
     "execution_count": 8,
     "metadata": {},
     "output_type": "execute_result"
    }
   ],
   "source": [
    "df_raw[df_raw['ROLLING_TEMP_T5']<= 600]"
   ]
  },
  {
   "cell_type": "markdown",
   "metadata": {},
   "source": [
    "이상치를 처리하기 전에 해당 값을 출력해보았다.\n",
    "처음에는 이상치를 ROLLING_TEMP_T5의 평균으로 대체할까 생각도 했지만, \n",
    "이상치를 출력해보니 이상치 의 강종이 CO, T0, T5, T8으로 서로 달랐기때문에 이 방법은 어려웠다.\n",
    "데이터수가 6개로 삭제해도 영향이 크지 않을 것이라 판단하고, 삭제하겠다."
   ]
  },
  {
   "cell_type": "code",
   "execution_count": 9,
   "metadata": {},
   "outputs": [],
   "source": [
    "df_raw = df_raw[df_raw['ROLLING_TEMP_T5']>= 600]\n",
    "\n",
    "\n",
    "# fig, ax =plt.subplots(nrows= 1, ncols =2, figsize = (20, 5))\n",
    "# df_raw[['ROLLING_TEMP_T5']].boxplot(figsize =(20,10),ax = ax[0])\n",
    "# df_raw[['ROLLING_TEMP_T5']].hist(figsize =(20,10), ax = ax[1])\n"
   ]
  },
  {
   "cell_type": "code",
   "execution_count": 10,
   "metadata": {},
   "outputs": [
    {
     "data": {
      "text/html": [
       "<div>\n",
       "<style scoped>\n",
       "    .dataframe tbody tr th:only-of-type {\n",
       "        vertical-align: middle;\n",
       "    }\n",
       "\n",
       "    .dataframe tbody tr th {\n",
       "        vertical-align: top;\n",
       "    }\n",
       "\n",
       "    .dataframe thead th {\n",
       "        text-align: right;\n",
       "    }\n",
       "</style>\n",
       "<table border=\"1\" class=\"dataframe\">\n",
       "  <thead>\n",
       "    <tr style=\"text-align: right;\">\n",
       "      <th></th>\n",
       "      <th>SCALE</th>\n",
       "      <th>STEEL_KIND</th>\n",
       "      <th>PT_THK</th>\n",
       "      <th>PT_WDTH</th>\n",
       "      <th>PT_LTH</th>\n",
       "      <th>PT_WGT</th>\n",
       "      <th>FUR_NO</th>\n",
       "      <th>FUR_NO_ROW</th>\n",
       "      <th>FUR_HZ_TEMP</th>\n",
       "      <th>FUR_HZ_TIME</th>\n",
       "      <th>FUR_SZ_TEMP</th>\n",
       "      <th>FUR_SZ_TIME</th>\n",
       "      <th>FUR_TIME</th>\n",
       "      <th>FUR_EXTEMP</th>\n",
       "      <th>ROLLING_TEMP_T5</th>\n",
       "      <th>HSB</th>\n",
       "      <th>ROLLING_DESCALING</th>\n",
       "      <th>WORK_GR</th>\n",
       "    </tr>\n",
       "  </thead>\n",
       "  <tbody>\n",
       "    <tr>\n",
       "      <th>0</th>\n",
       "      <td>0</td>\n",
       "      <td>T1</td>\n",
       "      <td>32.25</td>\n",
       "      <td>3707</td>\n",
       "      <td>15109</td>\n",
       "      <td>14180</td>\n",
       "      <td>1호기</td>\n",
       "      <td>1</td>\n",
       "      <td>1144</td>\n",
       "      <td>116</td>\n",
       "      <td>1133</td>\n",
       "      <td>59</td>\n",
       "      <td>282</td>\n",
       "      <td>1133</td>\n",
       "      <td>934</td>\n",
       "      <td>적용</td>\n",
       "      <td>8</td>\n",
       "      <td>2조</td>\n",
       "    </tr>\n",
       "    <tr>\n",
       "      <th>1</th>\n",
       "      <td>0</td>\n",
       "      <td>T1</td>\n",
       "      <td>32.25</td>\n",
       "      <td>3707</td>\n",
       "      <td>15109</td>\n",
       "      <td>14180</td>\n",
       "      <td>1호기</td>\n",
       "      <td>2</td>\n",
       "      <td>1144</td>\n",
       "      <td>122</td>\n",
       "      <td>1135</td>\n",
       "      <td>53</td>\n",
       "      <td>283</td>\n",
       "      <td>1135</td>\n",
       "      <td>937</td>\n",
       "      <td>적용</td>\n",
       "      <td>8</td>\n",
       "      <td>2조</td>\n",
       "    </tr>\n",
       "    <tr>\n",
       "      <th>2</th>\n",
       "      <td>0</td>\n",
       "      <td>T8</td>\n",
       "      <td>33.27</td>\n",
       "      <td>3619</td>\n",
       "      <td>19181</td>\n",
       "      <td>18130</td>\n",
       "      <td>2호기</td>\n",
       "      <td>1</td>\n",
       "      <td>1129</td>\n",
       "      <td>116</td>\n",
       "      <td>1121</td>\n",
       "      <td>55</td>\n",
       "      <td>282</td>\n",
       "      <td>1121</td>\n",
       "      <td>889</td>\n",
       "      <td>적용</td>\n",
       "      <td>8</td>\n",
       "      <td>3조</td>\n",
       "    </tr>\n",
       "    <tr>\n",
       "      <th>3</th>\n",
       "      <td>0</td>\n",
       "      <td>T8</td>\n",
       "      <td>33.27</td>\n",
       "      <td>3619</td>\n",
       "      <td>19181</td>\n",
       "      <td>18130</td>\n",
       "      <td>2호기</td>\n",
       "      <td>2</td>\n",
       "      <td>1152</td>\n",
       "      <td>125</td>\n",
       "      <td>1127</td>\n",
       "      <td>68</td>\n",
       "      <td>316</td>\n",
       "      <td>1127</td>\n",
       "      <td>885</td>\n",
       "      <td>적용</td>\n",
       "      <td>8</td>\n",
       "      <td>3조</td>\n",
       "    </tr>\n",
       "    <tr>\n",
       "      <th>4</th>\n",
       "      <td>0</td>\n",
       "      <td>T8</td>\n",
       "      <td>38.33</td>\n",
       "      <td>3098</td>\n",
       "      <td>13334</td>\n",
       "      <td>12430</td>\n",
       "      <td>3호기</td>\n",
       "      <td>1</td>\n",
       "      <td>1140</td>\n",
       "      <td>134</td>\n",
       "      <td>1128</td>\n",
       "      <td>48</td>\n",
       "      <td>314</td>\n",
       "      <td>1128</td>\n",
       "      <td>873</td>\n",
       "      <td>적용</td>\n",
       "      <td>8</td>\n",
       "      <td>1조</td>\n",
       "    </tr>\n",
       "    <tr>\n",
       "      <th>...</th>\n",
       "      <td>...</td>\n",
       "      <td>...</td>\n",
       "      <td>...</td>\n",
       "      <td>...</td>\n",
       "      <td>...</td>\n",
       "      <td>...</td>\n",
       "      <td>...</td>\n",
       "      <td>...</td>\n",
       "      <td>...</td>\n",
       "      <td>...</td>\n",
       "      <td>...</td>\n",
       "      <td>...</td>\n",
       "      <td>...</td>\n",
       "      <td>...</td>\n",
       "      <td>...</td>\n",
       "      <td>...</td>\n",
       "      <td>...</td>\n",
       "      <td>...</td>\n",
       "    </tr>\n",
       "    <tr>\n",
       "      <th>715</th>\n",
       "      <td>1</td>\n",
       "      <td>C0</td>\n",
       "      <td>20.14</td>\n",
       "      <td>3580</td>\n",
       "      <td>38639</td>\n",
       "      <td>21870</td>\n",
       "      <td>3호기</td>\n",
       "      <td>1</td>\n",
       "      <td>1172</td>\n",
       "      <td>72</td>\n",
       "      <td>1164</td>\n",
       "      <td>62</td>\n",
       "      <td>245</td>\n",
       "      <td>1164</td>\n",
       "      <td>1005</td>\n",
       "      <td>적용</td>\n",
       "      <td>8</td>\n",
       "      <td>2조</td>\n",
       "    </tr>\n",
       "    <tr>\n",
       "      <th>716</th>\n",
       "      <td>0</td>\n",
       "      <td>C0</td>\n",
       "      <td>15.08</td>\n",
       "      <td>3212</td>\n",
       "      <td>48233</td>\n",
       "      <td>18340</td>\n",
       "      <td>2호기</td>\n",
       "      <td>1</td>\n",
       "      <td>1150</td>\n",
       "      <td>61</td>\n",
       "      <td>1169</td>\n",
       "      <td>61</td>\n",
       "      <td>238</td>\n",
       "      <td>1169</td>\n",
       "      <td>947</td>\n",
       "      <td>적용</td>\n",
       "      <td>10</td>\n",
       "      <td>1조</td>\n",
       "    </tr>\n",
       "    <tr>\n",
       "      <th>717</th>\n",
       "      <td>0</td>\n",
       "      <td>C0</td>\n",
       "      <td>16.60</td>\n",
       "      <td>3441</td>\n",
       "      <td>43688</td>\n",
       "      <td>19590</td>\n",
       "      <td>2호기</td>\n",
       "      <td>2</td>\n",
       "      <td>1169</td>\n",
       "      <td>65</td>\n",
       "      <td>1163</td>\n",
       "      <td>77</td>\n",
       "      <td>247</td>\n",
       "      <td>1163</td>\n",
       "      <td>948</td>\n",
       "      <td>적용</td>\n",
       "      <td>10</td>\n",
       "      <td>4조</td>\n",
       "    </tr>\n",
       "    <tr>\n",
       "      <th>718</th>\n",
       "      <td>0</td>\n",
       "      <td>C0</td>\n",
       "      <td>15.59</td>\n",
       "      <td>3363</td>\n",
       "      <td>48740</td>\n",
       "      <td>80240</td>\n",
       "      <td>3호기</td>\n",
       "      <td>2</td>\n",
       "      <td>1179</td>\n",
       "      <td>86</td>\n",
       "      <td>1163</td>\n",
       "      <td>45</td>\n",
       "      <td>243</td>\n",
       "      <td>1163</td>\n",
       "      <td>940</td>\n",
       "      <td>적용</td>\n",
       "      <td>10</td>\n",
       "      <td>2조</td>\n",
       "    </tr>\n",
       "    <tr>\n",
       "      <th>719</th>\n",
       "      <td>0</td>\n",
       "      <td>C0</td>\n",
       "      <td>16.09</td>\n",
       "      <td>3400</td>\n",
       "      <td>54209</td>\n",
       "      <td>69840</td>\n",
       "      <td>3호기</td>\n",
       "      <td>1</td>\n",
       "      <td>1186</td>\n",
       "      <td>82</td>\n",
       "      <td>1169</td>\n",
       "      <td>45</td>\n",
       "      <td>239</td>\n",
       "      <td>1169</td>\n",
       "      <td>957</td>\n",
       "      <td>적용</td>\n",
       "      <td>10</td>\n",
       "      <td>2조</td>\n",
       "    </tr>\n",
       "  </tbody>\n",
       "</table>\n",
       "<p>714 rows × 18 columns</p>\n",
       "</div>"
      ],
      "text/plain": [
       "     SCALE STEEL_KIND  PT_THK  PT_WDTH  PT_LTH  PT_WGT FUR_NO FUR_NO_ROW  \\\n",
       "0        0         T1   32.25     3707   15109   14180    1호기          1   \n",
       "1        0         T1   32.25     3707   15109   14180    1호기          2   \n",
       "2        0         T8   33.27     3619   19181   18130    2호기          1   \n",
       "3        0         T8   33.27     3619   19181   18130    2호기          2   \n",
       "4        0         T8   38.33     3098   13334   12430    3호기          1   \n",
       "..     ...        ...     ...      ...     ...     ...    ...        ...   \n",
       "715      1         C0   20.14     3580   38639   21870    3호기          1   \n",
       "716      0         C0   15.08     3212   48233   18340    2호기          1   \n",
       "717      0         C0   16.60     3441   43688   19590    2호기          2   \n",
       "718      0         C0   15.59     3363   48740   80240    3호기          2   \n",
       "719      0         C0   16.09     3400   54209   69840    3호기          1   \n",
       "\n",
       "     FUR_HZ_TEMP  FUR_HZ_TIME  FUR_SZ_TEMP  FUR_SZ_TIME  FUR_TIME  FUR_EXTEMP  \\\n",
       "0           1144          116         1133           59       282        1133   \n",
       "1           1144          122         1135           53       283        1135   \n",
       "2           1129          116         1121           55       282        1121   \n",
       "3           1152          125         1127           68       316        1127   \n",
       "4           1140          134         1128           48       314        1128   \n",
       "..           ...          ...          ...          ...       ...         ...   \n",
       "715         1172           72         1164           62       245        1164   \n",
       "716         1150           61         1169           61       238        1169   \n",
       "717         1169           65         1163           77       247        1163   \n",
       "718         1179           86         1163           45       243        1163   \n",
       "719         1186           82         1169           45       239        1169   \n",
       "\n",
       "     ROLLING_TEMP_T5 HSB  ROLLING_DESCALING WORK_GR  \n",
       "0                934  적용                  8      2조  \n",
       "1                937  적용                  8      2조  \n",
       "2                889  적용                  8      3조  \n",
       "3                885  적용                  8      3조  \n",
       "4                873  적용                  8      1조  \n",
       "..               ...  ..                ...     ...  \n",
       "715             1005  적용                  8      2조  \n",
       "716              947  적용                 10      1조  \n",
       "717              948  적용                 10      4조  \n",
       "718              940  적용                 10      2조  \n",
       "719              957  적용                 10      2조  \n",
       "\n",
       "[714 rows x 18 columns]"
      ]
     },
     "execution_count": 10,
     "metadata": {},
     "output_type": "execute_result"
    }
   ],
   "source": [
    "df_raw"
   ]
  },
  {
   "cell_type": "code",
   "execution_count": 11,
   "metadata": {},
   "outputs": [
    {
     "data": {
      "text/html": [
       "<div>\n",
       "<style scoped>\n",
       "    .dataframe tbody tr th:only-of-type {\n",
       "        vertical-align: middle;\n",
       "    }\n",
       "\n",
       "    .dataframe tbody tr th {\n",
       "        vertical-align: top;\n",
       "    }\n",
       "\n",
       "    .dataframe thead th {\n",
       "        text-align: right;\n",
       "    }\n",
       "</style>\n",
       "<table border=\"1\" class=\"dataframe\">\n",
       "  <thead>\n",
       "    <tr style=\"text-align: right;\">\n",
       "      <th></th>\n",
       "      <th>SCALE</th>\n",
       "      <th>STEEL_KIND</th>\n",
       "      <th>PT_THK</th>\n",
       "      <th>PT_WDTH</th>\n",
       "      <th>PT_LTH</th>\n",
       "      <th>PT_WGT</th>\n",
       "      <th>FUR_NO</th>\n",
       "      <th>FUR_NO_ROW</th>\n",
       "      <th>FUR_HZ_TEMP</th>\n",
       "      <th>FUR_HZ_TIME</th>\n",
       "      <th>FUR_SZ_TEMP</th>\n",
       "      <th>FUR_SZ_TIME</th>\n",
       "      <th>FUR_TIME</th>\n",
       "      <th>FUR_EXTEMP</th>\n",
       "      <th>ROLLING_TEMP_T5</th>\n",
       "      <th>HSB</th>\n",
       "      <th>ROLLING_DESCALING</th>\n",
       "      <th>WORK_GR</th>\n",
       "    </tr>\n",
       "  </thead>\n",
       "  <tbody>\n",
       "  </tbody>\n",
       "</table>\n",
       "</div>"
      ],
      "text/plain": [
       "Empty DataFrame\n",
       "Columns: [SCALE, STEEL_KIND, PT_THK, PT_WDTH, PT_LTH, PT_WGT, FUR_NO, FUR_NO_ROW, FUR_HZ_TEMP, FUR_HZ_TIME, FUR_SZ_TEMP, FUR_SZ_TIME, FUR_TIME, FUR_EXTEMP, ROLLING_TEMP_T5, HSB, ROLLING_DESCALING, WORK_GR]\n",
       "Index: []"
      ]
     },
     "execution_count": 11,
     "metadata": {},
     "output_type": "execute_result"
    }
   ],
   "source": [
    "df_raw[df_raw['ROLLING_TEMP_T5']<= 600]"
   ]
  },
  {
   "cell_type": "code",
   "execution_count": 12,
   "metadata": {},
   "outputs": [
    {
     "data": {
      "text/plain": [
       "array([<matplotlib.axes._subplots.AxesSubplot object at 0x7fedcd11eb80>],\n",
       "      dtype=object)"
      ]
     },
     "execution_count": 12,
     "metadata": {},
     "output_type": "execute_result"
    },
    {
     "data": {
      "image/png": "[encoded data removed]",
      "text/plain": [
       "<Figure size 1440x360 with 2 Axes>"
      ]
     },
     "metadata": {
      "needs_background": "light"
     },
     "output_type": "display_data"
    }
   ],
   "source": [
    "fig, ax =plt.subplots(nrows= 1, ncols =2, figsize = (20, 5))\n",
    "df_raw[['ROLLING_TEMP_T5']].boxplot(figsize =(20,10),ax = ax[0])\n",
    "df_raw[['ROLLING_TEMP_T5']].hist(figsize =(20,10), ax = ax[1])"
   ]
  },
  {
   "cell_type": "markdown",
   "metadata": {},
   "source": [
    "이상치를 제거한 후 박스플롯과 히스토그램이다.\n",
    "박스플롯을 보면 이상치 처럼 보이는 값이 하나 있는데 이는 특정 강종의 수가 대다수 인 해당되는 데이터 중에서\n",
    "소수의 강종 데이터가 이상치로 표현 될 수있기때문에 이상치라고 볼수없다."
   ]
  },
  {
   "cell_type": "code",
   "execution_count": 13,
   "metadata": {
    "scrolled": true
   },
   "outputs": [
    {
     "name": "stdout",
     "output_type": "stream",
     "text": [
      "<class 'pandas.core.frame.DataFrame'>\n",
      "Int64Index: 714 entries, 0 to 719\n",
      "Data columns (total 13 columns):\n",
      " #   Column             Non-Null Count  Dtype  \n",
      "---  ------             --------------  -----  \n",
      " 0   SCALE              714 non-null    int64  \n",
      " 1   PT_THK             714 non-null    float64\n",
      " 2   PT_WDTH            714 non-null    int64  \n",
      " 3   PT_LTH             714 non-null    int64  \n",
      " 4   PT_WGT             714 non-null    int64  \n",
      " 5   FUR_HZ_TEMP        714 non-null    int64  \n",
      " 6   FUR_HZ_TIME        714 non-null    int64  \n",
      " 7   FUR_SZ_TEMP        714 non-null    int64  \n",
      " 8   FUR_SZ_TIME        714 non-null    int64  \n",
      " 9   FUR_TIME           714 non-null    int64  \n",
      " 10  FUR_EXTEMP         714 non-null    int64  \n",
      " 11  ROLLING_TEMP_T5    714 non-null    int64  \n",
      " 12  ROLLING_DESCALING  714 non-null    int64  \n",
      "dtypes: float64(1), int64(12)\n",
      "memory usage: 78.1 KB\n"
     ]
    }
   ],
   "source": [
    "df_raw_numeric = df_raw.select_dtypes(exclude = 'object')\n",
    "df_raw_numeric.head()\n",
    "df_raw_numeric.info()"
   ]
  },
  {
   "cell_type": "code",
   "execution_count": 14,
   "metadata": {},
   "outputs": [
    {
     "data": {
      "text/html": [
       "<div>\n",
       "<style scoped>\n",
       "    .dataframe tbody tr th:only-of-type {\n",
       "        vertical-align: middle;\n",
       "    }\n",
       "\n",
       "    .dataframe tbody tr th {\n",
       "        vertical-align: top;\n",
       "    }\n",
       "\n",
       "    .dataframe thead th {\n",
       "        text-align: right;\n",
       "    }\n",
       "</style>\n",
       "<table border=\"1\" class=\"dataframe\">\n",
       "  <thead>\n",
       "    <tr style=\"text-align: right;\">\n",
       "      <th></th>\n",
       "      <th>SCALE</th>\n",
       "      <th>PT_THK</th>\n",
       "      <th>PT_WDTH</th>\n",
       "      <th>PT_LTH</th>\n",
       "      <th>PT_WGT</th>\n",
       "      <th>FUR_HZ_TEMP</th>\n",
       "      <th>FUR_HZ_TIME</th>\n",
       "      <th>FUR_SZ_TEMP</th>\n",
       "      <th>FUR_SZ_TIME</th>\n",
       "      <th>FUR_TIME</th>\n",
       "      <th>FUR_EXTEMP</th>\n",
       "      <th>ROLLING_TEMP_T5</th>\n",
       "      <th>ROLLING_DESCALING</th>\n",
       "    </tr>\n",
       "  </thead>\n",
       "  <tbody>\n",
       "    <tr>\n",
       "      <th>0</th>\n",
       "      <td>0</td>\n",
       "      <td>32.25</td>\n",
       "      <td>3707</td>\n",
       "      <td>15109</td>\n",
       "      <td>14180</td>\n",
       "      <td>1144</td>\n",
       "      <td>116</td>\n",
       "      <td>1133</td>\n",
       "      <td>59</td>\n",
       "      <td>282</td>\n",
       "      <td>1133</td>\n",
       "      <td>934</td>\n",
       "      <td>8</td>\n",
       "    </tr>\n",
       "    <tr>\n",
       "      <th>1</th>\n",
       "      <td>0</td>\n",
       "      <td>32.25</td>\n",
       "      <td>3707</td>\n",
       "      <td>15109</td>\n",
       "      <td>14180</td>\n",
       "      <td>1144</td>\n",
       "      <td>122</td>\n",
       "      <td>1135</td>\n",
       "      <td>53</td>\n",
       "      <td>283</td>\n",
       "      <td>1135</td>\n",
       "      <td>937</td>\n",
       "      <td>8</td>\n",
       "    </tr>\n",
       "    <tr>\n",
       "      <th>2</th>\n",
       "      <td>0</td>\n",
       "      <td>33.27</td>\n",
       "      <td>3619</td>\n",
       "      <td>19181</td>\n",
       "      <td>18130</td>\n",
       "      <td>1129</td>\n",
       "      <td>116</td>\n",
       "      <td>1121</td>\n",
       "      <td>55</td>\n",
       "      <td>282</td>\n",
       "      <td>1121</td>\n",
       "      <td>889</td>\n",
       "      <td>8</td>\n",
       "    </tr>\n",
       "    <tr>\n",
       "      <th>3</th>\n",
       "      <td>0</td>\n",
       "      <td>33.27</td>\n",
       "      <td>3619</td>\n",
       "      <td>19181</td>\n",
       "      <td>18130</td>\n",
       "      <td>1152</td>\n",
       "      <td>125</td>\n",
       "      <td>1127</td>\n",
       "      <td>68</td>\n",
       "      <td>316</td>\n",
       "      <td>1127</td>\n",
       "      <td>885</td>\n",
       "      <td>8</td>\n",
       "    </tr>\n",
       "    <tr>\n",
       "      <th>4</th>\n",
       "      <td>0</td>\n",
       "      <td>38.33</td>\n",
       "      <td>3098</td>\n",
       "      <td>13334</td>\n",
       "      <td>12430</td>\n",
       "      <td>1140</td>\n",
       "      <td>134</td>\n",
       "      <td>1128</td>\n",
       "      <td>48</td>\n",
       "      <td>314</td>\n",
       "      <td>1128</td>\n",
       "      <td>873</td>\n",
       "      <td>8</td>\n",
       "    </tr>\n",
       "  </tbody>\n",
       "</table>\n",
       "</div>"
      ],
      "text/plain": [
       "   SCALE  PT_THK  PT_WDTH  PT_LTH  PT_WGT  FUR_HZ_TEMP  FUR_HZ_TIME  \\\n",
       "0      0   32.25     3707   15109   14180         1144          116   \n",
       "1      0   32.25     3707   15109   14180         1144          122   \n",
       "2      0   33.27     3619   19181   18130         1129          116   \n",
       "3      0   33.27     3619   19181   18130         1152          125   \n",
       "4      0   38.33     3098   13334   12430         1140          134   \n",
       "\n",
       "   FUR_SZ_TEMP  FUR_SZ_TIME  FUR_TIME  FUR_EXTEMP  ROLLING_TEMP_T5  \\\n",
       "0         1133           59       282        1133              934   \n",
       "1         1135           53       283        1135              937   \n",
       "2         1121           55       282        1121              889   \n",
       "3         1127           68       316        1127              885   \n",
       "4         1128           48       314        1128              873   \n",
       "\n",
       "   ROLLING_DESCALING  \n",
       "0                  8  \n",
       "1                  8  \n",
       "2                  8  \n",
       "3                  8  \n",
       "4                  8  "
      ]
     },
     "execution_count": 14,
     "metadata": {},
     "output_type": "execute_result"
    }
   ],
   "source": [
    "df_raw_numeric_x = df_raw_numeric\n",
    "df_raw_numeric_y = df_raw[\"SCALE\"]\n",
    "df_raw_numeric_x.head()"
   ]
  },
  {
   "cell_type": "markdown",
   "metadata": {},
   "source": [
    "# 연속형 변수 탐색적 분석(EDA)"
   ]
  },
  {
   "cell_type": "markdown",
   "metadata": {},
   "source": [
    "#### 목표 변수 SCALE에 대한 PT_THK와 STEEL_KIND 변수의 영향 확인"
   ]
  },
  {
   "cell_type": "code",
   "execution_count": 15,
   "metadata": {},
   "outputs": [
    {
     "data": {
      "text/plain": [
       "count    714.000000\n",
       "mean      29.108091\n",
       "std       18.994878\n",
       "min       12.030000\n",
       "25%       16.090000\n",
       "50%       20.130000\n",
       "75%       38.430000\n",
       "max      100.340000\n",
       "Name: PT_THK, dtype: float64"
      ]
     },
     "execution_count": 15,
     "metadata": {},
     "output_type": "execute_result"
    }
   ],
   "source": [
    "#가장 먼저 PT_THK의 기술통계량을 확인하였다. \n",
    "df_raw['PT_THK'].describe()"
   ]
  },
  {
   "cell_type": "code",
   "execution_count": 110,
   "metadata": {},
   "outputs": [
    {
     "data": {
      "text/plain": [
       "array([[<matplotlib.axes._subplots.AxesSubplot object at 0x7fedc69f9940>]],\n",
       "      dtype=object)"
      ]
     },
     "execution_count": 110,
     "metadata": {},
     "output_type": "execute_result"
    },
    {
     "data": {
      "image/png": "[encoded data removed]",
      "text/plain": [
       "<Figure size 432x288 with 1 Axes>"
      ]
     },
     "metadata": {
      "needs_background": "light"
     },
     "output_type": "display_data"
    }
   ],
   "source": [
    "#이제 5개의 변수 하나하나의 히스토그램을 그려서 이상치를 확인해보자.\n",
    "df_raw[['PT_THK']].hist()\n",
    "\n"
   ]
  },
  {
   "cell_type": "markdown",
   "metadata": {},
   "source": [
    "#해당 설명변수는 이상치로 보이는 것은 없는 것 같다.\n",
    "#이상치는 없지만, 다른 인사이트를 찾을 수 있을 것같아서 히스토그램을 들여다 보았다.\n",
    "#아래의 히스토그램에 대해 고증을 해보자면 강종별로 두께의 범위가 다르다는 도메인지식으로  \n",
    " 12mm~약 20mm, 20mm이상~55mm이하 , 56MM~100mm로 집단이 나누어 질 수도 있겠다는 생각이 들었다.\n",
    "#혹시나 STEEL_KIND변수에서 스케일 불량 인자를 찾을 수도 있을 것 같다는 생각에 STEEL KIND종류 별 갯수,STEEL KIND종류에 따른 두께를 알아보았다.\n"
   ]
  },
  {
   "cell_type": "code",
   "execution_count": 17,
   "metadata": {},
   "outputs": [
    {
     "data": {
      "text/plain": [
       "<matplotlib.axes._subplots.AxesSubplot at 0x7fedcd043d90>"
      ]
     },
     "execution_count": 17,
     "metadata": {},
     "output_type": "execute_result"
    },
    {
     "data": {
      "image/png": "[encoded data removed]",
      "text/plain": [
       "<Figure size 432x288 with 1 Axes>"
      ]
     },
     "metadata": {
      "needs_background": "light"
     },
     "output_type": "display_data"
    }
   ],
   "source": [
    "df_raw['STEEL_KIND'].value_counts().plot.bar()"
   ]
  },
  {
   "cell_type": "code",
   "execution_count": 18,
   "metadata": {},
   "outputs": [
    {
     "data": {
      "text/plain": [
       "C0    501\n",
       "T8     94\n",
       "T5     41\n",
       "T7     35\n",
       "T1     18\n",
       "T0     15\n",
       "C3      7\n",
       "T3      2\n",
       "C1      1\n",
       "Name: STEEL_KIND, dtype: int64"
      ]
     },
     "execution_count": 18,
     "metadata": {},
     "output_type": "execute_result"
    }
   ],
   "source": [
    "df_raw['STEEL_KIND'].value_counts()"
   ]
  },
  {
   "cell_type": "markdown",
   "metadata": {},
   "source": [
    "#위의 막대 그래프와 아래의 표를 통해서 T강종에 비해 C 강종이 513개로 가장많았다."
   ]
  },
  {
   "cell_type": "code",
   "execution_count": 19,
   "metadata": {},
   "outputs": [
    {
     "data": {
      "text/plain": [
       "count    714.000000\n",
       "mean      29.108091\n",
       "std       18.994878\n",
       "min       12.030000\n",
       "25%       16.090000\n",
       "50%       20.130000\n",
       "75%       38.430000\n",
       "max      100.340000\n",
       "Name: PT_THK, dtype: float64"
      ]
     },
     "execution_count": 19,
     "metadata": {},
     "output_type": "execute_result"
    }
   ],
   "source": [
    "df_raw['PT_THK'].describe()"
   ]
  },
  {
   "cell_type": "code",
   "execution_count": 20,
   "metadata": {},
   "outputs": [
    {
     "data": {
      "text/plain": [
       "array([[<matplotlib.axes._subplots.AxesSubplot object at 0x7fedccfb2370>,\n",
       "        <matplotlib.axes._subplots.AxesSubplot object at 0x7fedccc198e0>,\n",
       "        <matplotlib.axes._subplots.AxesSubplot object at 0x7fedccbc7d60>],\n",
       "       [<matplotlib.axes._subplots.AxesSubplot object at 0x7fedccb7e1f0>,\n",
       "        <matplotlib.axes._subplots.AxesSubplot object at 0x7fedccbac670>,\n",
       "        <matplotlib.axes._subplots.AxesSubplot object at 0x7fedccb58a00>],\n",
       "       [<matplotlib.axes._subplots.AxesSubplot object at 0x7fedccb58af0>,\n",
       "        <matplotlib.axes._subplots.AxesSubplot object at 0x7fedccb05fa0>,\n",
       "        <matplotlib.axes._subplots.AxesSubplot object at 0x7fedccae87f0>]],\n",
       "      dtype=object)"
      ]
     },
     "execution_count": 20,
     "metadata": {},
     "output_type": "execute_result"
    },
    {
     "data": {
      "image/png": "[encoded data removed]",
      "text/plain": [
       "<Figure size 1080x720 with 9 Axes>"
      ]
     },
     "metadata": {
      "needs_background": "light"
     },
     "output_type": "display_data"
    }
   ],
   "source": [
    "df_raw.hist(column='PT_THK',by= 'STEEL_KIND',range= (12,110),figsize =(15,10))\n"
   ]
  },
  {
   "cell_type": "markdown",
   "metadata": {},
   "source": [
    "강종별 두께의 분포를 알고 싶어서 강종별 히스토그램을 한개 씩 그려보았다.\n",
    " 위에 두께 분포를 보고 분류했던 강종집단을 아래의 히스토그램들을 통해 명확하게 확일할 수 있는데, \n",
    "명확하게 나눌수는 없었다. 다만 C 강종집단의 두께의 분포가 14.8MM~ 48MM정도인 것을 확인 할 수 있었고,\n",
    "T 강종집단의분포는 12MM~100.34mm로 12~ 48mm까지 두 강종집단의 두께분포가 겹치는 것을 확인 할 수있었다."
   ]
  },
  {
   "cell_type": "code",
   "execution_count": 21,
   "metadata": {},
   "outputs": [],
   "source": [
    "#이제 목표변수인 스케일과 강종 및 두께 히스토그램을 한번에 그려보자\n",
    "def my_plot(data, var1):\n",
    "    \n",
    "    \n",
    "    plt.hist(data[data['SCALE']==0][var1],label ='양품', alpha =0.5)\n",
    "    plt.hist(data[data['SCALE']==1][var1], label ='불량', alpha =0.5)\n",
    "    plt.xlabel(var1)\n",
    "    plt.ylabel('해당 설명변수에 따른 Scale분포')\n",
    "    plt.legend()    "
   ]
  },
  {
   "cell_type": "code",
   "execution_count": 22,
   "metadata": {},
   "outputs": [
    {
     "data": {
      "image/png": "[encoded data removed]",
      "text/plain": [
       "<Figure size 432x288 with 1 Axes>"
      ]
     },
     "metadata": {
      "needs_background": "light"
     },
     "output_type": "display_data"
    }
   ],
   "source": [
    "my_plot(df_raw, 'PT_THK')"
   ]
  },
  {
   "cell_type": "markdown",
   "metadata": {},
   "source": [
    "해당 그래프를 보니 두께가 얊은 제품에 불량이 주로 분포했다.\n",
    "위의 분석으로 얻은 두께가 얇은 강종은 c강종이 대부분이다는 결과를 토대로 \n",
    "STEEL KIND 별 불량분포를 그려보았다."
   ]
  },
  {
   "cell_type": "code",
   "execution_count": 23,
   "metadata": {
    "scrolled": true
   },
   "outputs": [
    {
     "data": {
      "image/png": "[encoded data removed]",
      "text/plain": [
       "<Figure size 432x288 with 1 Axes>"
      ]
     },
     "metadata": {
      "needs_background": "light"
     },
     "output_type": "display_data"
    }
   ],
   "source": [
    "my_plot(df_raw, 'STEEL_KIND')"
   ]
  },
  {
   "cell_type": "markdown",
   "metadata": {},
   "source": [
    "히스토그램을 그렸더니, C0 강종에서 많은 불량을 낸 것을 알 수있었다. \n",
    "C0강종의 불량율을 아래에서 구해보자"
   ]
  },
  {
   "cell_type": "code",
   "execution_count": 24,
   "metadata": {},
   "outputs": [
    {
     "data": {
      "text/plain": [
       "6"
      ]
     },
     "execution_count": 24,
     "metadata": {},
     "output_type": "execute_result"
    }
   ],
   "source": [
    "# 전체 불량 갯수\n",
    "df_all=df_raw[df_raw['SCALE']== 0]\n",
    "df_all['SCALE'].count() #전체 720개 제품중 231개 불량 \n",
    "#전체 불량률 32%\n",
    "\n",
    "\n",
    "# C0불량 갯수 212개\n",
    "df_C=df_raw[df_raw['STEEL_KIND']== 'C0']\n",
    "df_fail=df_C[df_C['SCALE']==1]\n",
    "df_sus=df_C[df_C['SCALE']==1]\n",
    "# print(df_fail['SCALE'].count() )\n",
    "\n",
    "#C0 불량률\n",
    "error = df_fail['SCALE'].value_counts()/df_C['SCALE'].count()\n",
    "all_error =df_fail['SCALE'].value_counts()/df_raw['SCALE'].count()\n",
    "# all_error\n",
    "\n",
    "#C1불량갯수 1개\n",
    "df_C1=df_raw[df_raw['STEEL_KIND']== 'C1']\n",
    "df_fail1=df_C1[df_C1['SCALE']==0]\n",
    "df_sus1=df_C1[df_C1['SCALE']==1]\n",
    "df_fail1['SCALE'].count()\n",
    "#C3 불량갯수 0개\n",
    "df_C3=df_raw[df_raw['STEEL_KIND']== 'C3']\n",
    "df_fail2=df_C3[df_C3['SCALE']==0]\n",
    "df_sus2=df_C3[df_C3['SCALE']==1]\n",
    "df_fail2['SCALE'].count()\n",
    "\n",
    "\n"
   ]
  },
  {
   "cell_type": "markdown",
   "metadata": {},
   "source": [
    "#C0강종의 불량률을 계산해보니 212개로 42% 전체의 불량률 32%중에 29%나 차지하는 것을 알 수있었다. \n",
    "또한,전체데이터의 평균 불량률 32%보다 해당 강종의 불량률이 크므로 C0강종에 집중해서 불량인자를 찾아보는 방법도\n",
    "좋은 방법인것 같다.\n",
    "#나머지 C1,C2 것도 구해보면 C1은 1개의 관측지 중에 1개가 불량이었다. C3는 7개중 0개가 불량이었다.\n",
    "결론적으로 전체 불량 231개 중에 두께가 상대적으로 얇은 C 강종의 불량갯수가 214개로 불량 92%를 차지 했다.\n",
    "이러한 결과로 미루어보아 STEEL_KIND의 C 강종 과 T 강종 중에서 상대적으로 두께가 얇은 제품 중에서 \n",
    "불량이 발생한 것을 알 수있다.\n",
    "그러나 이러한 해석이 유의하지 않을 수도 있다\n",
    "그 이유는 총 관측치 720개중 C0에 해당하는 관측치가 513개에 달하여 다른 강종의 두께분포를 명확하게 확인하는 것이 \n",
    "어렵기때문이다. 데이터가 bias되어있어 이러한 결과를 얻었다고 생각한다.\n",
    "만약에 강종별 관측치의 수가 비슷했다면 위의 해석은 유의해질 수도 있다.\n"
   ]
  },
  {
   "cell_type": "markdown",
   "metadata": {},
   "source": [
    "###목표 변수 SCALE에 대한 PT_WIDTH와 STEEL_KIND 변수의 영향 확인"
   ]
  },
  {
   "cell_type": "code",
   "execution_count": 25,
   "metadata": {},
   "outputs": [
    {
     "data": {
      "text/plain": [
       "count     714.000000\n",
       "mean     2809.885154\n",
       "std       516.293303\n",
       "min      1800.000000\n",
       "25%      2469.000000\n",
       "50%      2727.500000\n",
       "75%      3125.000000\n",
       "max      4575.000000\n",
       "Name: PT_WDTH, dtype: float64"
      ]
     },
     "execution_count": 25,
     "metadata": {},
     "output_type": "execute_result"
    }
   ],
   "source": [
    "df_raw['PT_WDTH'].describe()\n"
   ]
  },
  {
   "cell_type": "markdown",
   "metadata": {},
   "source": [
    "기술 통계량을 확인해보니 PT_WDTH 변수는 완전하지는 않지만 정규분포와 유사한 분포를 가지고 있다."
   ]
  },
  {
   "cell_type": "code",
   "execution_count": 26,
   "metadata": {},
   "outputs": [
    {
     "data": {
      "text/plain": [
       "<matplotlib.axes._subplots.AxesSubplot at 0x7fedcc9ce2e0>"
      ]
     },
     "execution_count": 26,
     "metadata": {},
     "output_type": "execute_result"
    },
    {
     "data": {
      "image/png": "[encoded data removed]",
      "text/plain": [
       "<Figure size 1080x720 with 1 Axes>"
      ]
     },
     "metadata": {
      "needs_background": "light"
     },
     "output_type": "display_data"
    }
   ],
   "source": [
    "df_raw['PT_WDTH'].hist(figsize =( 15,10))"
   ]
  },
  {
   "cell_type": "markdown",
   "metadata": {},
   "source": [
    "히스토그램을 그려서 해당 변수의 분포를 보니 1800MM~ 4575MM까지 대체적으로 균형잡힌 분포를 보이고 있음을 알 수있다."
   ]
  },
  {
   "cell_type": "code",
   "execution_count": 27,
   "metadata": {},
   "outputs": [
    {
     "data": {
      "text/plain": [
       "array([[<matplotlib.axes._subplots.AxesSubplot object at 0x7fedc86c2790>,\n",
       "        <matplotlib.axes._subplots.AxesSubplot object at 0x7fedc86702e0>,\n",
       "        <matplotlib.axes._subplots.AxesSubplot object at 0x7fedc869c760>],\n",
       "       [<matplotlib.axes._subplots.AxesSubplot object at 0x7fedc8647bb0>,\n",
       "        <matplotlib.axes._subplots.AxesSubplot object at 0x7fedc85f60a0>,\n",
       "        <matplotlib.axes._subplots.AxesSubplot object at 0x7fedc85ae3d0>],\n",
       "       [<matplotlib.axes._subplots.AxesSubplot object at 0x7fedc85ae4c0>,\n",
       "        <matplotlib.axes._subplots.AxesSubplot object at 0x7fedc85d9970>,\n",
       "        <matplotlib.axes._subplots.AxesSubplot object at 0x7fedc85421c0>]],\n",
       "      dtype=object)"
      ]
     },
     "execution_count": 27,
     "metadata": {},
     "output_type": "execute_result"
    },
    {
     "data": {
      "image/png": "[encoded data removed]",
      "text/plain": [
       "<Figure size 1080x720 with 9 Axes>"
      ]
     },
     "metadata": {
      "needs_background": "light"
     },
     "output_type": "display_data"
    }
   ],
   "source": [
    "df_raw.hist(column='PT_WDTH',by= 'STEEL_KIND',range =(1800,4575),figsize =(15,10))"
   ]
  },
  {
   "cell_type": "code",
   "execution_count": 28,
   "metadata": {},
   "outputs": [
    {
     "ename": "SyntaxError",
     "evalue": "invalid syntax (<ipython-input-28-d960d3e84f29>, line 1)",
     "output_type": "error",
     "traceback": [
      "\u001b[0;36m  File \u001b[0;32m\"<ipython-input-28-d960d3e84f29>\"\u001b[0;36m, line \u001b[0;32m1\u001b[0m\n\u001b[0;31m    강종별 폭이 다를 것이라 생각했다. 강종에 따른 폭을 확인해보니 위에서 해석한대로 강종 C0은 관측치가 많아\u001b[0m\n\u001b[0m        ^\u001b[0m\n\u001b[0;31mSyntaxError\u001b[0m\u001b[0;31m:\u001b[0m invalid syntax\n"
     ]
    }
   ],
   "source": [
    "강종별 폭이 다를 것이라 생각했다. 강종에 따른 폭을 확인해보니 위에서 해석한대로 강종 C0은 관측치가 많아\n",
    "대부분의 강종의 폭이 2000~ 4500 사이의 범위에서 균형잡힌 것으로 보기는 어렵다."
   ]
  },
  {
   "cell_type": "code",
   "execution_count": 29,
   "metadata": {},
   "outputs": [
    {
     "data": {
      "image/png": "[encoded data removed]",
      "text/plain": [
       "<Figure size 432x288 with 1 Axes>"
      ]
     },
     "metadata": {
      "needs_background": "light"
     },
     "output_type": "display_data"
    }
   ],
   "source": [
    "my_plot(df_raw,'PT_WDTH')"
   ]
  },
  {
   "cell_type": "markdown",
   "metadata": {},
   "source": [
    "폭이 좁은 것에서 주로 불량이 나오는 경향이 있지만, 위의 분석결과에 따르면 이는 불량수의 92%를 차지하고 있는\n",
    "C0에 의한 경향으로 보이고, 단순히 해석을하자면, 폭이 작은 제품의 불량율이 높은 것을 알 수있다.\n",
    "위의 결과로 C0 강종 중 폭이 작은 제품에서 불량이 다수 발생했으므로 폭이 제품일 수록 불량에 영향을 미칠 수있겠다고\n",
    "생각했다."
   ]
  },
  {
   "cell_type": "markdown",
   "metadata": {},
   "source": [
    "## 목표 변수 SCALE에 대한  PT_LENGTH변수의 영향 확인"
   ]
  },
  {
   "cell_type": "code",
   "execution_count": 30,
   "metadata": {},
   "outputs": [
    {
     "data": {
      "text/plain": [
       "count      714.000\n",
       "mean     34404.029\n",
       "std      13799.227\n",
       "min       7893.000\n",
       "25%      22664.500\n",
       "50%      37380.000\n",
       "75%      43771.750\n",
       "max      54917.000\n",
       "Name: PT_LTH, dtype: float64"
      ]
     },
     "execution_count": 30,
     "metadata": {},
     "output_type": "execute_result"
    }
   ],
   "source": [
    "df_raw['PT_LTH'].describe().round(3)"
   ]
  },
  {
   "cell_type": "code",
   "execution_count": 31,
   "metadata": {},
   "outputs": [
    {
     "data": {
      "text/plain": [
       "array([[<matplotlib.axes._subplots.AxesSubplot object at 0x7fedc82d7460>,\n",
       "        <matplotlib.axes._subplots.AxesSubplot object at 0x7fedc827c820>,\n",
       "        <matplotlib.axes._subplots.AxesSubplot object at 0x7fedc82a6f40>],\n",
       "       [<matplotlib.axes._subplots.AxesSubplot object at 0x7fedc825a700>,\n",
       "        <matplotlib.axes._subplots.AxesSubplot object at 0x7fedc8204e80>,\n",
       "        <matplotlib.axes._subplots.AxesSubplot object at 0x7fedc81b9580>],\n",
       "       [<matplotlib.axes._subplots.AxesSubplot object at 0x7fedc81b9670>,\n",
       "        <matplotlib.axes._subplots.AxesSubplot object at 0x7fedc81e1e50>,\n",
       "        <matplotlib.axes._subplots.AxesSubplot object at 0x7fedc8141d00>]],\n",
       "      dtype=object)"
      ]
     },
     "execution_count": 31,
     "metadata": {},
     "output_type": "execute_result"
    },
    {
     "data": {
      "image/png": "[encoded data removed]",
      "text/plain": [
       "<Figure size 1080x720 with 9 Axes>"
      ]
     },
     "metadata": {
      "needs_background": "light"
     },
     "output_type": "display_data"
    }
   ],
   "source": [
    "df_raw.hist(column='PT_LTH',by= 'STEEL_KIND',range =(1800,55000),figsize =(15,10), bins= 10)"
   ]
  },
  {
   "cell_type": "code",
   "execution_count": 32,
   "metadata": {},
   "outputs": [
    {
     "data": {
      "image/png": "[encoded data removed]",
      "text/plain": [
       "<Figure size 432x288 with 1 Axes>"
      ]
     },
     "metadata": {
      "needs_background": "light"
     },
     "output_type": "display_data"
    }
   ],
   "source": [
    "my_plot(df_raw, 'PT_LTH')"
   ]
  },
  {
   "cell_type": "markdown",
   "metadata": {},
   "source": [
    "PT_LTH변수 플레이트 길이가 긴쪽에서 불량이 많이 발생했다.위의 강종별 플레이트 길이 히스토그램과 같이 보면\n",
    "이 변수 또한 C0 강종의 PT_LTH에 속한 플레이트 두께에서 불량이 많이 발생한 것을 알 수있다.\n",
    "그중에서도 평균 불량율 32%가 넘는 길이는 약 27000mm ~44000mm로 이사이의 제품에서 불량이 많이 발생 한 것으로 보인다."
   ]
  },
  {
   "cell_type": "markdown",
   "metadata": {},
   "source": [
    "# 목표 변수 SCALE에 대한  PT_WGT변수의 영향 확인"
   ]
  },
  {
   "cell_type": "code",
   "execution_count": 33,
   "metadata": {},
   "outputs": [
    {
     "data": {
      "text/plain": [
       "count       714.000\n",
       "mean      41506.078\n",
       "std       24799.277\n",
       "min        7820.000\n",
       "25%       17780.000\n",
       "50%       36090.000\n",
       "75%       61120.000\n",
       "max      115080.000\n",
       "Name: PT_WGT, dtype: float64"
      ]
     },
     "execution_count": 33,
     "metadata": {},
     "output_type": "execute_result"
    }
   ],
   "source": [
    "df_raw['PT_WGT'].describe().round(3)"
   ]
  },
  {
   "cell_type": "code",
   "execution_count": 34,
   "metadata": {},
   "outputs": [
    {
     "data": {
      "text/plain": [
       "array([[<matplotlib.axes._subplots.AxesSubplot object at 0x7fedc8089850>,\n",
       "        <matplotlib.axes._subplots.AxesSubplot object at 0x7fedc8049af0>,\n",
       "        <matplotlib.axes._subplots.AxesSubplot object at 0x7fedc7ff6f70>],\n",
       "       [<matplotlib.axes._subplots.AxesSubplot object at 0x7fedc7fae400>,\n",
       "        <matplotlib.axes._subplots.AxesSubplot object at 0x7fedc7fd8850>,\n",
       "        <matplotlib.axes._subplots.AxesSubplot object at 0x7fedc7f86be0>],\n",
       "       [<matplotlib.axes._subplots.AxesSubplot object at 0x7fedc7f86cd0>,\n",
       "        <matplotlib.axes._subplots.AxesSubplot object at 0x7fedc7f401c0>,\n",
       "        <matplotlib.axes._subplots.AxesSubplot object at 0x7fedc7f179d0>]],\n",
       "      dtype=object)"
      ]
     },
     "execution_count": 34,
     "metadata": {},
     "output_type": "execute_result"
    },
    {
     "data": {
      "image/png": "[encoded data removed]",
      "text/plain": [
       "<Figure size 1080x720 with 9 Axes>"
      ]
     },
     "metadata": {
      "needs_background": "light"
     },
     "output_type": "display_data"
    }
   ],
   "source": [
    "df_raw.hist(column='PT_WGT',by= 'STEEL_KIND',range =(7820,115080),figsize =(15,10), bins= 10)"
   ]
  },
  {
   "cell_type": "code",
   "execution_count": 112,
   "metadata": {},
   "outputs": [
    {
     "data": {
      "image/png": "[encoded data removed]",
      "text/plain": [
       "<Figure size 432x288 with 1 Axes>"
      ]
     },
     "metadata": {
      "needs_background": "light"
     },
     "output_type": "display_data"
    }
   ],
   "source": [
    "my_plot(df_raw, 'PT_WGT')"
   ]
  },
  {
   "cell_type": "markdown",
   "metadata": {},
   "source": [
    "플레이트 중량 변수에서는 중량이 약 37000kg 이상 부터 무거워질수록 불량률이 높아지는 경향을 볼 수있었다."
   ]
  },
  {
   "cell_type": "markdown",
   "metadata": {},
   "source": [
    "플레이트 생산 지시 두께, 폭 변수는  해당 변수의 관측값이 작을 수록 불량률이 커지는 것을 알 수 있었고, \n",
    "길이 변수는 관측값이 증가할 수록 불량인 경우가 많았다.\n",
    "중량 변수 또한 관측값이 증가할 수록 불량률이 높아지는 것을 육안으로 확인할 수 있었다.\n",
    "# 그러나 생산 지시 두께, 폭, 길이, 중량은 우리가 제한 할 수없으므로 해당 변수를 개선할 수 있는 변수로 보기는 어렵다."
   ]
  },
  {
   "cell_type": "code",
   "execution_count": 114,
   "metadata": {},
   "outputs": [
    {
     "data": {
      "image/png": "[encoded data removed]",
      "text/plain": [
       "<Figure size 1080x3600 with 7 Axes>"
      ]
     },
     "metadata": {
      "needs_background": "light"
     },
     "output_type": "display_data"
    }
   ],
   "source": [
    "# 연속형 변수 히스토그램 그리기 \n",
    "i = 0\n",
    "fig = plt.figure(figsize = (15, 50))\n",
    "columns = df_raw_numeric_x.columns[5:12]\n",
    "for col in columns:\n",
    "    plt.subplot(df_raw_numeric.shape[1], 3, i+1)\n",
    "    i += 1\n",
    "    plt.hist(df_raw[df_raw[\"SCALE\"] == 0][col], label = \"양품\", alpha = 0.5)\n",
    "    plt.hist(df_raw[df_raw[\"SCALE\"] == 1][col], label = \"불량\", alpha = 0.5)\n",
    "    plt.xlabel(col)\n",
    "    plt.ylabel(\"SCALE\")\n",
    "    plt.legend()\n",
    "plt.show()"
   ]
  },
  {
   "cell_type": "markdown",
   "metadata": {},
   "source": [
    "지금부터는 우리가 개선할 수 있는 변수들에 대한 그래프분석을 해보려고한다.\n",
    "지시 두께,폭 길이 변수를 제외한 나머지 연속형 변수의 양품 및 불량의 수를 히스토그램을 나타내보았다."
   ]
  },
  {
   "cell_type": "markdown",
   "metadata": {},
   "source": [
    "2. 가열로 온도 변수는 약 1143도 부터 평균 불량률 32%를 넘기시작하고, 약 1190도 이상에서는 불량률이 급격하게 증가해서 약 1200이상에서는 100% 불량을 나타내는 것을 볼 수있다\n",
    "3. 가열로 가열대 에서 머무는 시간이 짧은쪽에 불량이 몰려있는 것을 확인 할 수있고, 약110초 이상에서는 불량률이 급격하게 줄어든것을 확인 할 수있다.\n",
    "4.가열로 균열대 온도변수는 약 1145도 이상에서 불량율이 급격하게 증가하는 것을 확인 할 수있고, 1175도이상에서는 100%의 불량률을 보인다.\n",
    "4. 가열로 균열대에서 머무는 시간 변수도 시간이 짧은 제품에 불량이 몰려있는 것을 확인할 수있다.\n",
    "5. 가열로에서 머무는 시간은 FUR_HZ_TIME + FUR_SZ_TIME라고 할 수있는데 255도 ~325도 사이의 불량이 유난히 많은 것 같다. \n",
    "6.FUR_EXTEMP(추출온도)변수에서는 온도가 높을 수록 불량이 증가하는 경향이 있다.\n",
    "7.ROLLING_TEMP_T5\n",
    "\n",
    "# 대부분의 연속형 변수에서 불량률과 연관이 있는 것으로 \n",
    "# 그래프 분석 결과 나타났다.\n",
    "# 그중에서도 PT_WDTH, ROLLING_TEMP_T5 , FUR_EXTEMP ,FUR_SZ_TEMP, \n",
    "\n",
    "# FUR_SZ_TIME 변수가 영향을 많이 미치는 것 같다\n",
    "# 그러나 PT_WDTH는 생산 지시 변수이기 때문에 우리가 개선할 수있는 방법이 없을 듯하다.\n",
    "\n",
    "# 따라서  연속형 변수 중 그래프 EDA를 통해 얻은 VF는 ROLLING_TEMP_T5 , FUR_EXTEMP ,FUR_SZ_TEMP, FUR_SZ_TIME 이다.\n",
    "\n",
    " "
   ]
  },
  {
   "cell_type": "markdown",
   "metadata": {},
   "source": [
    "# 범주형 변수 탐색적 분석 (EDA)"
   ]
  },
  {
   "cell_type": "code",
   "execution_count": 37,
   "metadata": {},
   "outputs": [],
   "source": [
    "#교차표 생성\n",
    "def myplot2(data, var):\n",
    "    print(pd.crosstab(index = data['SCALE'], columns = data[var]))\n",
    "    print()\n",
    "    print(pd.crosstab(index = data['SCALE'], columns = data[var], normalize = 'columns'))\n",
    "    \n",
    "\n",
    "def pie1(data,var):\n",
    "    # df_raw['SCALE'] = df_raw['SCALE'].map(lambda x : 0 if x == \"양품\" else 1)\n",
    "    df_groups = data.groupby([var])[\"SCALE\"]\n",
    "    df_w = pd.DataFrame(columns = [var, \"SCALE_PROB\"])\n",
    "    c = 0.0\n",
    "    for name, g in df_groups:\n",
    "        c += g.tolist().count(1)/(g.shape[0])\n",
    "        df_w = df_w.append({var  : name , \"SCALE_PROB\" : (g.tolist().count(1)/(g.shape[0])) * 100}, ignore_index = True )\n",
    "    df_w\n",
    "    df_w.plot.pie(y = \"SCALE_PROB\", labels = \\\n",
    "                 df_w[var], autopct= \"%.1f%%\", radius = 2, legend = False)"
   ]
  },
  {
   "cell_type": "code",
   "execution_count": 38,
   "metadata": {},
   "outputs": [],
   "source": [
    "df_sub = df_raw[df_raw[\"SCALE\"] == 0]\n",
    "df_count = df_sub.groupby(\"STEEL_KIND\", as_index = False).agg(\"count\")\n",
    "# 불량인 데이터를 추출 후 강종으로 그룹화하고, 강종별  불량을 카운트한다."
   ]
  },
  {
   "cell_type": "markdown",
   "metadata": {},
   "source": [
    "1.강종별 스케일불량 "
   ]
  },
  {
   "cell_type": "code",
   "execution_count": 39,
   "metadata": {},
   "outputs": [
    {
     "name": "stdout",
     "output_type": "stream",
     "text": [
      "STEEL_KIND   C0  C1  C3  T0  T1  T3  T5  T7  T8\n",
      "SCALE                                          \n",
      "0           289   0   6  13  16   2  39  29  89\n",
      "1           212   1   1   2   2   0   2   6   5\n",
      "\n",
      "STEEL_KIND        C0   C1        C3        T0        T1   T3       T5  \\\n",
      "SCALE                                                                   \n",
      "0           0.576846  0.0  0.857143  0.866667  0.888889  1.0  0.95122   \n",
      "1           0.423154  1.0  0.142857  0.133333  0.111111  0.0  0.04878   \n",
      "\n",
      "STEEL_KIND        T7        T8  \n",
      "SCALE                           \n",
      "0           0.828571  0.946809  \n",
      "1           0.171429  0.053191  \n"
     ]
    },
    {
     "data": {
      "image/png": "[encoded data removed]",
      "text/plain": [
       "<Figure size 432x288 with 1 Axes>"
      ]
     },
     "metadata": {},
     "output_type": "display_data"
    }
   ],
   "source": [
    "df_count.plot.pie(y = \"SCALE\", labels = df_count[\"STEEL_KIND\"], autopct= \"%.1f%%\", radius = 2)\n",
    "myplot2(df_raw,'STEEL_KIND')\n"
   ]
  },
  {
   "cell_type": "markdown",
   "metadata": {},
   "source": [
    "앞쪽의 지시 변수(두께,폭,길이,중량)를 제외하고 STEEL_KIND 변수로 강종별 불량율을 크로스탭, 파이차트로 그려보았다.\n",
    "차트를 확인해보면 불량의 대부분이 강종 C0로 인것을 알 수있다. 그리고 연속형 변수 EDA할 때 얻었던 결과와 같이\n",
    "C0 강종에 비해 다른 강종들의 데이터 수가 지극히 작은 것으로 보아 C0라서 불량률이 높다라고 단정짓기는 어려울 것 같다.\n",
    "\n"
   ]
  },
  {
   "cell_type": "code",
   "execution_count": 40,
   "metadata": {},
   "outputs": [
    {
     "ename": "SyntaxError",
     "evalue": "invalid syntax (<ipython-input-40-b389c40c0ceb>, line 1)",
     "output_type": "error",
     "traceback": [
      "\u001b[0;36m  File \u001b[0;32m\"<ipython-input-40-b389c40c0ceb>\"\u001b[0;36m, line \u001b[0;32m1\u001b[0m\n\u001b[0;31m    HSB ROLLING_DESCALING WORK_GR\u001b[0m\n\u001b[0m        ^\u001b[0m\n\u001b[0;31mSyntaxError\u001b[0m\u001b[0;31m:\u001b[0m invalid syntax\n"
     ]
    }
   ],
   "source": [
    " HSB ROLLING_DESCALING WORK_GR"
   ]
  },
  {
   "cell_type": "markdown",
   "metadata": {},
   "source": [
    "2. 가열로 호기 별 불량율"
   ]
  },
  {
   "cell_type": "code",
   "execution_count": 41,
   "metadata": {},
   "outputs": [
    {
     "name": "stdout",
     "output_type": "stream",
     "text": [
      "FUR_NO  1호기  2호기  3호기\n",
      "SCALE                \n",
      "0       166  166  151\n",
      "1        73   70   88\n",
      "\n",
      "FUR_NO       1호기      2호기       3호기\n",
      "SCALE                              \n",
      "0       0.694561  0.70339  0.631799\n",
      "1       0.305439  0.29661  0.368201\n"
     ]
    },
    {
     "data": {
      "image/png": "[encoded data removed]",
      "text/plain": [
       "<Figure size 432x288 with 1 Axes>"
      ]
     },
     "metadata": {},
     "output_type": "display_data"
    }
   ],
   "source": [
    "myplot2(df_raw, 'FUR_NO')\n",
    "pie1(df_raw, 'FUR_NO')"
   ]
  },
  {
   "cell_type": "markdown",
   "metadata": {},
   "source": [
    "가열로 호에 따른 스케일 불량율을 나타내는 파이차트와  가열로 호수에 따른 불량유무 교차표이다.\n",
    "이를 보면 3호기에서 불량이 가장 많이 난 것을 알 수있다.\n",
    "하지만, 대체적으로 30%의 불량율을 보인것으로 보아 각 호수기다마 유의한 차이를 가지 있지는 않은 것같다.\n",
    "또한, 해당 가열로의 자체 문제일 수있으므로, 해당 가열로를 검사해봐야 할 것 같다.\n",
    "## 집단이 3집단이므로 불량율의 차이가 유의한지\n",
    "## F 검정을 통해 통계적 검정을 해봐야한다."
   ]
  },
  {
   "cell_type": "markdown",
   "metadata": {},
   "source": [
    "3. 가열로 작업순번에 따른 스케일 불량율"
   ]
  },
  {
   "cell_type": "code",
   "execution_count": 42,
   "metadata": {},
   "outputs": [
    {
     "name": "stdout",
     "output_type": "stream",
     "text": [
      "FUR_NO_ROW    1    2\n",
      "SCALE               \n",
      "0           239  244\n",
      "1           120  111\n",
      "\n",
      "FUR_NO_ROW         1         2\n",
      "SCALE                         \n",
      "0           0.665738  0.687324\n",
      "1           0.334262  0.312676\n"
     ]
    },
    {
     "data": {
      "image/png": "[encoded data removed]",
      "text/plain": [
       "<Figure size 432x288 with 1 Axes>"
      ]
     },
     "metadata": {},
     "output_type": "display_data"
    }
   ],
   "source": [
    "myplot2(df_raw, 'FUR_NO_ROW')\n",
    "pie1(df_raw, 'FUR_NO_ROW')"
   ]
  },
  {
   "cell_type": "markdown",
   "metadata": {},
   "source": [
    "FUR_NO_ROW(가열로 작업순번)변수에서 작업순번 1인경우에  359개 중 120개가 불량, 불량율 33% \n",
    "작업순번 2인경우에 355개 중 111개 불량 불량율 31%\n",
    "SCALE 불량의 구성비는 작업순번 1 = 51%, 작업순번 2 = 48.0%으로 대체적으로 비슷한 수치를 보인다.\n",
    "따라서 가열로 작업순번 변수는 두개의 범주 큰 차이를 보이지않으므로 불량에 큰 영향을 미치지 않는 것으로 보인다.\n",
    "\n",
    "## 카이검정으로 통계적으로 유의한 차이가 있는지 확인해보아야한다."
   ]
  },
  {
   "cell_type": "markdown",
   "metadata": {},
   "source": [
    "HSB 적용 여부에 따른 불량율"
   ]
  },
  {
   "cell_type": "code",
   "execution_count": 43,
   "metadata": {},
   "outputs": [
    {
     "name": "stdout",
     "output_type": "stream",
     "text": [
      "HSB    미적용   적용\n",
      "SCALE          \n",
      "0        0  483\n",
      "1       33  198\n",
      "\n",
      "HSB    미적용        적용\n",
      "SCALE               \n",
      "0      0.0  0.709251\n",
      "1      1.0  0.290749\n"
     ]
    },
    {
     "data": {
      "image/png": "[encoded data removed]",
      "text/plain": [
       "<Figure size 432x288 with 1 Axes>"
      ]
     },
     "metadata": {},
     "output_type": "display_data"
    }
   ],
   "source": [
    "myplot2(df_raw, 'HSB')\n",
    "pie1(df_raw, 'HSB')\n"
   ]
  },
  {
   "cell_type": "code",
   "execution_count": 44,
   "metadata": {},
   "outputs": [
    {
     "data": {
      "image/png": "[encoded data removed]",
      "text/plain": [
       "<Figure size 432x288 with 1 Axes>"
      ]
     },
     "metadata": {
      "needs_background": "light"
     },
     "output_type": "display_data"
    }
   ],
   "source": [
    "my_plot(df_raw,'HSB')"
   ]
  },
  {
   "cell_type": "markdown",
   "metadata": {},
   "source": [
    "HSB변수는 불량여부에 매우 큰 영향을 미치는 것 같다.\n",
    "위의 교차표를 보면 HSB를 적용하지 않은 33개 중에 33개 모두다 불량으로 판정된 것을 볼 수있다.\n",
    "따라서 HSB가 미적용된 제품에서 불량이 발생할 확률이 매우 높은 것을 알 수 있다.\n",
    "HSB를 미적용한 강종이 어떤 것 인지 알아보았다."
   ]
  },
  {
   "cell_type": "code",
   "execution_count": 45,
   "metadata": {},
   "outputs": [
    {
     "data": {
      "text/plain": [
       "C0    22\n",
       "T7     4\n",
       "T8     3\n",
       "T5     2\n",
       "C3     1\n",
       "T1     1\n",
       "Name: STEEL_KIND, dtype: int64"
      ]
     },
     "execution_count": 45,
     "metadata": {},
     "output_type": "execute_result"
    }
   ],
   "source": [
    "df_c0 = df_raw[df_raw['HSB']=='미적용']\n",
    "df_c0['STEEL_KIND'].value_counts()\n",
    "# df_c0[df_c0['STEEL_KIND']== 'CO']\n",
    "# df_c0[df_c0['HSB']== '미적용']['CO'].count()"
   ]
  },
  {
   "cell_type": "markdown",
   "metadata": {},
   "source": [
    "결과는 HSB를 미적용한 제품의 대부분은 C0가 차지하고 있는 것을 확인할 수 있다.\n"
   ]
  },
  {
   "cell_type": "markdown",
   "metadata": {},
   "source": [
    "작업조 별 불량율"
   ]
  },
  {
   "cell_type": "code",
   "execution_count": 46,
   "metadata": {},
   "outputs": [
    {
     "name": "stdout",
     "output_type": "stream",
     "text": [
      "WORK_GR   1조   2조   3조   4조\n",
      "SCALE                      \n",
      "0        121  119  115  128\n",
      "1         67   45   54   65\n",
      "\n",
      "WORK_GR        1조       2조        3조        4조\n",
      "SCALE                                         \n",
      "0        0.643617  0.72561  0.680473  0.663212\n",
      "1        0.356383  0.27439  0.319527  0.336788\n"
     ]
    },
    {
     "data": {
      "image/png": "[encoded data removed]",
      "text/plain": [
       "<Figure size 432x288 with 1 Axes>"
      ]
     },
     "metadata": {},
     "output_type": "display_data"
    }
   ],
   "source": [
    "myplot2(df_raw, 'WORK_GR')\n",
    "pie1(df_raw, 'WORK_GR')\n"
   ]
  },
  {
   "cell_type": "code",
   "execution_count": 47,
   "metadata": {},
   "outputs": [
    {
     "data": {
      "image/png": "[encoded data removed]",
      "text/plain": [
       "<Figure size 432x288 with 1 Axes>"
      ]
     },
     "metadata": {
      "needs_background": "light"
     },
     "output_type": "display_data"
    }
   ],
   "source": [
    "my_plot(df_raw, 'WORK_GR')"
   ]
  },
  {
   "cell_type": "markdown",
   "metadata": {},
   "source": [
    "작업조 별 불량율을 확인해보았더니 1조가 불량율이 가장 높았다.\n",
    "그러나 작업조의 작업방식, 작업률, 작업패턴 등은 해당 데이터에서 알 수 없으므로 해당 변수에서 개선이 가능한 것은 없어보인다.\n",
    "## 비율이 같다고 봐야하는 지 통계적으로 확인하기 위하여 카이스퀘어검정 필요"
   ]
  },
  {
   "cell_type": "markdown",
   "metadata": {},
   "source": [
    "ROLLING_DESCALING(디스케일링 횟수에 따른 불량율"
   ]
  },
  {
   "cell_type": "code",
   "execution_count": 48,
   "metadata": {},
   "outputs": [
    {
     "name": "stdout",
     "output_type": "stream",
     "text": [
      "ROLLING_DESCALING  5    6   7    8   9    10\n",
      "SCALE                                       \n",
      "0                   0  146   0  109   0  228\n",
      "1                   5   26  15   99  20   66\n",
      "\n",
      "ROLLING_DESCALING   5         6    7         8    9        10\n",
      "SCALE                                                        \n",
      "0                  0.0  0.848837  0.0  0.524038  0.0  0.77551\n",
      "1                  1.0  0.151163  1.0  0.475962  1.0  0.22449\n"
     ]
    },
    {
     "data": {
      "image/png": "[encoded data removed]",
      "text/plain": [
       "<Figure size 432x288 with 1 Axes>"
      ]
     },
     "metadata": {},
     "output_type": "display_data"
    }
   ],
   "source": [
    "myplot2(df_raw, 'ROLLING_DESCALING')\n",
    "pie1(df_raw, 'ROLLING_DESCALING')\n"
   ]
  },
  {
   "cell_type": "markdown",
   "metadata": {},
   "source": [
    "ROLLING DESCALING 같은 경우 조압연 및 사상압연시 롤러로 왕복을하며 디스케일링을 하는 것이다.\n",
    "이 때문에 ROLLING DESCALING횟수가 높다는 것은 HSB를 적용하지 않았을 경우 일수도 있다는 생각이 들어\n",
    "롤링 디스케일 횟수별 HSB 적용 여부를 확인하고자 하였다."
   ]
  },
  {
   "cell_type": "code",
   "execution_count": 49,
   "metadata": {},
   "outputs": [
    {
     "data": {
      "image/png": "[encoded data removed]",
      "text/plain": [
       "<Figure size 432x288 with 1 Axes>"
      ]
     },
     "metadata": {
      "needs_background": "light"
     },
     "output_type": "display_data"
    }
   ],
   "source": [
    "def my_plot3(data, var1):\n",
    "    \n",
    "    \n",
    "    plt.hist(data[data['HSB']=='적용'][var1],label ='적용', alpha =0.5)\n",
    "    plt.hist(data[data['HSB']=='미적용'][var1], label ='미적용', alpha =0.5)\n",
    "    plt.xlabel(var1)\n",
    "    plt.ylabel('해당 설명변수에 따른 HSB 여부')\n",
    "    plt.legend()\n",
    "my_plot3(df_raw, 'ROLLING_DESCALING')"
   ]
  },
  {
   "cell_type": "markdown",
   "metadata": {},
   "source": [
    "확인결과 HSB적용여부와 ROLLING_DESCALING 횟수와는 관계가 없는 것으로 보인다.\n",
    "ROLLING DESCALING 횟수에 따른 불량율을 보면 디스케일링을 8번했을 때 불량율이 가장 높았다.\n",
    "이러한 결과를 종합해 볼때  ROLLING DESCALING 횟수는 불량여부에 영향을 준다고 말할 수 있다.\n"
   ]
  },
  {
   "cell_type": "markdown",
   "metadata": {},
   "source": [
    "# 기술적 탐색\n",
    "## 모델링을 통한 Vital Few도출 (Decision TREE)"
   ]
  },
  {
   "cell_type": "code",
   "execution_count": 50,
   "metadata": {},
   "outputs": [
    {
     "data": {
      "text/html": [
       "<div>\n",
       "<style scoped>\n",
       "    .dataframe tbody tr th:only-of-type {\n",
       "        vertical-align: middle;\n",
       "    }\n",
       "\n",
       "    .dataframe tbody tr th {\n",
       "        vertical-align: top;\n",
       "    }\n",
       "\n",
       "    .dataframe thead th {\n",
       "        text-align: right;\n",
       "    }\n",
       "</style>\n",
       "<table border=\"1\" class=\"dataframe\">\n",
       "  <thead>\n",
       "    <tr style=\"text-align: right;\">\n",
       "      <th></th>\n",
       "      <th>SCALE</th>\n",
       "      <th>STEEL_KIND</th>\n",
       "      <th>PT_THK</th>\n",
       "      <th>PT_WDTH</th>\n",
       "      <th>PT_LTH</th>\n",
       "      <th>PT_WGT</th>\n",
       "      <th>FUR_NO</th>\n",
       "      <th>FUR_NO_ROW</th>\n",
       "      <th>FUR_HZ_TEMP</th>\n",
       "      <th>FUR_HZ_TIME</th>\n",
       "      <th>FUR_SZ_TEMP</th>\n",
       "      <th>FUR_SZ_TIME</th>\n",
       "      <th>FUR_TIME</th>\n",
       "      <th>FUR_EXTEMP</th>\n",
       "      <th>ROLLING_TEMP_T5</th>\n",
       "      <th>HSB</th>\n",
       "      <th>ROLLING_DESCALING</th>\n",
       "      <th>WORK_GR</th>\n",
       "    </tr>\n",
       "  </thead>\n",
       "  <tbody>\n",
       "    <tr>\n",
       "      <th>0</th>\n",
       "      <td>0</td>\n",
       "      <td>T1</td>\n",
       "      <td>32.25</td>\n",
       "      <td>3707</td>\n",
       "      <td>15109</td>\n",
       "      <td>14180</td>\n",
       "      <td>1호기</td>\n",
       "      <td>1</td>\n",
       "      <td>1144</td>\n",
       "      <td>116</td>\n",
       "      <td>1133</td>\n",
       "      <td>59</td>\n",
       "      <td>282</td>\n",
       "      <td>1133</td>\n",
       "      <td>934</td>\n",
       "      <td>적용</td>\n",
       "      <td>8</td>\n",
       "      <td>2조</td>\n",
       "    </tr>\n",
       "    <tr>\n",
       "      <th>1</th>\n",
       "      <td>0</td>\n",
       "      <td>T1</td>\n",
       "      <td>32.25</td>\n",
       "      <td>3707</td>\n",
       "      <td>15109</td>\n",
       "      <td>14180</td>\n",
       "      <td>1호기</td>\n",
       "      <td>2</td>\n",
       "      <td>1144</td>\n",
       "      <td>122</td>\n",
       "      <td>1135</td>\n",
       "      <td>53</td>\n",
       "      <td>283</td>\n",
       "      <td>1135</td>\n",
       "      <td>937</td>\n",
       "      <td>적용</td>\n",
       "      <td>8</td>\n",
       "      <td>2조</td>\n",
       "    </tr>\n",
       "    <tr>\n",
       "      <th>2</th>\n",
       "      <td>0</td>\n",
       "      <td>T8</td>\n",
       "      <td>33.27</td>\n",
       "      <td>3619</td>\n",
       "      <td>19181</td>\n",
       "      <td>18130</td>\n",
       "      <td>2호기</td>\n",
       "      <td>1</td>\n",
       "      <td>1129</td>\n",
       "      <td>116</td>\n",
       "      <td>1121</td>\n",
       "      <td>55</td>\n",
       "      <td>282</td>\n",
       "      <td>1121</td>\n",
       "      <td>889</td>\n",
       "      <td>적용</td>\n",
       "      <td>8</td>\n",
       "      <td>3조</td>\n",
       "    </tr>\n",
       "    <tr>\n",
       "      <th>3</th>\n",
       "      <td>0</td>\n",
       "      <td>T8</td>\n",
       "      <td>33.27</td>\n",
       "      <td>3619</td>\n",
       "      <td>19181</td>\n",
       "      <td>18130</td>\n",
       "      <td>2호기</td>\n",
       "      <td>2</td>\n",
       "      <td>1152</td>\n",
       "      <td>125</td>\n",
       "      <td>1127</td>\n",
       "      <td>68</td>\n",
       "      <td>316</td>\n",
       "      <td>1127</td>\n",
       "      <td>885</td>\n",
       "      <td>적용</td>\n",
       "      <td>8</td>\n",
       "      <td>3조</td>\n",
       "    </tr>\n",
       "    <tr>\n",
       "      <th>4</th>\n",
       "      <td>0</td>\n",
       "      <td>T8</td>\n",
       "      <td>38.33</td>\n",
       "      <td>3098</td>\n",
       "      <td>13334</td>\n",
       "      <td>12430</td>\n",
       "      <td>3호기</td>\n",
       "      <td>1</td>\n",
       "      <td>1140</td>\n",
       "      <td>134</td>\n",
       "      <td>1128</td>\n",
       "      <td>48</td>\n",
       "      <td>314</td>\n",
       "      <td>1128</td>\n",
       "      <td>873</td>\n",
       "      <td>적용</td>\n",
       "      <td>8</td>\n",
       "      <td>1조</td>\n",
       "    </tr>\n",
       "  </tbody>\n",
       "</table>\n",
       "</div>"
      ],
      "text/plain": [
       "   SCALE STEEL_KIND  PT_THK  PT_WDTH  PT_LTH  PT_WGT FUR_NO FUR_NO_ROW  \\\n",
       "0      0         T1   32.25     3707   15109   14180    1호기          1   \n",
       "1      0         T1   32.25     3707   15109   14180    1호기          2   \n",
       "2      0         T8   33.27     3619   19181   18130    2호기          1   \n",
       "3      0         T8   33.27     3619   19181   18130    2호기          2   \n",
       "4      0         T8   38.33     3098   13334   12430    3호기          1   \n",
       "\n",
       "   FUR_HZ_TEMP  FUR_HZ_TIME  FUR_SZ_TEMP  FUR_SZ_TIME  FUR_TIME  FUR_EXTEMP  \\\n",
       "0         1144          116         1133           59       282        1133   \n",
       "1         1144          122         1135           53       283        1135   \n",
       "2         1129          116         1121           55       282        1121   \n",
       "3         1152          125         1127           68       316        1127   \n",
       "4         1140          134         1128           48       314        1128   \n",
       "\n",
       "   ROLLING_TEMP_T5 HSB  ROLLING_DESCALING WORK_GR  \n",
       "0              934  적용                  8      2조  \n",
       "1              937  적용                  8      2조  \n",
       "2              889  적용                  8      3조  \n",
       "3              885  적용                  8      3조  \n",
       "4              873  적용                  8      1조  "
      ]
     },
     "execution_count": 50,
     "metadata": {},
     "output_type": "execute_result"
    }
   ],
   "source": [
    "#사용할 데이터 확인\n",
    "df_raw.head()"
   ]
  },
  {
   "cell_type": "code",
   "execution_count": 51,
   "metadata": {},
   "outputs": [
    {
     "name": "stdout",
     "output_type": "stream",
     "text": [
      "<class 'pandas.core.frame.DataFrame'>\n",
      "Int64Index: 714 entries, 0 to 719\n",
      "Data columns (total 33 columns):\n",
      " #   Column             Non-Null Count  Dtype  \n",
      "---  ------             --------------  -----  \n",
      " 0   SCALE              714 non-null    int64  \n",
      " 1   PT_THK             714 non-null    float64\n",
      " 2   PT_WDTH            714 non-null    int64  \n",
      " 3   PT_LTH             714 non-null    int64  \n",
      " 4   PT_WGT             714 non-null    int64  \n",
      " 5   FUR_HZ_TEMP        714 non-null    int64  \n",
      " 6   FUR_HZ_TIME        714 non-null    int64  \n",
      " 7   FUR_SZ_TEMP        714 non-null    int64  \n",
      " 8   FUR_SZ_TIME        714 non-null    int64  \n",
      " 9   FUR_TIME           714 non-null    int64  \n",
      " 10  FUR_EXTEMP         714 non-null    int64  \n",
      " 11  ROLLING_TEMP_T5    714 non-null    int64  \n",
      " 12  ROLLING_DESCALING  714 non-null    int64  \n",
      " 13  STEEL_KIND_C0      714 non-null    uint8  \n",
      " 14  STEEL_KIND_C1      714 non-null    uint8  \n",
      " 15  STEEL_KIND_C3      714 non-null    uint8  \n",
      " 16  STEEL_KIND_T0      714 non-null    uint8  \n",
      " 17  STEEL_KIND_T1      714 non-null    uint8  \n",
      " 18  STEEL_KIND_T3      714 non-null    uint8  \n",
      " 19  STEEL_KIND_T5      714 non-null    uint8  \n",
      " 20  STEEL_KIND_T7      714 non-null    uint8  \n",
      " 21  STEEL_KIND_T8      714 non-null    uint8  \n",
      " 22  FUR_NO_1호기         714 non-null    uint8  \n",
      " 23  FUR_NO_2호기         714 non-null    uint8  \n",
      " 24  FUR_NO_3호기         714 non-null    uint8  \n",
      " 25  FUR_NO_ROW_1       714 non-null    uint8  \n",
      " 26  FUR_NO_ROW_2       714 non-null    uint8  \n",
      " 27  HSB_미적용            714 non-null    uint8  \n",
      " 28  HSB_적용             714 non-null    uint8  \n",
      " 29  WORK_GR_1조         714 non-null    uint8  \n",
      " 30  WORK_GR_2조         714 non-null    uint8  \n",
      " 31  WORK_GR_3조         714 non-null    uint8  \n",
      " 32  WORK_GR_4조         714 non-null    uint8  \n",
      "dtypes: float64(1), int64(12), uint8(20)\n",
      "memory usage: 92.0 KB\n"
     ]
    }
   ],
   "source": [
    "# 더미 생성\n",
    "df_raw_dummy = pd.get_dummies(df_raw)\n",
    "df_raw_dummy.info()\n",
    "\n",
    "#원래 더미를 생성해야한다. 더미를 생성해야하는 때는 데이터의 설명변수 즉 컬럼에 범주형 변수가 존재할 때 하는 것이다\n",
    "#그러나 해당 유방암 데이터에서는 설명 변수에 범주형 변수가 존재하지 않기때문에 해당 과정을 생략한다."
   ]
  },
  {
   "cell_type": "code",
   "execution_count": 52,
   "metadata": {},
   "outputs": [
    {
     "data": {
      "text/html": [
       "<div>\n",
       "<style scoped>\n",
       "    .dataframe tbody tr th:only-of-type {\n",
       "        vertical-align: middle;\n",
       "    }\n",
       "\n",
       "    .dataframe tbody tr th {\n",
       "        vertical-align: top;\n",
       "    }\n",
       "\n",
       "    .dataframe thead th {\n",
       "        text-align: right;\n",
       "    }\n",
       "</style>\n",
       "<table border=\"1\" class=\"dataframe\">\n",
       "  <thead>\n",
       "    <tr style=\"text-align: right;\">\n",
       "      <th></th>\n",
       "      <th>SCALE</th>\n",
       "      <th>PT_THK</th>\n",
       "      <th>PT_WDTH</th>\n",
       "      <th>PT_LTH</th>\n",
       "      <th>PT_WGT</th>\n",
       "      <th>FUR_HZ_TEMP</th>\n",
       "      <th>FUR_HZ_TIME</th>\n",
       "      <th>FUR_SZ_TEMP</th>\n",
       "      <th>FUR_SZ_TIME</th>\n",
       "      <th>FUR_TIME</th>\n",
       "      <th>...</th>\n",
       "      <th>FUR_NO_2호기</th>\n",
       "      <th>FUR_NO_3호기</th>\n",
       "      <th>FUR_NO_ROW_1</th>\n",
       "      <th>FUR_NO_ROW_2</th>\n",
       "      <th>HSB_미적용</th>\n",
       "      <th>HSB_적용</th>\n",
       "      <th>WORK_GR_1조</th>\n",
       "      <th>WORK_GR_2조</th>\n",
       "      <th>WORK_GR_3조</th>\n",
       "      <th>WORK_GR_4조</th>\n",
       "    </tr>\n",
       "  </thead>\n",
       "  <tbody>\n",
       "    <tr>\n",
       "      <th>0</th>\n",
       "      <td>0</td>\n",
       "      <td>32.25</td>\n",
       "      <td>3707</td>\n",
       "      <td>15109</td>\n",
       "      <td>14180</td>\n",
       "      <td>1144</td>\n",
       "      <td>116</td>\n",
       "      <td>1133</td>\n",
       "      <td>59</td>\n",
       "      <td>282</td>\n",
       "      <td>...</td>\n",
       "      <td>0</td>\n",
       "      <td>0</td>\n",
       "      <td>1</td>\n",
       "      <td>0</td>\n",
       "      <td>0</td>\n",
       "      <td>1</td>\n",
       "      <td>0</td>\n",
       "      <td>1</td>\n",
       "      <td>0</td>\n",
       "      <td>0</td>\n",
       "    </tr>\n",
       "    <tr>\n",
       "      <th>1</th>\n",
       "      <td>0</td>\n",
       "      <td>32.25</td>\n",
       "      <td>3707</td>\n",
       "      <td>15109</td>\n",
       "      <td>14180</td>\n",
       "      <td>1144</td>\n",
       "      <td>122</td>\n",
       "      <td>1135</td>\n",
       "      <td>53</td>\n",
       "      <td>283</td>\n",
       "      <td>...</td>\n",
       "      <td>0</td>\n",
       "      <td>0</td>\n",
       "      <td>0</td>\n",
       "      <td>1</td>\n",
       "      <td>0</td>\n",
       "      <td>1</td>\n",
       "      <td>0</td>\n",
       "      <td>1</td>\n",
       "      <td>0</td>\n",
       "      <td>0</td>\n",
       "    </tr>\n",
       "    <tr>\n",
       "      <th>2</th>\n",
       "      <td>0</td>\n",
       "      <td>33.27</td>\n",
       "      <td>3619</td>\n",
       "      <td>19181</td>\n",
       "      <td>18130</td>\n",
       "      <td>1129</td>\n",
       "      <td>116</td>\n",
       "      <td>1121</td>\n",
       "      <td>55</td>\n",
       "      <td>282</td>\n",
       "      <td>...</td>\n",
       "      <td>1</td>\n",
       "      <td>0</td>\n",
       "      <td>1</td>\n",
       "      <td>0</td>\n",
       "      <td>0</td>\n",
       "      <td>1</td>\n",
       "      <td>0</td>\n",
       "      <td>0</td>\n",
       "      <td>1</td>\n",
       "      <td>0</td>\n",
       "    </tr>\n",
       "    <tr>\n",
       "      <th>3</th>\n",
       "      <td>0</td>\n",
       "      <td>33.27</td>\n",
       "      <td>3619</td>\n",
       "      <td>19181</td>\n",
       "      <td>18130</td>\n",
       "      <td>1152</td>\n",
       "      <td>125</td>\n",
       "      <td>1127</td>\n",
       "      <td>68</td>\n",
       "      <td>316</td>\n",
       "      <td>...</td>\n",
       "      <td>1</td>\n",
       "      <td>0</td>\n",
       "      <td>0</td>\n",
       "      <td>1</td>\n",
       "      <td>0</td>\n",
       "      <td>1</td>\n",
       "      <td>0</td>\n",
       "      <td>0</td>\n",
       "      <td>1</td>\n",
       "      <td>0</td>\n",
       "    </tr>\n",
       "    <tr>\n",
       "      <th>4</th>\n",
       "      <td>0</td>\n",
       "      <td>38.33</td>\n",
       "      <td>3098</td>\n",
       "      <td>13334</td>\n",
       "      <td>12430</td>\n",
       "      <td>1140</td>\n",
       "      <td>134</td>\n",
       "      <td>1128</td>\n",
       "      <td>48</td>\n",
       "      <td>314</td>\n",
       "      <td>...</td>\n",
       "      <td>0</td>\n",
       "      <td>1</td>\n",
       "      <td>1</td>\n",
       "      <td>0</td>\n",
       "      <td>0</td>\n",
       "      <td>1</td>\n",
       "      <td>1</td>\n",
       "      <td>0</td>\n",
       "      <td>0</td>\n",
       "      <td>0</td>\n",
       "    </tr>\n",
       "  </tbody>\n",
       "</table>\n",
       "<p>5 rows × 33 columns</p>\n",
       "</div>"
      ],
      "text/plain": [
       "   SCALE  PT_THK  PT_WDTH  PT_LTH  PT_WGT  FUR_HZ_TEMP  FUR_HZ_TIME  \\\n",
       "0      0   32.25     3707   15109   14180         1144          116   \n",
       "1      0   32.25     3707   15109   14180         1144          122   \n",
       "2      0   33.27     3619   19181   18130         1129          116   \n",
       "3      0   33.27     3619   19181   18130         1152          125   \n",
       "4      0   38.33     3098   13334   12430         1140          134   \n",
       "\n",
       "   FUR_SZ_TEMP  FUR_SZ_TIME  FUR_TIME  ...  FUR_NO_2호기  FUR_NO_3호기  \\\n",
       "0         1133           59       282  ...           0           0   \n",
       "1         1135           53       283  ...           0           0   \n",
       "2         1121           55       282  ...           1           0   \n",
       "3         1127           68       316  ...           1           0   \n",
       "4         1128           48       314  ...           0           1   \n",
       "\n",
       "   FUR_NO_ROW_1  FUR_NO_ROW_2  HSB_미적용  HSB_적용  WORK_GR_1조  WORK_GR_2조  \\\n",
       "0             1             0        0       1           0           1   \n",
       "1             0             1        0       1           0           1   \n",
       "2             1             0        0       1           0           0   \n",
       "3             0             1        0       1           0           0   \n",
       "4             1             0        0       1           1           0   \n",
       "\n",
       "   WORK_GR_3조  WORK_GR_4조  \n",
       "0           0           0  \n",
       "1           0           0  \n",
       "2           1           0  \n",
       "3           1           0  \n",
       "4           0           0  \n",
       "\n",
       "[5 rows x 33 columns]"
      ]
     },
     "execution_count": 52,
     "metadata": {},
     "output_type": "execute_result"
    }
   ],
   "source": [
    "df_raw_dummy.head()"
   ]
  },
  {
   "cell_type": "code",
   "execution_count": 53,
   "metadata": {},
   "outputs": [
    {
     "data": {
      "text/html": [
       "<div>\n",
       "<style scoped>\n",
       "    .dataframe tbody tr th:only-of-type {\n",
       "        vertical-align: middle;\n",
       "    }\n",
       "\n",
       "    .dataframe tbody tr th {\n",
       "        vertical-align: top;\n",
       "    }\n",
       "\n",
       "    .dataframe thead th {\n",
       "        text-align: right;\n",
       "    }\n",
       "</style>\n",
       "<table border=\"1\" class=\"dataframe\">\n",
       "  <thead>\n",
       "    <tr style=\"text-align: right;\">\n",
       "      <th></th>\n",
       "      <th>PT_THK</th>\n",
       "      <th>PT_WDTH</th>\n",
       "      <th>PT_LTH</th>\n",
       "      <th>PT_WGT</th>\n",
       "      <th>FUR_HZ_TEMP</th>\n",
       "      <th>FUR_HZ_TIME</th>\n",
       "      <th>FUR_SZ_TEMP</th>\n",
       "      <th>FUR_SZ_TIME</th>\n",
       "      <th>FUR_TIME</th>\n",
       "      <th>FUR_EXTEMP</th>\n",
       "      <th>...</th>\n",
       "      <th>FUR_NO_2호기</th>\n",
       "      <th>FUR_NO_3호기</th>\n",
       "      <th>FUR_NO_ROW_1</th>\n",
       "      <th>FUR_NO_ROW_2</th>\n",
       "      <th>HSB_미적용</th>\n",
       "      <th>HSB_적용</th>\n",
       "      <th>WORK_GR_1조</th>\n",
       "      <th>WORK_GR_2조</th>\n",
       "      <th>WORK_GR_3조</th>\n",
       "      <th>WORK_GR_4조</th>\n",
       "    </tr>\n",
       "  </thead>\n",
       "  <tbody>\n",
       "    <tr>\n",
       "      <th>0</th>\n",
       "      <td>32.25</td>\n",
       "      <td>3707</td>\n",
       "      <td>15109</td>\n",
       "      <td>14180</td>\n",
       "      <td>1144</td>\n",
       "      <td>116</td>\n",
       "      <td>1133</td>\n",
       "      <td>59</td>\n",
       "      <td>282</td>\n",
       "      <td>1133</td>\n",
       "      <td>...</td>\n",
       "      <td>0</td>\n",
       "      <td>0</td>\n",
       "      <td>1</td>\n",
       "      <td>0</td>\n",
       "      <td>0</td>\n",
       "      <td>1</td>\n",
       "      <td>0</td>\n",
       "      <td>1</td>\n",
       "      <td>0</td>\n",
       "      <td>0</td>\n",
       "    </tr>\n",
       "    <tr>\n",
       "      <th>1</th>\n",
       "      <td>32.25</td>\n",
       "      <td>3707</td>\n",
       "      <td>15109</td>\n",
       "      <td>14180</td>\n",
       "      <td>1144</td>\n",
       "      <td>122</td>\n",
       "      <td>1135</td>\n",
       "      <td>53</td>\n",
       "      <td>283</td>\n",
       "      <td>1135</td>\n",
       "      <td>...</td>\n",
       "      <td>0</td>\n",
       "      <td>0</td>\n",
       "      <td>0</td>\n",
       "      <td>1</td>\n",
       "      <td>0</td>\n",
       "      <td>1</td>\n",
       "      <td>0</td>\n",
       "      <td>1</td>\n",
       "      <td>0</td>\n",
       "      <td>0</td>\n",
       "    </tr>\n",
       "    <tr>\n",
       "      <th>2</th>\n",
       "      <td>33.27</td>\n",
       "      <td>3619</td>\n",
       "      <td>19181</td>\n",
       "      <td>18130</td>\n",
       "      <td>1129</td>\n",
       "      <td>116</td>\n",
       "      <td>1121</td>\n",
       "      <td>55</td>\n",
       "      <td>282</td>\n",
       "      <td>1121</td>\n",
       "      <td>...</td>\n",
       "      <td>1</td>\n",
       "      <td>0</td>\n",
       "      <td>1</td>\n",
       "      <td>0</td>\n",
       "      <td>0</td>\n",
       "      <td>1</td>\n",
       "      <td>0</td>\n",
       "      <td>0</td>\n",
       "      <td>1</td>\n",
       "      <td>0</td>\n",
       "    </tr>\n",
       "    <tr>\n",
       "      <th>3</th>\n",
       "      <td>33.27</td>\n",
       "      <td>3619</td>\n",
       "      <td>19181</td>\n",
       "      <td>18130</td>\n",
       "      <td>1152</td>\n",
       "      <td>125</td>\n",
       "      <td>1127</td>\n",
       "      <td>68</td>\n",
       "      <td>316</td>\n",
       "      <td>1127</td>\n",
       "      <td>...</td>\n",
       "      <td>1</td>\n",
       "      <td>0</td>\n",
       "      <td>0</td>\n",
       "      <td>1</td>\n",
       "      <td>0</td>\n",
       "      <td>1</td>\n",
       "      <td>0</td>\n",
       "      <td>0</td>\n",
       "      <td>1</td>\n",
       "      <td>0</td>\n",
       "    </tr>\n",
       "    <tr>\n",
       "      <th>4</th>\n",
       "      <td>38.33</td>\n",
       "      <td>3098</td>\n",
       "      <td>13334</td>\n",
       "      <td>12430</td>\n",
       "      <td>1140</td>\n",
       "      <td>134</td>\n",
       "      <td>1128</td>\n",
       "      <td>48</td>\n",
       "      <td>314</td>\n",
       "      <td>1128</td>\n",
       "      <td>...</td>\n",
       "      <td>0</td>\n",
       "      <td>1</td>\n",
       "      <td>1</td>\n",
       "      <td>0</td>\n",
       "      <td>0</td>\n",
       "      <td>1</td>\n",
       "      <td>1</td>\n",
       "      <td>0</td>\n",
       "      <td>0</td>\n",
       "      <td>0</td>\n",
       "    </tr>\n",
       "  </tbody>\n",
       "</table>\n",
       "<p>5 rows × 32 columns</p>\n",
       "</div>"
      ],
      "text/plain": [
       "   PT_THK  PT_WDTH  PT_LTH  PT_WGT  FUR_HZ_TEMP  FUR_HZ_TIME  FUR_SZ_TEMP  \\\n",
       "0   32.25     3707   15109   14180         1144          116         1133   \n",
       "1   32.25     3707   15109   14180         1144          122         1135   \n",
       "2   33.27     3619   19181   18130         1129          116         1121   \n",
       "3   33.27     3619   19181   18130         1152          125         1127   \n",
       "4   38.33     3098   13334   12430         1140          134         1128   \n",
       "\n",
       "   FUR_SZ_TIME  FUR_TIME  FUR_EXTEMP  ...  FUR_NO_2호기  FUR_NO_3호기  \\\n",
       "0           59       282        1133  ...           0           0   \n",
       "1           53       283        1135  ...           0           0   \n",
       "2           55       282        1121  ...           1           0   \n",
       "3           68       316        1127  ...           1           0   \n",
       "4           48       314        1128  ...           0           1   \n",
       "\n",
       "   FUR_NO_ROW_1  FUR_NO_ROW_2  HSB_미적용  HSB_적용  WORK_GR_1조  WORK_GR_2조  \\\n",
       "0             1             0        0       1           0           1   \n",
       "1             0             1        0       1           0           1   \n",
       "2             1             0        0       1           0           0   \n",
       "3             0             1        0       1           0           0   \n",
       "4             1             0        0       1           1           0   \n",
       "\n",
       "   WORK_GR_3조  WORK_GR_4조  \n",
       "0           0           0  \n",
       "1           0           0  \n",
       "2           1           0  \n",
       "3           1           0  \n",
       "4           0           0  \n",
       "\n",
       "[5 rows x 32 columns]"
      ]
     },
     "execution_count": 53,
     "metadata": {},
     "output_type": "execute_result"
    }
   ],
   "source": [
    "df_raw_x =df_raw_dummy.drop(['SCALE'],axis = 1, inplace = False) # 설명변수 데이터 프레임\n",
    "df_raw_y =df_raw_dummy['SCALE'] # 목표변수 시리즈\n",
    "df_raw_x.head()"
   ]
  },
  {
   "cell_type": "code",
   "execution_count": 54,
   "metadata": {},
   "outputs": [
    {
     "name": "stdout",
     "output_type": "stream",
     "text": [
      "train data X size:(499, 32)\n",
      "train data Y size:(499,)\n",
      "test data X size:(215, 32)\n",
      "test data Y size:(215,)\n"
     ]
    }
   ],
   "source": [
    "df_train_x, df_test_x , df_train_y, df_test_y = \\\n",
    "train_test_split(df_raw_x, df_raw_y, test_size= 0.3, random_state=9981) \n",
    "print('train data X size:{}'.format(df_train_x.shape))\n",
    "print('train data Y size:{}'.format(df_train_y.shape))\n",
    "print('test data X size:{}'.format(df_test_x.shape))\n",
    "print('test data Y size:{}'.format(df_test_y.shape))"
   ]
  },
  {
   "cell_type": "code",
   "execution_count": 55,
   "metadata": {},
   "outputs": [
    {
     "name": "stdout",
     "output_type": "stream",
     "text": [
      "train data X size:(285, 32)\n",
      "train data Y size:(285,)\n",
      "test data X size:(215, 32)\n",
      "test data Y size:(215,)\n",
      "val data X size:(214, 32)\n",
      "val data Y size:(214,)\n"
     ]
    }
   ],
   "source": [
    "df_train_x, df_val_x, df_train_y, df_val_y = \\\n",
    "train_test_split(df_train_x,df_train_y, train_size=4/7, random_state=9981)\n",
    "\n",
    "print('train data X size:{}'.format(df_train_x.shape))\n",
    "print('train data Y size:{}'.format(df_train_y.shape))\n",
    "print('test data X size:{}'.format(df_test_x.shape))\n",
    "print('test data Y size:{}'.format(df_test_y.shape))\n",
    "print('val data X size:{}'.format(df_val_x.shape))\n",
    "print('val data Y size:{}'.format(df_val_y.shape))\n"
   ]
  },
  {
   "cell_type": "code",
   "execution_count": 56,
   "metadata": {},
   "outputs": [
    {
     "name": "stdout",
     "output_type": "stream",
     "text": [
      "Score on training set: 1.000\n",
      "Score on test set: 0.944\n"
     ]
    }
   ],
   "source": [
    "\n",
    "tree_uncustomized =DecisionTreeClassifier(random_state = 9981)\n",
    "tree_uncustomized.fit(df_train_x, df_train_y)\n",
    "#train 데이터 설명력\n",
    "print('Score on training set: {:.3f}'.format(tree_uncustomized.score(df_train_x,df_train_y)))\n",
    "#test 데이터 설명력\n",
    "print('Score on test set: {:.3f}'.format(tree_uncustomized.score(df_val_x, df_val_y)))\n",
    "#default 모델을 test 데이터 셋으로 검증해본 결과\n",
    "# train set에서는 정확도를 100%를 보이고 test set 에서는 정확도 100%로 나왔다.\n"
   ]
  },
  {
   "cell_type": "code",
   "execution_count": 57,
   "metadata": {},
   "outputs": [
    {
     "data": {
      "text/plain": [
       "DecisionTreeClassifier(random_state=9981)"
      ]
     },
     "execution_count": 57,
     "metadata": {},
     "output_type": "execute_result"
    }
   ],
   "source": [
    "tree_uncustomized"
   ]
  },
  {
   "cell_type": "code",
   "execution_count": 58,
   "metadata": {},
   "outputs": [
    {
     "data": {
      "text/html": [
       "<div>\n",
       "<style scoped>\n",
       "    .dataframe tbody tr th:only-of-type {\n",
       "        vertical-align: middle;\n",
       "    }\n",
       "\n",
       "    .dataframe tbody tr th {\n",
       "        vertical-align: top;\n",
       "    }\n",
       "\n",
       "    .dataframe thead th {\n",
       "        text-align: right;\n",
       "    }\n",
       "</style>\n",
       "<table border=\"1\" class=\"dataframe\">\n",
       "  <thead>\n",
       "    <tr style=\"text-align: right;\">\n",
       "      <th></th>\n",
       "      <th>Feature</th>\n",
       "      <th>Importance</th>\n",
       "    </tr>\n",
       "  </thead>\n",
       "  <tbody>\n",
       "    <tr>\n",
       "      <th>10</th>\n",
       "      <td>ROLLING_TEMP_T5</td>\n",
       "      <td>0.620</td>\n",
       "    </tr>\n",
       "    <tr>\n",
       "      <th>9</th>\n",
       "      <td>FUR_EXTEMP</td>\n",
       "      <td>0.134</td>\n",
       "    </tr>\n",
       "    <tr>\n",
       "      <th>26</th>\n",
       "      <td>HSB_미적용</td>\n",
       "      <td>0.132</td>\n",
       "    </tr>\n",
       "    <tr>\n",
       "      <th>11</th>\n",
       "      <td>ROLLING_DESCALING</td>\n",
       "      <td>0.024</td>\n",
       "    </tr>\n",
       "    <tr>\n",
       "      <th>5</th>\n",
       "      <td>FUR_HZ_TIME</td>\n",
       "      <td>0.020</td>\n",
       "    </tr>\n",
       "  </tbody>\n",
       "</table>\n",
       "</div>"
      ],
      "text/plain": [
       "              Feature  Importance\n",
       "10    ROLLING_TEMP_T5       0.620\n",
       "9          FUR_EXTEMP       0.134\n",
       "26            HSB_미적용       0.132\n",
       "11  ROLLING_DESCALING       0.024\n",
       "5         FUR_HZ_TIME       0.020"
      ]
     },
     "execution_count": 58,
     "metadata": {},
     "output_type": "execute_result"
    }
   ],
   "source": [
    "\n",
    "v_feature_name = df_train_x.columns\n",
    "\n",
    "df_importance = pd.DataFrame()\n",
    "df_importance['Feature'] = v_feature_name\n",
    "df_importance['Importance'] = tree_uncustomized.feature_importances_\n",
    "\n",
    "df_importance.sort_values(\"Importance\", ascending=False, inplace=True)\n",
    "df_importance.round(3)[:5]\n",
    "\n"
   ]
  },
  {
   "cell_type": "code",
   "execution_count": 59,
   "metadata": {},
   "outputs": [
    {
     "data": {
      "text/plain": [
       "Text(0, 0.5, '변수')"
      ]
     },
     "execution_count": 59,
     "metadata": {},
     "output_type": "execute_result"
    },
    {
     "data": {
      "image/png": "[encoded data removed]",
      "text/plain": [
       "<Figure size 1440x2160 with 1 Axes>"
      ]
     },
     "metadata": {
      "needs_background": "light"
     },
     "output_type": "display_data"
    }
   ],
   "source": [
    "df_importance.sort_values('Importance', ascending=True, inplace=True)\n",
    "coordinates = range(len(df_importance))\n",
    "fig = plt.figure(figsize = (20, 30))\n",
    "plt.barh(y=coordinates, width=df_importance['Importance'])\n",
    "plt.yticks(coordinates, df_importance['Feature'])\n",
    "plt.xlabel('변수중요도')\n",
    "plt.ylabel('변수')"
   ]
  },
  {
   "cell_type": "code",
   "execution_count": 62,
   "metadata": {},
   "outputs": [
    {
     "data": {
      "image/svg+xml": [
       "<?xml version=\"1.0\" encoding=\"UTF-8\" standalone=\"no\"?>\n",
       "<!DOCTYPE svg PUBLIC \"-//W3C//DTD SVG 1.1//EN\"\n",
       " \"http://www.w3.org/Graphics/SVG/1.1/DTD/svg11.dtd\">\n",
       "<!-- Generated by graphviz version 2.40.1 (20161225.0304)\n",
       " -->\n",
       "<!-- Title: Tree Pages: 1 -->\n",
       "<svg width=\"847pt\" height=\"1623pt\"\n",
       " viewBox=\"0.00 0.00 847.00 1623.00\" xmlns=\"http://www.w3.org/2000/svg\" xmlns:xlink=\"http://www.w3.org/1999/xlink\">\n",
       "<g id=\"graph0\" class=\"graph\" transform=\"scale(1 1) rotate(0) translate(4 1619)\">\n",
       "<title>Tree</title>\n",
       "<polygon fill=\"#ffffff\" stroke=\"transparent\" points=\"-4,4 -4,-1619 843,-1619 843,4 -4,4\"/>\n",
       "<!-- 0 -->\n",
       "<g id=\"node1\" class=\"node\">\n",
       "<title>0</title>\n",
       "<polygon fill=\"#f0b890\" stroke=\"#000000\" points=\"753.5,-1615 550.5,-1615 550.5,-1532 753.5,-1532 753.5,-1615\"/>\n",
       "<text text-anchor=\"middle\" x=\"652\" y=\"-1599.8\" font-family=\"Times,serif\" font-size=\"14.00\" fill=\"#000000\">ROLLING_TEMP_T5 &lt;= 1000.5</text>\n",
       "<text text-anchor=\"middle\" x=\"652\" y=\"-1584.8\" font-family=\"Times,serif\" font-size=\"14.00\" fill=\"#000000\">gini = 0.424</text>\n",
       "<text text-anchor=\"middle\" x=\"652\" y=\"-1569.8\" font-family=\"Times,serif\" font-size=\"14.00\" fill=\"#000000\">samples = 285</text>\n",
       "<text text-anchor=\"middle\" x=\"652\" y=\"-1554.8\" font-family=\"Times,serif\" font-size=\"14.00\" fill=\"#000000\">value = [198, 87]</text>\n",
       "<text text-anchor=\"middle\" x=\"652\" y=\"-1539.8\" font-family=\"Times,serif\" font-size=\"14.00\" fill=\"#000000\">class = 양품</text>\n",
       "</g>\n",
       "<!-- 1 -->\n",
       "<g id=\"node2\" class=\"node\">\n",
       "<title>1</title>\n",
       "<polygon fill=\"#e89253\" stroke=\"#000000\" points=\"660,-1496 494,-1496 494,-1413 660,-1413 660,-1496\"/>\n",
       "<text text-anchor=\"middle\" x=\"577\" y=\"-1480.8\" font-family=\"Times,serif\" font-size=\"14.00\" fill=\"#000000\">FUR_EXTEMP &lt;= 1175.0</text>\n",
       "<text text-anchor=\"middle\" x=\"577\" y=\"-1465.8\" font-family=\"Times,serif\" font-size=\"14.00\" fill=\"#000000\">gini = 0.205</text>\n",
       "<text text-anchor=\"middle\" x=\"577\" y=\"-1450.8\" font-family=\"Times,serif\" font-size=\"14.00\" fill=\"#000000\">samples = 224</text>\n",
       "<text text-anchor=\"middle\" x=\"577\" y=\"-1435.8\" font-family=\"Times,serif\" font-size=\"14.00\" fill=\"#000000\">value = [198, 26]</text>\n",
       "<text text-anchor=\"middle\" x=\"577\" y=\"-1420.8\" font-family=\"Times,serif\" font-size=\"14.00\" fill=\"#000000\">class = 양품</text>\n",
       "</g>\n",
       "<!-- 0&#45;&gt;1 -->\n",
       "<g id=\"edge1\" class=\"edge\">\n",
       "<title>0&#45;&gt;1</title>\n",
       "<path fill=\"none\" stroke=\"#000000\" d=\"M625.7686,-1531.8796C620.2627,-1523.1434 614.3994,-1513.8404 608.7176,-1504.8253\"/>\n",
       "<polygon fill=\"#000000\" stroke=\"#000000\" points=\"611.6363,-1502.8919 603.3433,-1496.2981 605.7143,-1506.6242 611.6363,-1502.8919\"/>\n",
       "<text text-anchor=\"middle\" x=\"597.8137\" y=\"-1516.9789\" font-family=\"Times,serif\" font-size=\"14.00\" fill=\"#000000\">True</text>\n",
       "</g>\n",
       "<!-- 34 -->\n",
       "<g id=\"node35\" class=\"node\">\n",
       "<title>34</title>\n",
       "<polygon fill=\"#399de5\" stroke=\"#000000\" points=\"776,-1488.5 678,-1488.5 678,-1420.5 776,-1420.5 776,-1488.5\"/>\n",
       "<text text-anchor=\"middle\" x=\"727\" y=\"-1473.3\" font-family=\"Times,serif\" font-size=\"14.00\" fill=\"#000000\">gini = 0.0</text>\n",
       "<text text-anchor=\"middle\" x=\"727\" y=\"-1458.3\" font-family=\"Times,serif\" font-size=\"14.00\" fill=\"#000000\">samples = 61</text>\n",
       "<text text-anchor=\"middle\" x=\"727\" y=\"-1443.3\" font-family=\"Times,serif\" font-size=\"14.00\" fill=\"#000000\">value = [0, 61]</text>\n",
       "<text text-anchor=\"middle\" x=\"727\" y=\"-1428.3\" font-family=\"Times,serif\" font-size=\"14.00\" fill=\"#000000\">class = 불량</text>\n",
       "</g>\n",
       "<!-- 0&#45;&gt;34 -->\n",
       "<g id=\"edge34\" class=\"edge\">\n",
       "<title>0&#45;&gt;34</title>\n",
       "<path fill=\"none\" stroke=\"#000000\" d=\"M678.2314,-1531.8796C685.231,-1520.7735 692.808,-1508.7513 699.8556,-1497.5691\"/>\n",
       "<polygon fill=\"#000000\" stroke=\"#000000\" points=\"703.002,-1499.1411 705.3729,-1488.8149 697.08,-1495.4087 703.002,-1499.1411\"/>\n",
       "<text text-anchor=\"middle\" x=\"710.9026\" y=\"-1509.4957\" font-family=\"Times,serif\" font-size=\"14.00\" fill=\"#000000\">False</text>\n",
       "</g>\n",
       "<!-- 2 -->\n",
       "<g id=\"node3\" class=\"node\">\n",
       "<title>2</title>\n",
       "<polygon fill=\"#e78c4a\" stroke=\"#000000\" points=\"577.5,-1377 446.5,-1377 446.5,-1294 577.5,-1294 577.5,-1377\"/>\n",
       "<text text-anchor=\"middle\" x=\"512\" y=\"-1361.8\" font-family=\"Times,serif\" font-size=\"14.00\" fill=\"#000000\">HSB_미적용 &lt;= 0.5</text>\n",
       "<text text-anchor=\"middle\" x=\"512\" y=\"-1346.8\" font-family=\"Times,serif\" font-size=\"14.00\" fill=\"#000000\">gini = 0.146</text>\n",
       "<text text-anchor=\"middle\" x=\"512\" y=\"-1331.8\" font-family=\"Times,serif\" font-size=\"14.00\" fill=\"#000000\">samples = 215</text>\n",
       "<text text-anchor=\"middle\" x=\"512\" y=\"-1316.8\" font-family=\"Times,serif\" font-size=\"14.00\" fill=\"#000000\">value = [198, 17]</text>\n",
       "<text text-anchor=\"middle\" x=\"512\" y=\"-1301.8\" font-family=\"Times,serif\" font-size=\"14.00\" fill=\"#000000\">class = 양품</text>\n",
       "</g>\n",
       "<!-- 1&#45;&gt;2 -->\n",
       "<g id=\"edge2\" class=\"edge\">\n",
       "<title>1&#45;&gt;2</title>\n",
       "<path fill=\"none\" stroke=\"#000000\" d=\"M554.2662,-1412.8796C549.5435,-1404.2335 544.5176,-1395.0322 539.641,-1386.1042\"/>\n",
       "<polygon fill=\"#000000\" stroke=\"#000000\" points=\"542.6963,-1384.3964 534.8309,-1377.2981 536.553,-1387.752 542.6963,-1384.3964\"/>\n",
       "</g>\n",
       "<!-- 33 -->\n",
       "<g id=\"node34\" class=\"node\">\n",
       "<title>33</title>\n",
       "<polygon fill=\"#399de5\" stroke=\"#000000\" points=\"688,-1369.5 596,-1369.5 596,-1301.5 688,-1301.5 688,-1369.5\"/>\n",
       "<text text-anchor=\"middle\" x=\"642\" y=\"-1354.3\" font-family=\"Times,serif\" font-size=\"14.00\" fill=\"#000000\">gini = 0.0</text>\n",
       "<text text-anchor=\"middle\" x=\"642\" y=\"-1339.3\" font-family=\"Times,serif\" font-size=\"14.00\" fill=\"#000000\">samples = 9</text>\n",
       "<text text-anchor=\"middle\" x=\"642\" y=\"-1324.3\" font-family=\"Times,serif\" font-size=\"14.00\" fill=\"#000000\">value = [0, 9]</text>\n",
       "<text text-anchor=\"middle\" x=\"642\" y=\"-1309.3\" font-family=\"Times,serif\" font-size=\"14.00\" fill=\"#000000\">class = 불량</text>\n",
       "</g>\n",
       "<!-- 1&#45;&gt;33 -->\n",
       "<g id=\"edge33\" class=\"edge\">\n",
       "<title>1&#45;&gt;33</title>\n",
       "<path fill=\"none\" stroke=\"#000000\" d=\"M599.7338,-1412.8796C605.7401,-1401.8835 612.237,-1389.9893 618.2933,-1378.9015\"/>\n",
       "<polygon fill=\"#000000\" stroke=\"#000000\" points=\"621.5345,-1380.2689 623.2565,-1369.8149 615.3912,-1376.9133 621.5345,-1380.2689\"/>\n",
       "</g>\n",
       "<!-- 3 -->\n",
       "<g id=\"node4\" class=\"node\">\n",
       "<title>3</title>\n",
       "<polygon fill=\"#e68641\" stroke=\"#000000\" points=\"530,-1258 330,-1258 330,-1175 530,-1175 530,-1258\"/>\n",
       "<text text-anchor=\"middle\" x=\"430\" y=\"-1242.8\" font-family=\"Times,serif\" font-size=\"14.00\" fill=\"#000000\">ROLLING_DESCALING &lt;= 5.5</text>\n",
       "<text text-anchor=\"middle\" x=\"430\" y=\"-1227.8\" font-family=\"Times,serif\" font-size=\"14.00\" fill=\"#000000\">gini = 0.075</text>\n",
       "<text text-anchor=\"middle\" x=\"430\" y=\"-1212.8\" font-family=\"Times,serif\" font-size=\"14.00\" fill=\"#000000\">samples = 206</text>\n",
       "<text text-anchor=\"middle\" x=\"430\" y=\"-1197.8\" font-family=\"Times,serif\" font-size=\"14.00\" fill=\"#000000\">value = [198, 8]</text>\n",
       "<text text-anchor=\"middle\" x=\"430\" y=\"-1182.8\" font-family=\"Times,serif\" font-size=\"14.00\" fill=\"#000000\">class = 양품</text>\n",
       "</g>\n",
       "<!-- 2&#45;&gt;3 -->\n",
       "<g id=\"edge3\" class=\"edge\">\n",
       "<title>2&#45;&gt;3</title>\n",
       "<path fill=\"none\" stroke=\"#000000\" d=\"M483.3204,-1293.8796C477.2385,-1285.0534 470.7578,-1275.6485 464.4859,-1266.5466\"/>\n",
       "<polygon fill=\"#000000\" stroke=\"#000000\" points=\"467.3582,-1264.5465 458.802,-1258.2981 461.5941,-1268.5184 467.3582,-1264.5465\"/>\n",
       "</g>\n",
       "<!-- 32 -->\n",
       "<g id=\"node33\" class=\"node\">\n",
       "<title>32</title>\n",
       "<polygon fill=\"#399de5\" stroke=\"#000000\" points=\"640,-1250.5 548,-1250.5 548,-1182.5 640,-1182.5 640,-1250.5\"/>\n",
       "<text text-anchor=\"middle\" x=\"594\" y=\"-1235.3\" font-family=\"Times,serif\" font-size=\"14.00\" fill=\"#000000\">gini = 0.0</text>\n",
       "<text text-anchor=\"middle\" x=\"594\" y=\"-1220.3\" font-family=\"Times,serif\" font-size=\"14.00\" fill=\"#000000\">samples = 9</text>\n",
       "<text text-anchor=\"middle\" x=\"594\" y=\"-1205.3\" font-family=\"Times,serif\" font-size=\"14.00\" fill=\"#000000\">value = [0, 9]</text>\n",
       "<text text-anchor=\"middle\" x=\"594\" y=\"-1190.3\" font-family=\"Times,serif\" font-size=\"14.00\" fill=\"#000000\">class = 불량</text>\n",
       "</g>\n",
       "<!-- 2&#45;&gt;32 -->\n",
       "<g id=\"edge32\" class=\"edge\">\n",
       "<title>2&#45;&gt;32</title>\n",
       "<path fill=\"none\" stroke=\"#000000\" d=\"M540.6796,-1293.8796C548.4083,-1282.6636 556.7809,-1270.5131 564.5508,-1259.2372\"/>\n",
       "<polygon fill=\"#000000\" stroke=\"#000000\" points=\"567.5623,-1261.0353 570.3544,-1250.8149 561.7982,-1257.0634 567.5623,-1261.0353\"/>\n",
       "</g>\n",
       "<!-- 4 -->\n",
       "<g id=\"node5\" class=\"node\">\n",
       "<title>4</title>\n",
       "<polygon fill=\"#399de5\" stroke=\"#000000\" points=\"406,-1131.5 314,-1131.5 314,-1063.5 406,-1063.5 406,-1131.5\"/>\n",
       "<text text-anchor=\"middle\" x=\"360\" y=\"-1116.3\" font-family=\"Times,serif\" font-size=\"14.00\" fill=\"#000000\">gini = 0.0</text>\n",
       "<text text-anchor=\"middle\" x=\"360\" y=\"-1101.3\" font-family=\"Times,serif\" font-size=\"14.00\" fill=\"#000000\">samples = 1</text>\n",
       "<text text-anchor=\"middle\" x=\"360\" y=\"-1086.3\" font-family=\"Times,serif\" font-size=\"14.00\" fill=\"#000000\">value = [0, 1]</text>\n",
       "<text text-anchor=\"middle\" x=\"360\" y=\"-1071.3\" font-family=\"Times,serif\" font-size=\"14.00\" fill=\"#000000\">class = 불량</text>\n",
       "</g>\n",
       "<!-- 3&#45;&gt;4 -->\n",
       "<g id=\"edge4\" class=\"edge\">\n",
       "<title>3&#45;&gt;4</title>\n",
       "<path fill=\"none\" stroke=\"#000000\" d=\"M405.5174,-1174.8796C398.9844,-1163.7735 391.9125,-1151.7513 385.3348,-1140.5691\"/>\n",
       "<polygon fill=\"#000000\" stroke=\"#000000\" points=\"388.2723,-1138.6597 380.1853,-1131.8149 382.2387,-1142.2089 388.2723,-1138.6597\"/>\n",
       "</g>\n",
       "<!-- 5 -->\n",
       "<g id=\"node6\" class=\"node\">\n",
       "<title>5</title>\n",
       "<polygon fill=\"#e68540\" stroke=\"#000000\" points=\"578,-1139 424,-1139 424,-1056 578,-1056 578,-1139\"/>\n",
       "<text text-anchor=\"middle\" x=\"501\" y=\"-1123.8\" font-family=\"Times,serif\" font-size=\"14.00\" fill=\"#000000\">FUR_SZ_TIME &lt;= 39.0</text>\n",
       "<text text-anchor=\"middle\" x=\"501\" y=\"-1108.8\" font-family=\"Times,serif\" font-size=\"14.00\" fill=\"#000000\">gini = 0.066</text>\n",
       "<text text-anchor=\"middle\" x=\"501\" y=\"-1093.8\" font-family=\"Times,serif\" font-size=\"14.00\" fill=\"#000000\">samples = 205</text>\n",
       "<text text-anchor=\"middle\" x=\"501\" y=\"-1078.8\" font-family=\"Times,serif\" font-size=\"14.00\" fill=\"#000000\">value = [198, 7]</text>\n",
       "<text text-anchor=\"middle\" x=\"501\" y=\"-1063.8\" font-family=\"Times,serif\" font-size=\"14.00\" fill=\"#000000\">class = 양품</text>\n",
       "</g>\n",
       "<!-- 3&#45;&gt;5 -->\n",
       "<g id=\"edge5\" class=\"edge\">\n",
       "<title>3&#45;&gt;5</title>\n",
       "<path fill=\"none\" stroke=\"#000000\" d=\"M454.8324,-1174.8796C459.9909,-1166.2335 465.4808,-1157.0322 470.8076,-1148.1042\"/>\n",
       "<polygon fill=\"#000000\" stroke=\"#000000\" points=\"473.9436,-1149.679 476.0617,-1139.2981 467.9322,-1146.0924 473.9436,-1149.679\"/>\n",
       "</g>\n",
       "<!-- 6 -->\n",
       "<g id=\"node7\" class=\"node\">\n",
       "<title>6</title>\n",
       "<polygon fill=\"#399de5\" stroke=\"#000000\" points=\"480,-1012.5 388,-1012.5 388,-944.5 480,-944.5 480,-1012.5\"/>\n",
       "<text text-anchor=\"middle\" x=\"434\" y=\"-997.3\" font-family=\"Times,serif\" font-size=\"14.00\" fill=\"#000000\">gini = 0.0</text>\n",
       "<text text-anchor=\"middle\" x=\"434\" y=\"-982.3\" font-family=\"Times,serif\" font-size=\"14.00\" fill=\"#000000\">samples = 1</text>\n",
       "<text text-anchor=\"middle\" x=\"434\" y=\"-967.3\" font-family=\"Times,serif\" font-size=\"14.00\" fill=\"#000000\">value = [0, 1]</text>\n",
       "<text text-anchor=\"middle\" x=\"434\" y=\"-952.3\" font-family=\"Times,serif\" font-size=\"14.00\" fill=\"#000000\">class = 불량</text>\n",
       "</g>\n",
       "<!-- 5&#45;&gt;6 -->\n",
       "<g id=\"edge6\" class=\"edge\">\n",
       "<title>5&#45;&gt;6</title>\n",
       "<path fill=\"none\" stroke=\"#000000\" d=\"M477.5667,-1055.8796C471.3137,-1044.7735 464.5448,-1032.7513 458.249,-1021.5691\"/>\n",
       "<polygon fill=\"#000000\" stroke=\"#000000\" points=\"461.2761,-1019.8116 453.3202,-1012.8149 455.1765,-1023.2459 461.2761,-1019.8116\"/>\n",
       "</g>\n",
       "<!-- 7 -->\n",
       "<g id=\"node8\" class=\"node\">\n",
       "<title>7</title>\n",
       "<polygon fill=\"#e6853f\" stroke=\"#000000\" points=\"640,-1020 498,-1020 498,-937 640,-937 640,-1020\"/>\n",
       "<text text-anchor=\"middle\" x=\"569\" y=\"-1004.8\" font-family=\"Times,serif\" font-size=\"14.00\" fill=\"#000000\">PT_WDTH &lt;= 4450.5</text>\n",
       "<text text-anchor=\"middle\" x=\"569\" y=\"-989.8\" font-family=\"Times,serif\" font-size=\"14.00\" fill=\"#000000\">gini = 0.057</text>\n",
       "<text text-anchor=\"middle\" x=\"569\" y=\"-974.8\" font-family=\"Times,serif\" font-size=\"14.00\" fill=\"#000000\">samples = 204</text>\n",
       "<text text-anchor=\"middle\" x=\"569\" y=\"-959.8\" font-family=\"Times,serif\" font-size=\"14.00\" fill=\"#000000\">value = [198, 6]</text>\n",
       "<text text-anchor=\"middle\" x=\"569\" y=\"-944.8\" font-family=\"Times,serif\" font-size=\"14.00\" fill=\"#000000\">class = 양품</text>\n",
       "</g>\n",
       "<!-- 5&#45;&gt;7 -->\n",
       "<g id=\"edge7\" class=\"edge\">\n",
       "<title>5&#45;&gt;7</title>\n",
       "<path fill=\"none\" stroke=\"#000000\" d=\"M524.7831,-1055.8796C529.7237,-1047.2335 534.9816,-1038.0322 540.0833,-1029.1042\"/>\n",
       "<polygon fill=\"#000000\" stroke=\"#000000\" points=\"543.1928,-1030.717 545.1154,-1020.2981 537.1151,-1027.244 543.1928,-1030.717\"/>\n",
       "</g>\n",
       "<!-- 8 -->\n",
       "<g id=\"node9\" class=\"node\">\n",
       "<title>8</title>\n",
       "<polygon fill=\"#e6843e\" stroke=\"#000000\" points=\"553.5,-901 380.5,-901 380.5,-818 553.5,-818 553.5,-901\"/>\n",
       "<text text-anchor=\"middle\" x=\"467\" y=\"-885.8\" font-family=\"Times,serif\" font-size=\"14.00\" fill=\"#000000\">FUR_HZ_TEMP &lt;= 1193.0</text>\n",
       "<text text-anchor=\"middle\" x=\"467\" y=\"-870.8\" font-family=\"Times,serif\" font-size=\"14.00\" fill=\"#000000\">gini = 0.048</text>\n",
       "<text text-anchor=\"middle\" x=\"467\" y=\"-855.8\" font-family=\"Times,serif\" font-size=\"14.00\" fill=\"#000000\">samples = 202</text>\n",
       "<text text-anchor=\"middle\" x=\"467\" y=\"-840.8\" font-family=\"Times,serif\" font-size=\"14.00\" fill=\"#000000\">value = [197, 5]</text>\n",
       "<text text-anchor=\"middle\" x=\"467\" y=\"-825.8\" font-family=\"Times,serif\" font-size=\"14.00\" fill=\"#000000\">class = 양품</text>\n",
       "</g>\n",
       "<!-- 7&#45;&gt;8 -->\n",
       "<g id=\"edge8\" class=\"edge\">\n",
       "<title>7&#45;&gt;8</title>\n",
       "<path fill=\"none\" stroke=\"#000000\" d=\"M533.3253,-936.8796C525.6057,-927.8733 517.3695,-918.2644 509.4197,-908.9897\"/>\n",
       "<polygon fill=\"#000000\" stroke=\"#000000\" points=\"511.9923,-906.6129 502.8269,-901.2981 506.6775,-911.1684 511.9923,-906.6129\"/>\n",
       "</g>\n",
       "<!-- 29 -->\n",
       "<g id=\"node30\" class=\"node\">\n",
       "<title>29</title>\n",
       "<polygon fill=\"#ffffff\" stroke=\"#000000\" points=\"772,-901 572,-901 572,-818 772,-818 772,-901\"/>\n",
       "<text text-anchor=\"middle\" x=\"672\" y=\"-885.8\" font-family=\"Times,serif\" font-size=\"14.00\" fill=\"#000000\">ROLLING_DESCALING &lt;= 7.5</text>\n",
       "<text text-anchor=\"middle\" x=\"672\" y=\"-870.8\" font-family=\"Times,serif\" font-size=\"14.00\" fill=\"#000000\">gini = 0.5</text>\n",
       "<text text-anchor=\"middle\" x=\"672\" y=\"-855.8\" font-family=\"Times,serif\" font-size=\"14.00\" fill=\"#000000\">samples = 2</text>\n",
       "<text text-anchor=\"middle\" x=\"672\" y=\"-840.8\" font-family=\"Times,serif\" font-size=\"14.00\" fill=\"#000000\">value = [1, 1]</text>\n",
       "<text text-anchor=\"middle\" x=\"672\" y=\"-825.8\" font-family=\"Times,serif\" font-size=\"14.00\" fill=\"#000000\">class = 양품</text>\n",
       "</g>\n",
       "<!-- 7&#45;&gt;29 -->\n",
       "<g id=\"edge29\" class=\"edge\">\n",
       "<title>7&#45;&gt;29</title>\n",
       "<path fill=\"none\" stroke=\"#000000\" d=\"M605.0244,-936.8796C612.8198,-927.8733 621.1367,-918.2644 629.1644,-908.9897\"/>\n",
       "<polygon fill=\"#000000\" stroke=\"#000000\" points=\"631.9237,-911.1498 635.8218,-901.2981 626.6309,-906.5686 631.9237,-911.1498\"/>\n",
       "</g>\n",
       "<!-- 9 -->\n",
       "<g id=\"node10\" class=\"node\">\n",
       "<title>9</title>\n",
       "<polygon fill=\"#e6843d\" stroke=\"#000000\" points=\"376,-782 238,-782 238,-699 376,-699 376,-782\"/>\n",
       "<text text-anchor=\"middle\" x=\"307\" y=\"-766.8\" font-family=\"Times,serif\" font-size=\"14.00\" fill=\"#000000\">FUR_TIME &lt;= 228.0</text>\n",
       "<text text-anchor=\"middle\" x=\"307\" y=\"-751.8\" font-family=\"Times,serif\" font-size=\"14.00\" fill=\"#000000\">gini = 0.039</text>\n",
       "<text text-anchor=\"middle\" x=\"307\" y=\"-736.8\" font-family=\"Times,serif\" font-size=\"14.00\" fill=\"#000000\">samples = 200</text>\n",
       "<text text-anchor=\"middle\" x=\"307\" y=\"-721.8\" font-family=\"Times,serif\" font-size=\"14.00\" fill=\"#000000\">value = [196, 4]</text>\n",
       "<text text-anchor=\"middle\" x=\"307\" y=\"-706.8\" font-family=\"Times,serif\" font-size=\"14.00\" fill=\"#000000\">class = 양품</text>\n",
       "</g>\n",
       "<!-- 8&#45;&gt;9 -->\n",
       "<g id=\"edge9\" class=\"edge\">\n",
       "<title>8&#45;&gt;9</title>\n",
       "<path fill=\"none\" stroke=\"#000000\" d=\"M411.0398,-817.8796C398.1292,-808.2774 384.2979,-797.9903 371.0718,-788.1534\"/>\n",
       "<polygon fill=\"#000000\" stroke=\"#000000\" points=\"373.0414,-785.2564 362.9286,-782.0969 368.8639,-790.8732 373.0414,-785.2564\"/>\n",
       "</g>\n",
       "<!-- 26 -->\n",
       "<g id=\"node27\" class=\"node\">\n",
       "<title>26</title>\n",
       "<polygon fill=\"#ffffff\" stroke=\"#000000\" points=\"567.5,-782 394.5,-782 394.5,-699 567.5,-699 567.5,-782\"/>\n",
       "<text text-anchor=\"middle\" x=\"481\" y=\"-766.8\" font-family=\"Times,serif\" font-size=\"14.00\" fill=\"#000000\">FUR_HZ_TEMP &lt;= 1194.5</text>\n",
       "<text text-anchor=\"middle\" x=\"481\" y=\"-751.8\" font-family=\"Times,serif\" font-size=\"14.00\" fill=\"#000000\">gini = 0.5</text>\n",
       "<text text-anchor=\"middle\" x=\"481\" y=\"-736.8\" font-family=\"Times,serif\" font-size=\"14.00\" fill=\"#000000\">samples = 2</text>\n",
       "<text text-anchor=\"middle\" x=\"481\" y=\"-721.8\" font-family=\"Times,serif\" font-size=\"14.00\" fill=\"#000000\">value = [1, 1]</text>\n",
       "<text text-anchor=\"middle\" x=\"481\" y=\"-706.8\" font-family=\"Times,serif\" font-size=\"14.00\" fill=\"#000000\">class = 양품</text>\n",
       "</g>\n",
       "<!-- 8&#45;&gt;26 -->\n",
       "<g id=\"edge26\" class=\"edge\">\n",
       "<title>8&#45;&gt;26</title>\n",
       "<path fill=\"none\" stroke=\"#000000\" d=\"M471.8965,-817.8796C472.8607,-809.6838 473.8836,-800.9891 474.8822,-792.5013\"/>\n",
       "<polygon fill=\"#000000\" stroke=\"#000000\" points=\"478.3901,-792.6386 476.0826,-782.2981 471.4381,-791.8206 478.3901,-792.6386\"/>\n",
       "</g>\n",
       "<!-- 10 -->\n",
       "<g id=\"node11\" class=\"node\">\n",
       "<title>10</title>\n",
       "<polygon fill=\"#ffffff\" stroke=\"#000000\" points=\"222.5,-663 59.5,-663 59.5,-580 222.5,-580 222.5,-663\"/>\n",
       "<text text-anchor=\"middle\" x=\"141\" y=\"-647.8\" font-family=\"Times,serif\" font-size=\"14.00\" fill=\"#000000\">FUR_NO_ROW_1 &lt;= 0.5</text>\n",
       "<text text-anchor=\"middle\" x=\"141\" y=\"-632.8\" font-family=\"Times,serif\" font-size=\"14.00\" fill=\"#000000\">gini = 0.5</text>\n",
       "<text text-anchor=\"middle\" x=\"141\" y=\"-617.8\" font-family=\"Times,serif\" font-size=\"14.00\" fill=\"#000000\">samples = 2</text>\n",
       "<text text-anchor=\"middle\" x=\"141\" y=\"-602.8\" font-family=\"Times,serif\" font-size=\"14.00\" fill=\"#000000\">value = [1, 1]</text>\n",
       "<text text-anchor=\"middle\" x=\"141\" y=\"-587.8\" font-family=\"Times,serif\" font-size=\"14.00\" fill=\"#000000\">class = 양품</text>\n",
       "</g>\n",
       "<!-- 9&#45;&gt;10 -->\n",
       "<g id=\"edge10\" class=\"edge\">\n",
       "<title>9&#45;&gt;10</title>\n",
       "<path fill=\"none\" stroke=\"#000000\" d=\"M248.9413,-698.8796C235.5466,-689.2774 221.1965,-678.9903 207.4745,-669.1534\"/>\n",
       "<polygon fill=\"#000000\" stroke=\"#000000\" points=\"209.1926,-666.0786 199.026,-663.0969 205.1142,-671.7678 209.1926,-666.0786\"/>\n",
       "</g>\n",
       "<!-- 13 -->\n",
       "<g id=\"node14\" class=\"node\">\n",
       "<title>13</title>\n",
       "<polygon fill=\"#e5833c\" stroke=\"#000000\" points=\"391.5,-663 240.5,-663 240.5,-580 391.5,-580 391.5,-663\"/>\n",
       "<text text-anchor=\"middle\" x=\"316\" y=\"-647.8\" font-family=\"Times,serif\" font-size=\"14.00\" fill=\"#000000\">FUR_NO_3호기 &lt;= 0.5</text>\n",
       "<text text-anchor=\"middle\" x=\"316\" y=\"-632.8\" font-family=\"Times,serif\" font-size=\"14.00\" fill=\"#000000\">gini = 0.03</text>\n",
       "<text text-anchor=\"middle\" x=\"316\" y=\"-617.8\" font-family=\"Times,serif\" font-size=\"14.00\" fill=\"#000000\">samples = 198</text>\n",
       "<text text-anchor=\"middle\" x=\"316\" y=\"-602.8\" font-family=\"Times,serif\" font-size=\"14.00\" fill=\"#000000\">value = [195, 3]</text>\n",
       "<text text-anchor=\"middle\" x=\"316\" y=\"-587.8\" font-family=\"Times,serif\" font-size=\"14.00\" fill=\"#000000\">class = 양품</text>\n",
       "</g>\n",
       "<!-- 9&#45;&gt;13 -->\n",
       "<g id=\"edge13\" class=\"edge\">\n",
       "<title>9&#45;&gt;13</title>\n",
       "<path fill=\"none\" stroke=\"#000000\" d=\"M310.1478,-698.8796C310.7676,-690.6838 311.4252,-681.9891 312.0671,-673.5013\"/>\n",
       "<polygon fill=\"#000000\" stroke=\"#000000\" points=\"315.5746,-673.5336 312.8388,-663.2981 308.5945,-673.0056 315.5746,-673.5336\"/>\n",
       "</g>\n",
       "<!-- 11 -->\n",
       "<g id=\"node12\" class=\"node\">\n",
       "<title>11</title>\n",
       "<polygon fill=\"#e58139\" stroke=\"#000000\" points=\"92,-536.5 0,-536.5 0,-468.5 92,-468.5 92,-536.5\"/>\n",
       "<text text-anchor=\"middle\" x=\"46\" y=\"-521.3\" font-family=\"Times,serif\" font-size=\"14.00\" fill=\"#000000\">gini = 0.0</text>\n",
       "<text text-anchor=\"middle\" x=\"46\" y=\"-506.3\" font-family=\"Times,serif\" font-size=\"14.00\" fill=\"#000000\">samples = 1</text>\n",
       "<text text-anchor=\"middle\" x=\"46\" y=\"-491.3\" font-family=\"Times,serif\" font-size=\"14.00\" fill=\"#000000\">value = [1, 0]</text>\n",
       "<text text-anchor=\"middle\" x=\"46\" y=\"-476.3\" font-family=\"Times,serif\" font-size=\"14.00\" fill=\"#000000\">class = 양품</text>\n",
       "</g>\n",
       "<!-- 10&#45;&gt;11 -->\n",
       "<g id=\"edge11\" class=\"edge\">\n",
       "<title>10&#45;&gt;11</title>\n",
       "<path fill=\"none\" stroke=\"#000000\" d=\"M107.7736,-579.8796C98.7319,-568.5536 88.9295,-556.2748 79.8534,-544.9058\"/>\n",
       "<polygon fill=\"#000000\" stroke=\"#000000\" points=\"82.3685,-542.4464 73.3943,-536.8149 76.898,-546.8137 82.3685,-542.4464\"/>\n",
       "</g>\n",
       "<!-- 12 -->\n",
       "<g id=\"node13\" class=\"node\">\n",
       "<title>12</title>\n",
       "<polygon fill=\"#399de5\" stroke=\"#000000\" points=\"202,-536.5 110,-536.5 110,-468.5 202,-468.5 202,-536.5\"/>\n",
       "<text text-anchor=\"middle\" x=\"156\" y=\"-521.3\" font-family=\"Times,serif\" font-size=\"14.00\" fill=\"#000000\">gini = 0.0</text>\n",
       "<text text-anchor=\"middle\" x=\"156\" y=\"-506.3\" font-family=\"Times,serif\" font-size=\"14.00\" fill=\"#000000\">samples = 1</text>\n",
       "<text text-anchor=\"middle\" x=\"156\" y=\"-491.3\" font-family=\"Times,serif\" font-size=\"14.00\" fill=\"#000000\">value = [0, 1]</text>\n",
       "<text text-anchor=\"middle\" x=\"156\" y=\"-476.3\" font-family=\"Times,serif\" font-size=\"14.00\" fill=\"#000000\">class = 불량</text>\n",
       "</g>\n",
       "<!-- 10&#45;&gt;12 -->\n",
       "<g id=\"edge12\" class=\"edge\">\n",
       "<title>10&#45;&gt;12</title>\n",
       "<path fill=\"none\" stroke=\"#000000\" d=\"M146.2463,-579.8796C147.5908,-569.2134 149.0418,-557.7021 150.4032,-546.9015\"/>\n",
       "<polygon fill=\"#000000\" stroke=\"#000000\" points=\"153.8964,-547.1742 151.6746,-536.8149 146.9514,-546.2987 153.8964,-547.1742\"/>\n",
       "</g>\n",
       "<!-- 14 -->\n",
       "<g id=\"node15\" class=\"node\">\n",
       "<title>14</title>\n",
       "<polygon fill=\"#e58139\" stroke=\"#000000\" points=\"354.5,-536.5 249.5,-536.5 249.5,-468.5 354.5,-468.5 354.5,-536.5\"/>\n",
       "<text text-anchor=\"middle\" x=\"302\" y=\"-521.3\" font-family=\"Times,serif\" font-size=\"14.00\" fill=\"#000000\">gini = 0.0</text>\n",
       "<text text-anchor=\"middle\" x=\"302\" y=\"-506.3\" font-family=\"Times,serif\" font-size=\"14.00\" fill=\"#000000\">samples = 134</text>\n",
       "<text text-anchor=\"middle\" x=\"302\" y=\"-491.3\" font-family=\"Times,serif\" font-size=\"14.00\" fill=\"#000000\">value = [134, 0]</text>\n",
       "<text text-anchor=\"middle\" x=\"302\" y=\"-476.3\" font-family=\"Times,serif\" font-size=\"14.00\" fill=\"#000000\">class = 양품</text>\n",
       "</g>\n",
       "<!-- 13&#45;&gt;14 -->\n",
       "<g id=\"edge14\" class=\"edge\">\n",
       "<title>13&#45;&gt;14</title>\n",
       "<path fill=\"none\" stroke=\"#000000\" d=\"M311.1035,-579.8796C309.8486,-569.2134 308.4944,-557.7021 307.2237,-546.9015\"/>\n",
       "<polygon fill=\"#000000\" stroke=\"#000000\" points=\"310.6816,-546.3375 306.0371,-536.8149 303.7295,-547.1554 310.6816,-546.3375\"/>\n",
       "</g>\n",
       "<!-- 15 -->\n",
       "<g id=\"node16\" class=\"node\">\n",
       "<title>15</title>\n",
       "<polygon fill=\"#e68743\" stroke=\"#000000\" points=\"529,-544 373,-544 373,-461 529,-461 529,-544\"/>\n",
       "<text text-anchor=\"middle\" x=\"451\" y=\"-528.8\" font-family=\"Times,serif\" font-size=\"14.00\" fill=\"#000000\">FUR_HZ_TIME &lt;= 59.0</text>\n",
       "<text text-anchor=\"middle\" x=\"451\" y=\"-513.8\" font-family=\"Times,serif\" font-size=\"14.00\" fill=\"#000000\">gini = 0.089</text>\n",
       "<text text-anchor=\"middle\" x=\"451\" y=\"-498.8\" font-family=\"Times,serif\" font-size=\"14.00\" fill=\"#000000\">samples = 64</text>\n",
       "<text text-anchor=\"middle\" x=\"451\" y=\"-483.8\" font-family=\"Times,serif\" font-size=\"14.00\" fill=\"#000000\">value = [61, 3]</text>\n",
       "<text text-anchor=\"middle\" x=\"451\" y=\"-468.8\" font-family=\"Times,serif\" font-size=\"14.00\" fill=\"#000000\">class = 양품</text>\n",
       "</g>\n",
       "<!-- 13&#45;&gt;15 -->\n",
       "<g id=\"edge15\" class=\"edge\">\n",
       "<title>13&#45;&gt;15</title>\n",
       "<path fill=\"none\" stroke=\"#000000\" d=\"M363.2164,-579.8796C373.7402,-570.6031 384.9891,-560.6874 395.8021,-551.1559\"/>\n",
       "<polygon fill=\"#000000\" stroke=\"#000000\" points=\"398.3948,-553.5362 403.582,-544.2981 393.766,-548.2851 398.3948,-553.5362\"/>\n",
       "</g>\n",
       "<!-- 16 -->\n",
       "<g id=\"node17\" class=\"node\">\n",
       "<title>16</title>\n",
       "<polygon fill=\"#399de5\" stroke=\"#000000\" points=\"426,-417.5 334,-417.5 334,-349.5 426,-349.5 426,-417.5\"/>\n",
       "<text text-anchor=\"middle\" x=\"380\" y=\"-402.3\" font-family=\"Times,serif\" font-size=\"14.00\" fill=\"#000000\">gini = 0.0</text>\n",
       "<text text-anchor=\"middle\" x=\"380\" y=\"-387.3\" font-family=\"Times,serif\" font-size=\"14.00\" fill=\"#000000\">samples = 1</text>\n",
       "<text text-anchor=\"middle\" x=\"380\" y=\"-372.3\" font-family=\"Times,serif\" font-size=\"14.00\" fill=\"#000000\">value = [0, 1]</text>\n",
       "<text text-anchor=\"middle\" x=\"380\" y=\"-357.3\" font-family=\"Times,serif\" font-size=\"14.00\" fill=\"#000000\">class = 불량</text>\n",
       "</g>\n",
       "<!-- 15&#45;&gt;16 -->\n",
       "<g id=\"edge16\" class=\"edge\">\n",
       "<title>15&#45;&gt;16</title>\n",
       "<path fill=\"none\" stroke=\"#000000\" d=\"M426.1676,-460.8796C419.5413,-449.7735 412.3684,-437.7513 405.6967,-426.5691\"/>\n",
       "<polygon fill=\"#000000\" stroke=\"#000000\" points=\"408.6031,-424.6093 400.4736,-417.8149 402.5917,-428.1959 408.6031,-424.6093\"/>\n",
       "</g>\n",
       "<!-- 17 -->\n",
       "<g id=\"node18\" class=\"node\">\n",
       "<title>17</title>\n",
       "<polygon fill=\"#e6853f\" stroke=\"#000000\" points=\"600,-425 444,-425 444,-342 600,-342 600,-425\"/>\n",
       "<text text-anchor=\"middle\" x=\"522\" y=\"-409.8\" font-family=\"Times,serif\" font-size=\"14.00\" fill=\"#000000\">FUR_HZ_TIME &lt;= 64.5</text>\n",
       "<text text-anchor=\"middle\" x=\"522\" y=\"-394.8\" font-family=\"Times,serif\" font-size=\"14.00\" fill=\"#000000\">gini = 0.061</text>\n",
       "<text text-anchor=\"middle\" x=\"522\" y=\"-379.8\" font-family=\"Times,serif\" font-size=\"14.00\" fill=\"#000000\">samples = 63</text>\n",
       "<text text-anchor=\"middle\" x=\"522\" y=\"-364.8\" font-family=\"Times,serif\" font-size=\"14.00\" fill=\"#000000\">value = [61, 2]</text>\n",
       "<text text-anchor=\"middle\" x=\"522\" y=\"-349.8\" font-family=\"Times,serif\" font-size=\"14.00\" fill=\"#000000\">class = 양품</text>\n",
       "</g>\n",
       "<!-- 15&#45;&gt;17 -->\n",
       "<g id=\"edge17\" class=\"edge\">\n",
       "<title>15&#45;&gt;17</title>\n",
       "<path fill=\"none\" stroke=\"#000000\" d=\"M475.8324,-460.8796C480.9909,-452.2335 486.4808,-443.0322 491.8076,-434.1042\"/>\n",
       "<polygon fill=\"#000000\" stroke=\"#000000\" points=\"494.9436,-435.679 497.0617,-425.2981 488.9322,-432.0924 494.9436,-435.679\"/>\n",
       "</g>\n",
       "<!-- 18 -->\n",
       "<g id=\"node19\" class=\"node\">\n",
       "<title>18</title>\n",
       "<polygon fill=\"#f2c09c\" stroke=\"#000000\" points=\"509,-306 387,-306 387,-223 509,-223 509,-306\"/>\n",
       "<text text-anchor=\"middle\" x=\"448\" y=\"-290.8\" font-family=\"Times,serif\" font-size=\"14.00\" fill=\"#000000\">PT_THK &lt;= 24.17</text>\n",
       "<text text-anchor=\"middle\" x=\"448\" y=\"-275.8\" font-family=\"Times,serif\" font-size=\"14.00\" fill=\"#000000\">gini = 0.444</text>\n",
       "<text text-anchor=\"middle\" x=\"448\" y=\"-260.8\" font-family=\"Times,serif\" font-size=\"14.00\" fill=\"#000000\">samples = 3</text>\n",
       "<text text-anchor=\"middle\" x=\"448\" y=\"-245.8\" font-family=\"Times,serif\" font-size=\"14.00\" fill=\"#000000\">value = [2, 1]</text>\n",
       "<text text-anchor=\"middle\" x=\"448\" y=\"-230.8\" font-family=\"Times,serif\" font-size=\"14.00\" fill=\"#000000\">class = 양품</text>\n",
       "</g>\n",
       "<!-- 17&#45;&gt;18 -->\n",
       "<g id=\"edge18\" class=\"edge\">\n",
       "<title>17&#45;&gt;18</title>\n",
       "<path fill=\"none\" stroke=\"#000000\" d=\"M496.1184,-341.8796C490.6858,-333.1434 484.9008,-323.8404 479.2947,-314.8253\"/>\n",
       "<polygon fill=\"#000000\" stroke=\"#000000\" points=\"482.2451,-312.9418 473.9921,-306.2981 476.3007,-316.6383 482.2451,-312.9418\"/>\n",
       "</g>\n",
       "<!-- 21 -->\n",
       "<g id=\"node22\" class=\"node\">\n",
       "<title>21</title>\n",
       "<polygon fill=\"#e5833c\" stroke=\"#000000\" points=\"666.5,-306 527.5,-306 527.5,-223 666.5,-223 666.5,-306\"/>\n",
       "<text text-anchor=\"middle\" x=\"597\" y=\"-290.8\" font-family=\"Times,serif\" font-size=\"14.00\" fill=\"#000000\">PT_WGT &lt;= 85010.0</text>\n",
       "<text text-anchor=\"middle\" x=\"597\" y=\"-275.8\" font-family=\"Times,serif\" font-size=\"14.00\" fill=\"#000000\">gini = 0.033</text>\n",
       "<text text-anchor=\"middle\" x=\"597\" y=\"-260.8\" font-family=\"Times,serif\" font-size=\"14.00\" fill=\"#000000\">samples = 60</text>\n",
       "<text text-anchor=\"middle\" x=\"597\" y=\"-245.8\" font-family=\"Times,serif\" font-size=\"14.00\" fill=\"#000000\">value = [59, 1]</text>\n",
       "<text text-anchor=\"middle\" x=\"597\" y=\"-230.8\" font-family=\"Times,serif\" font-size=\"14.00\" fill=\"#000000\">class = 양품</text>\n",
       "</g>\n",
       "<!-- 17&#45;&gt;21 -->\n",
       "<g id=\"edge21\" class=\"edge\">\n",
       "<title>17&#45;&gt;21</title>\n",
       "<path fill=\"none\" stroke=\"#000000\" d=\"M548.2314,-341.8796C553.7373,-333.1434 559.6006,-323.8404 565.2824,-314.8253\"/>\n",
       "<polygon fill=\"#000000\" stroke=\"#000000\" points=\"568.2857,-316.6242 570.6567,-306.2981 562.3637,-312.8919 568.2857,-316.6242\"/>\n",
       "</g>\n",
       "<!-- 19 -->\n",
       "<g id=\"node20\" class=\"node\">\n",
       "<title>19</title>\n",
       "<polygon fill=\"#399de5\" stroke=\"#000000\" points=\"393,-179.5 301,-179.5 301,-111.5 393,-111.5 393,-179.5\"/>\n",
       "<text text-anchor=\"middle\" x=\"347\" y=\"-164.3\" font-family=\"Times,serif\" font-size=\"14.00\" fill=\"#000000\">gini = 0.0</text>\n",
       "<text text-anchor=\"middle\" x=\"347\" y=\"-149.3\" font-family=\"Times,serif\" font-size=\"14.00\" fill=\"#000000\">samples = 1</text>\n",
       "<text text-anchor=\"middle\" x=\"347\" y=\"-134.3\" font-family=\"Times,serif\" font-size=\"14.00\" fill=\"#000000\">value = [0, 1]</text>\n",
       "<text text-anchor=\"middle\" x=\"347\" y=\"-119.3\" font-family=\"Times,serif\" font-size=\"14.00\" fill=\"#000000\">class = 불량</text>\n",
       "</g>\n",
       "<!-- 18&#45;&gt;19 -->\n",
       "<g id=\"edge19\" class=\"edge\">\n",
       "<title>18&#45;&gt;19</title>\n",
       "<path fill=\"none\" stroke=\"#000000\" d=\"M412.6751,-222.8796C402.969,-211.4436 392.4384,-199.0363 382.7107,-187.575\"/>\n",
       "<polygon fill=\"#000000\" stroke=\"#000000\" points=\"385.2638,-185.1743 376.1244,-179.8149 379.9269,-189.7039 385.2638,-185.1743\"/>\n",
       "</g>\n",
       "<!-- 20 -->\n",
       "<g id=\"node21\" class=\"node\">\n",
       "<title>20</title>\n",
       "<polygon fill=\"#e58139\" stroke=\"#000000\" points=\"503,-179.5 411,-179.5 411,-111.5 503,-111.5 503,-179.5\"/>\n",
       "<text text-anchor=\"middle\" x=\"457\" y=\"-164.3\" font-family=\"Times,serif\" font-size=\"14.00\" fill=\"#000000\">gini = 0.0</text>\n",
       "<text text-anchor=\"middle\" x=\"457\" y=\"-149.3\" font-family=\"Times,serif\" font-size=\"14.00\" fill=\"#000000\">samples = 2</text>\n",
       "<text text-anchor=\"middle\" x=\"457\" y=\"-134.3\" font-family=\"Times,serif\" font-size=\"14.00\" fill=\"#000000\">value = [2, 0]</text>\n",
       "<text text-anchor=\"middle\" x=\"457\" y=\"-119.3\" font-family=\"Times,serif\" font-size=\"14.00\" fill=\"#000000\">class = 양품</text>\n",
       "</g>\n",
       "<!-- 18&#45;&gt;20 -->\n",
       "<g id=\"edge20\" class=\"edge\">\n",
       "<title>18&#45;&gt;20</title>\n",
       "<path fill=\"none\" stroke=\"#000000\" d=\"M451.1478,-222.8796C451.9545,-212.2134 452.8251,-200.7021 453.6419,-189.9015\"/>\n",
       "<polygon fill=\"#000000\" stroke=\"#000000\" points=\"457.1405,-190.0504 454.4048,-179.8149 450.1605,-189.5225 457.1405,-190.0504\"/>\n",
       "</g>\n",
       "<!-- 22 -->\n",
       "<g id=\"node23\" class=\"node\">\n",
       "<title>22</title>\n",
       "<polygon fill=\"#e58139\" stroke=\"#000000\" points=\"637,-179.5 539,-179.5 539,-111.5 637,-111.5 637,-179.5\"/>\n",
       "<text text-anchor=\"middle\" x=\"588\" y=\"-164.3\" font-family=\"Times,serif\" font-size=\"14.00\" fill=\"#000000\">gini = 0.0</text>\n",
       "<text text-anchor=\"middle\" x=\"588\" y=\"-149.3\" font-family=\"Times,serif\" font-size=\"14.00\" fill=\"#000000\">samples = 56</text>\n",
       "<text text-anchor=\"middle\" x=\"588\" y=\"-134.3\" font-family=\"Times,serif\" font-size=\"14.00\" fill=\"#000000\">value = [56, 0]</text>\n",
       "<text text-anchor=\"middle\" x=\"588\" y=\"-119.3\" font-family=\"Times,serif\" font-size=\"14.00\" fill=\"#000000\">class = 양품</text>\n",
       "</g>\n",
       "<!-- 21&#45;&gt;22 -->\n",
       "<g id=\"edge22\" class=\"edge\">\n",
       "<title>21&#45;&gt;22</title>\n",
       "<path fill=\"none\" stroke=\"#000000\" d=\"M593.8522,-222.8796C593.0455,-212.2134 592.1749,-200.7021 591.3581,-189.9015\"/>\n",
       "<polygon fill=\"#000000\" stroke=\"#000000\" points=\"594.8395,-189.5225 590.5952,-179.8149 587.8595,-190.0504 594.8395,-189.5225\"/>\n",
       "</g>\n",
       "<!-- 23 -->\n",
       "<g id=\"node24\" class=\"node\">\n",
       "<title>23</title>\n",
       "<polygon fill=\"#eeab7b\" stroke=\"#000000\" points=\"821,-187 655,-187 655,-104 821,-104 821,-187\"/>\n",
       "<text text-anchor=\"middle\" x=\"738\" y=\"-171.8\" font-family=\"Times,serif\" font-size=\"14.00\" fill=\"#000000\">FUR_EXTEMP &lt;= 1155.5</text>\n",
       "<text text-anchor=\"middle\" x=\"738\" y=\"-156.8\" font-family=\"Times,serif\" font-size=\"14.00\" fill=\"#000000\">gini = 0.375</text>\n",
       "<text text-anchor=\"middle\" x=\"738\" y=\"-141.8\" font-family=\"Times,serif\" font-size=\"14.00\" fill=\"#000000\">samples = 4</text>\n",
       "<text text-anchor=\"middle\" x=\"738\" y=\"-126.8\" font-family=\"Times,serif\" font-size=\"14.00\" fill=\"#000000\">value = [3, 1]</text>\n",
       "<text text-anchor=\"middle\" x=\"738\" y=\"-111.8\" font-family=\"Times,serif\" font-size=\"14.00\" fill=\"#000000\">class = 양품</text>\n",
       "</g>\n",
       "<!-- 21&#45;&gt;23 -->\n",
       "<g id=\"edge23\" class=\"edge\">\n",
       "<title>21&#45;&gt;23</title>\n",
       "<path fill=\"none\" stroke=\"#000000\" d=\"M646.315,-222.8796C657.4132,-213.513 669.2835,-203.4948 680.6777,-193.8784\"/>\n",
       "<polygon fill=\"#000000\" stroke=\"#000000\" points=\"683.0899,-196.4225 688.4746,-187.2981 678.575,-191.0731 683.0899,-196.4225\"/>\n",
       "</g>\n",
       "<!-- 24 -->\n",
       "<g id=\"node25\" class=\"node\">\n",
       "<title>24</title>\n",
       "<polygon fill=\"#399de5\" stroke=\"#000000\" points=\"729,-68 637,-68 637,0 729,0 729,-68\"/>\n",
       "<text text-anchor=\"middle\" x=\"683\" y=\"-52.8\" font-family=\"Times,serif\" font-size=\"14.00\" fill=\"#000000\">gini = 0.0</text>\n",
       "<text text-anchor=\"middle\" x=\"683\" y=\"-37.8\" font-family=\"Times,serif\" font-size=\"14.00\" fill=\"#000000\">samples = 1</text>\n",
       "<text text-anchor=\"middle\" x=\"683\" y=\"-22.8\" font-family=\"Times,serif\" font-size=\"14.00\" fill=\"#000000\">value = [0, 1]</text>\n",
       "<text text-anchor=\"middle\" x=\"683\" y=\"-7.8\" font-family=\"Times,serif\" font-size=\"14.00\" fill=\"#000000\">class = 불량</text>\n",
       "</g>\n",
       "<!-- 23&#45;&gt;24 -->\n",
       "<g id=\"edge24\" class=\"edge\">\n",
       "<title>23&#45;&gt;24</title>\n",
       "<path fill=\"none\" stroke=\"#000000\" d=\"M717.52,-103.9815C713.2585,-95.3423 708.756,-86.2144 704.4603,-77.5059\"/>\n",
       "<polygon fill=\"#000000\" stroke=\"#000000\" points=\"707.4641,-75.6836 699.9014,-68.2637 701.1863,-78.7803 707.4641,-75.6836\"/>\n",
       "</g>\n",
       "<!-- 25 -->\n",
       "<g id=\"node26\" class=\"node\">\n",
       "<title>25</title>\n",
       "<polygon fill=\"#e58139\" stroke=\"#000000\" points=\"839,-68 747,-68 747,0 839,0 839,-68\"/>\n",
       "<text text-anchor=\"middle\" x=\"793\" y=\"-52.8\" font-family=\"Times,serif\" font-size=\"14.00\" fill=\"#000000\">gini = 0.0</text>\n",
       "<text text-anchor=\"middle\" x=\"793\" y=\"-37.8\" font-family=\"Times,serif\" font-size=\"14.00\" fill=\"#000000\">samples = 3</text>\n",
       "<text text-anchor=\"middle\" x=\"793\" y=\"-22.8\" font-family=\"Times,serif\" font-size=\"14.00\" fill=\"#000000\">value = [3, 0]</text>\n",
       "<text text-anchor=\"middle\" x=\"793\" y=\"-7.8\" font-family=\"Times,serif\" font-size=\"14.00\" fill=\"#000000\">class = 양품</text>\n",
       "</g>\n",
       "<!-- 23&#45;&gt;25 -->\n",
       "<g id=\"edge25\" class=\"edge\">\n",
       "<title>23&#45;&gt;25</title>\n",
       "<path fill=\"none\" stroke=\"#000000\" d=\"M758.48,-103.9815C762.7415,-95.3423 767.244,-86.2144 771.5397,-77.5059\"/>\n",
       "<polygon fill=\"#000000\" stroke=\"#000000\" points=\"774.8137,-78.7803 776.0986,-68.2637 768.5359,-75.6836 774.8137,-78.7803\"/>\n",
       "</g>\n",
       "<!-- 27 -->\n",
       "<g id=\"node28\" class=\"node\">\n",
       "<title>27</title>\n",
       "<polygon fill=\"#399de5\" stroke=\"#000000\" points=\"519,-655.5 427,-655.5 427,-587.5 519,-587.5 519,-655.5\"/>\n",
       "<text text-anchor=\"middle\" x=\"473\" y=\"-640.3\" font-family=\"Times,serif\" font-size=\"14.00\" fill=\"#000000\">gini = 0.0</text>\n",
       "<text text-anchor=\"middle\" x=\"473\" y=\"-625.3\" font-family=\"Times,serif\" font-size=\"14.00\" fill=\"#000000\">samples = 1</text>\n",
       "<text text-anchor=\"middle\" x=\"473\" y=\"-610.3\" font-family=\"Times,serif\" font-size=\"14.00\" fill=\"#000000\">value = [0, 1]</text>\n",
       "<text text-anchor=\"middle\" x=\"473\" y=\"-595.3\" font-family=\"Times,serif\" font-size=\"14.00\" fill=\"#000000\">class = 불량</text>\n",
       "</g>\n",
       "<!-- 26&#45;&gt;27 -->\n",
       "<g id=\"edge27\" class=\"edge\">\n",
       "<title>26&#45;&gt;27</title>\n",
       "<path fill=\"none\" stroke=\"#000000\" d=\"M478.202,-698.8796C477.4849,-688.2134 476.7111,-676.7021 475.985,-665.9015\"/>\n",
       "<polygon fill=\"#000000\" stroke=\"#000000\" points=\"479.4699,-665.5576 475.3069,-655.8149 472.4856,-666.0272 479.4699,-665.5576\"/>\n",
       "</g>\n",
       "<!-- 28 -->\n",
       "<g id=\"node29\" class=\"node\">\n",
       "<title>28</title>\n",
       "<polygon fill=\"#e58139\" stroke=\"#000000\" points=\"629,-655.5 537,-655.5 537,-587.5 629,-587.5 629,-655.5\"/>\n",
       "<text text-anchor=\"middle\" x=\"583\" y=\"-640.3\" font-family=\"Times,serif\" font-size=\"14.00\" fill=\"#000000\">gini = 0.0</text>\n",
       "<text text-anchor=\"middle\" x=\"583\" y=\"-625.3\" font-family=\"Times,serif\" font-size=\"14.00\" fill=\"#000000\">samples = 1</text>\n",
       "<text text-anchor=\"middle\" x=\"583\" y=\"-610.3\" font-family=\"Times,serif\" font-size=\"14.00\" fill=\"#000000\">value = [1, 0]</text>\n",
       "<text text-anchor=\"middle\" x=\"583\" y=\"-595.3\" font-family=\"Times,serif\" font-size=\"14.00\" fill=\"#000000\">class = 양품</text>\n",
       "</g>\n",
       "<!-- 26&#45;&gt;28 -->\n",
       "<g id=\"edge28\" class=\"edge\">\n",
       "<title>26&#45;&gt;28</title>\n",
       "<path fill=\"none\" stroke=\"#000000\" d=\"M516.6747,-698.8796C526.4769,-687.4436 537.1118,-675.0363 546.9357,-663.575\"/>\n",
       "<polygon fill=\"#000000\" stroke=\"#000000\" points=\"549.7367,-665.6853 553.5872,-655.8149 544.4218,-661.1297 549.7367,-665.6853\"/>\n",
       "</g>\n",
       "<!-- 30 -->\n",
       "<g id=\"node31\" class=\"node\">\n",
       "<title>30</title>\n",
       "<polygon fill=\"#399de5\" stroke=\"#000000\" points=\"705,-774.5 613,-774.5 613,-706.5 705,-706.5 705,-774.5\"/>\n",
       "<text text-anchor=\"middle\" x=\"659\" y=\"-759.3\" font-family=\"Times,serif\" font-size=\"14.00\" fill=\"#000000\">gini = 0.0</text>\n",
       "<text text-anchor=\"middle\" x=\"659\" y=\"-744.3\" font-family=\"Times,serif\" font-size=\"14.00\" fill=\"#000000\">samples = 1</text>\n",
       "<text text-anchor=\"middle\" x=\"659\" y=\"-729.3\" font-family=\"Times,serif\" font-size=\"14.00\" fill=\"#000000\">value = [0, 1]</text>\n",
       "<text text-anchor=\"middle\" x=\"659\" y=\"-714.3\" font-family=\"Times,serif\" font-size=\"14.00\" fill=\"#000000\">class = 불량</text>\n",
       "</g>\n",
       "<!-- 29&#45;&gt;30 -->\n",
       "<g id=\"edge30\" class=\"edge\">\n",
       "<title>29&#45;&gt;30</title>\n",
       "<path fill=\"none\" stroke=\"#000000\" d=\"M667.4532,-817.8796C666.288,-807.2134 665.0305,-795.7021 663.8506,-784.9015\"/>\n",
       "<polygon fill=\"#000000\" stroke=\"#000000\" points=\"667.3141,-784.3757 662.7487,-774.8149 660.3555,-785.1359 667.3141,-784.3757\"/>\n",
       "</g>\n",
       "<!-- 31 -->\n",
       "<g id=\"node32\" class=\"node\">\n",
       "<title>31</title>\n",
       "<polygon fill=\"#e58139\" stroke=\"#000000\" points=\"815,-774.5 723,-774.5 723,-706.5 815,-706.5 815,-774.5\"/>\n",
       "<text text-anchor=\"middle\" x=\"769\" y=\"-759.3\" font-family=\"Times,serif\" font-size=\"14.00\" fill=\"#000000\">gini = 0.0</text>\n",
       "<text text-anchor=\"middle\" x=\"769\" y=\"-744.3\" font-family=\"Times,serif\" font-size=\"14.00\" fill=\"#000000\">samples = 1</text>\n",
       "<text text-anchor=\"middle\" x=\"769\" y=\"-729.3\" font-family=\"Times,serif\" font-size=\"14.00\" fill=\"#000000\">value = [1, 0]</text>\n",
       "<text text-anchor=\"middle\" x=\"769\" y=\"-714.3\" font-family=\"Times,serif\" font-size=\"14.00\" fill=\"#000000\">class = 양품</text>\n",
       "</g>\n",
       "<!-- 29&#45;&gt;31 -->\n",
       "<g id=\"edge31\" class=\"edge\">\n",
       "<title>29&#45;&gt;31</title>\n",
       "<path fill=\"none\" stroke=\"#000000\" d=\"M705.9259,-817.8796C715.2476,-806.4436 725.3612,-794.0363 734.7036,-782.575\"/>\n",
       "<polygon fill=\"#000000\" stroke=\"#000000\" points=\"737.4237,-784.7775 741.029,-774.8149 731.9979,-780.3548 737.4237,-784.7775\"/>\n",
       "</g>\n",
       "</g>\n",
       "</svg>\n"
      ],
      "text/plain": [
       "<graphviz.files.Source at 0x7fedc661dee0>"
      ]
     },
     "metadata": {},
     "output_type": "display_data"
    }
   ],
   "source": [
    "tu = DecisionTreeClassifier(random_state = 9981)\n",
    "tu.fit(df_train_x, df_train_y)\n",
    "export_graphviz(tu, out_file = 'tree_depth.dot', class_names= ['양품',\"불량\"], feature_names = v_feature_name, impurity = True, filled =True)\n",
    "with open('tree_depth.dot')as f:\n",
    "    dot_graph = f.read()\n",
    "display(graphviz.Source(dot_graph))"
   ]
  },
  {
   "cell_type": "markdown",
   "metadata": {},
   "source": [
    "변수 중요도 차트를 보면 ROLLING_TEMP_5, FUR_EXTEMP, HSB_적용, ROLLING_DESCALING_9 ROLLING_DESCALING_7 순으로\n",
    "불량에 영향을 미치는 것을 알 수있다. "
   ]
  },
  {
   "cell_type": "markdown",
   "metadata": {},
   "source": [
    "### 로지스틱 회귀분석"
   ]
  },
  {
   "cell_type": "code",
   "execution_count": 63,
   "metadata": {},
   "outputs": [],
   "source": [
    "틱# df_raw_y =df_raw['SCALE']\n",
    "# df_raw_x =df_raw.drop('SCALE',axis = 1, inplace= False)"
   ]
  },
  {
   "cell_type": "code",
   "execution_count": 64,
   "metadata": {},
   "outputs": [
    {
     "name": "stdout",
     "output_type": "stream",
     "text": [
      "train data X size:(285, 32)\n",
      "train data Y size:(285,)\n",
      "test data X size:(215, 32)\n",
      "test data Y size:(215,)\n"
     ]
    }
   ],
   "source": [
    "df_train, df_test  =\\\n",
    "train_test_split(df_raw, test_size=0.3, random_state=9981)\n",
    "print('train data X size:{}'.format(df_train_x.shape))\n",
    "print('train data Y size:{}'.format(df_train_y.shape))\n",
    "print('test data X size:{}'.format(df_test_x.shape))\n",
    "print('test data Y size:{}'.format(df_test_y.shape))"
   ]
  },
  {
   "cell_type": "code",
   "execution_count": 65,
   "metadata": {},
   "outputs": [
    {
     "name": "stdout",
     "output_type": "stream",
     "text": [
      "train data X size:(285, 32)\n",
      "train data Y size:(285,)\n",
      "test data X size:(215, 32)\n",
      "test data Y size:(215,)\n",
      "val data X size:(214, 32)\n",
      "val data Y size:(214,)\n"
     ]
    }
   ],
   "source": [
    "df_train, df_val =\\\n",
    "train_test_split(df_train, train_size=3/7, random_state=9981)\n",
    "\n",
    "print('train data X size:{}'.format(df_train_x.shape))\n",
    "print('train data Y size:{}'.format(df_train_y.shape))\n",
    "print('test data X size:{}'.format(df_test_x.shape))\n",
    "print('test data Y size:{}'.format(df_test_y.shape))\n",
    "print('val data X size:{}'.format(df_val_x.shape))\n",
    "print('val data Y size:{}'.format(df_val_y.shape))"
   ]
  },
  {
   "cell_type": "code",
   "execution_count": 66,
   "metadata": {},
   "outputs": [
    {
     "name": "stdout",
     "output_type": "stream",
     "text": [
      "<class 'pandas.core.frame.DataFrame'>\n",
      "Int64Index: 714 entries, 0 to 719\n",
      "Data columns (total 18 columns):\n",
      " #   Column             Non-Null Count  Dtype  \n",
      "---  ------             --------------  -----  \n",
      " 0   SCALE              714 non-null    object \n",
      " 1   STEEL_KIND         714 non-null    object \n",
      " 2   PT_THK             714 non-null    float64\n",
      " 3   PT_WDTH            714 non-null    int64  \n",
      " 4   PT_LTH             714 non-null    int64  \n",
      " 5   PT_WGT             714 non-null    int64  \n",
      " 6   FUR_NO             714 non-null    object \n",
      " 7   FUR_NO_ROW         714 non-null    object \n",
      " 8   FUR_HZ_TEMP        714 non-null    int64  \n",
      " 9   FUR_HZ_TIME        714 non-null    int64  \n",
      " 10  FUR_SZ_TEMP        714 non-null    int64  \n",
      " 11  FUR_SZ_TIME        714 non-null    int64  \n",
      " 12  FUR_TIME           714 non-null    int64  \n",
      " 13  FUR_EXTEMP         714 non-null    int64  \n",
      " 14  ROLLING_TEMP_T5    714 non-null    int64  \n",
      " 15  HSB                714 non-null    object \n",
      " 16  ROLLING_DESCALING  714 non-null    int64  \n",
      " 17  WORK_GR            714 non-null    object \n",
      "dtypes: float64(1), int64(11), object(6)\n",
      "memory usage: 106.0+ KB\n"
     ]
    }
   ],
   "source": [
    "\n",
    "df_raw = df_raw.astype({'SCALE' : 'object'})\n",
    "df_raw.info()"
   ]
  },
  {
   "cell_type": "code",
   "execution_count": 67,
   "metadata": {},
   "outputs": [
    {
     "name": "stdout",
     "output_type": "stream",
     "text": [
      "Warning: Maximum number of iterations has been exceeded.\n",
      "         Current function value: 0.083457\n",
      "         Iterations: 35\n",
      "                           Logit Regression Results                           \n",
      "==============================================================================\n",
      "Dep. Variable:                  SCALE   No. Observations:                  213\n",
      "Model:                          Logit   Df Residuals:                      194\n",
      "Method:                           MLE   Df Model:                           18\n",
      "Date:                Tue, 24 Nov 2020   Pseudo R-squ.:                  0.8635\n",
      "Time:                        23:14:46   Log-Likelihood:                -17.776\n",
      "converged:                      False   LL-Null:                       -130.20\n",
      "Covariance Type:            nonrobust   LLR p-value:                 1.020e-37\n",
      "==============================================================================================\n",
      "                                 coef    std err          z      P>|z|      [0.025      0.975]\n",
      "----------------------------------------------------------------------------------------------\n",
      "Intercept                   -398.5821   7.66e+04     -0.005      0.996   -1.51e+05     1.5e+05\n",
      "C(HSB)[T.적용]                 -43.5986   7.27e+04     -0.001      1.000   -1.43e+05    1.42e+05\n",
      "C(ROLLING_DESCALING)[T.6]    -31.7681   2.41e+04     -0.001      0.999   -4.73e+04    4.72e+04\n",
      "C(ROLLING_DESCALING)[T.7]     13.1487   1.75e+05   7.52e-05      1.000   -3.43e+05    3.43e+05\n",
      "C(ROLLING_DESCALING)[T.8]    -19.5254   2.41e+04     -0.001      0.999   -4.73e+04    4.72e+04\n",
      "C(ROLLING_DESCALING)[T.9]     23.0846   2.64e+05   8.75e-05      1.000   -5.17e+05    5.17e+05\n",
      "C(ROLLING_DESCALING)[T.10]   -18.3767   2.41e+04     -0.001      0.999   -4.73e+04    4.72e+04\n",
      "C(WORK_GR)[T.2조]              -1.7396      1.430     -1.217      0.224      -4.542       1.063\n",
      "C(WORK_GR)[T.3조]              -1.0482      1.486     -0.705      0.481      -3.960       1.864\n",
      "C(WORK_GR)[T.4조]              -1.4200      1.386     -1.025      0.306      -4.137       1.296\n",
      "PT_THK                         0.6116      0.245      2.495      0.013       0.131       1.092\n",
      "PT_WDTH                       -0.0029      0.002     -1.512      0.131      -0.007       0.001\n",
      "PT_LTH                     -4.784e-05   8.29e-05     -0.577      0.564      -0.000       0.000\n",
      "FUR_EXTEMP                     0.2208      0.131      1.683      0.092      -0.036       0.478\n",
      "FUR_HZ_TEMP                    0.0526      0.062      0.845      0.398      -0.069       0.175\n",
      "FUR_HZ_TIME                   -0.0039      0.019     -0.209      0.834      -0.041       0.033\n",
      "FUR_SZ_TIME                   -0.1054      0.063     -1.683      0.092      -0.228       0.017\n",
      "FUR_TIME                       0.0161      0.020      0.813      0.416      -0.023       0.055\n",
      "ROLLING_TEMP_T5                0.1451      0.043      3.378      0.001       0.061       0.229\n",
      "==============================================================================================\n",
      "\n",
      "Possibly complete quasi-separation: A fraction 0.59 of observations can be\n",
      "perfectly predicted. This might indicate that there is complete\n",
      "quasi-separation. In this case some parameters will not be identified.\n"
     ]
    },
    {
     "name": "stderr",
     "output_type": "stream",
     "text": [
      "/home/piai/anaconda3/lib/python3.8/site-packages/statsmodels/base/model.py:567: ConvergenceWarning: Maximum Likelihood optimization failed to converge. Check mle_retvals\n",
      "  warn(\"Maximum Likelihood optimization failed to converge. \"\n"
     ]
    }
   ],
   "source": [
    "## 모델 및 회귀계수 검토\n",
    "#from_formula 함수를 이용하여 변수 역할 지정\n",
    "log_model = Logit.from_formula(\"\"\"SCALE ~ PT_THK + PT_WDTH + PT_LTH + FUR_EXTEMP\n",
    " +FUR_HZ_TEMP+FUR_HZ_TIME+FUR_SZ_TIME+FUR_TIME+\n",
    "ROLLING_TEMP_T5+ C(HSB)+C(ROLLING_DESCALING)+C(WORK_GR)\"\"\", df_train)#적합\n",
    "log_result = log_model.fit()#결과 출력\n",
    "print(log_result.summary())"
   ]
  },
  {
   "cell_type": "raw",
   "metadata": {},
   "source": [
    "PT_WTH플레이트중량 변수가 무슨 이유에서 인지 해당 변수를 포함하면 로지스틱회귀분석의 결과가 모든 변수가 non값으로 \n",
    "도출된다.\n",
    "로지스틱 회귀변수는  목표변수와 설명변수가 선형관계에 있어야 의미있는 값을 도출 하기 때문이라고 판단하려한다.\n",
    "그래도 여러 설명 변수들 중 2개의 변수가 p-value 값이 유의수준 0.05보다 작게나와서 유의한 의미를 가진다고 \n",
    "나왔다.\n",
    "해당 변수는 ROLLING_TEMP_T5, PT_THK로 압연온도이다"
   ]
  },
  {
   "cell_type": "markdown",
   "metadata": {},
   "source": [
    "# 랜덤포레스트"
   ]
  },
  {
   "cell_type": "code",
   "execution_count": 68,
   "metadata": {},
   "outputs": [
    {
     "name": "stdout",
     "output_type": "stream",
     "text": [
      "Score on training set: 1.000\n",
      "Score on test set: 0.963\n"
     ]
    }
   ],
   "source": [
    "rf_uncustomized =RFC(random_state =9981)\n",
    "rf_uncustomized.fit(df_train_x, df_train_y)\n",
    "print('Score on training set: {:.3f}'.format(rf_uncustomized.score(df_train_x,df_train_y)))\n",
    "#test 데이터 설명력\n",
    "print('Score on test set: {:.3f}'.format(rf_uncustomized.score(df_val_x, df_val_y)))"
   ]
  },
  {
   "cell_type": "code",
   "execution_count": 69,
   "metadata": {},
   "outputs": [
    {
     "data": {
      "text/html": [
       "<div>\n",
       "<style scoped>\n",
       "    .dataframe tbody tr th:only-of-type {\n",
       "        vertical-align: middle;\n",
       "    }\n",
       "\n",
       "    .dataframe tbody tr th {\n",
       "        vertical-align: top;\n",
       "    }\n",
       "\n",
       "    .dataframe thead th {\n",
       "        text-align: right;\n",
       "    }\n",
       "</style>\n",
       "<table border=\"1\" class=\"dataframe\">\n",
       "  <thead>\n",
       "    <tr style=\"text-align: right;\">\n",
       "      <th></th>\n",
       "      <th>Feature</th>\n",
       "      <th>Importance</th>\n",
       "    </tr>\n",
       "  </thead>\n",
       "  <tbody>\n",
       "    <tr>\n",
       "      <th>10</th>\n",
       "      <td>ROLLING_TEMP_T5</td>\n",
       "      <td>0.321</td>\n",
       "    </tr>\n",
       "    <tr>\n",
       "      <th>1</th>\n",
       "      <td>PT_WDTH</td>\n",
       "      <td>0.083</td>\n",
       "    </tr>\n",
       "    <tr>\n",
       "      <th>6</th>\n",
       "      <td>FUR_SZ_TEMP</td>\n",
       "      <td>0.080</td>\n",
       "    </tr>\n",
       "    <tr>\n",
       "      <th>9</th>\n",
       "      <td>FUR_EXTEMP</td>\n",
       "      <td>0.068</td>\n",
       "    </tr>\n",
       "    <tr>\n",
       "      <th>0</th>\n",
       "      <td>PT_THK</td>\n",
       "      <td>0.063</td>\n",
       "    </tr>\n",
       "    <tr>\n",
       "      <th>27</th>\n",
       "      <td>HSB_적용</td>\n",
       "      <td>0.054</td>\n",
       "    </tr>\n",
       "    <tr>\n",
       "      <th>11</th>\n",
       "      <td>ROLLING_DESCALING</td>\n",
       "      <td>0.046</td>\n",
       "    </tr>\n",
       "    <tr>\n",
       "      <th>4</th>\n",
       "      <td>FUR_HZ_TEMP</td>\n",
       "      <td>0.037</td>\n",
       "    </tr>\n",
       "    <tr>\n",
       "      <th>12</th>\n",
       "      <td>STEEL_KIND_C0</td>\n",
       "      <td>0.033</td>\n",
       "    </tr>\n",
       "    <tr>\n",
       "      <th>2</th>\n",
       "      <td>PT_LTH</td>\n",
       "      <td>0.032</td>\n",
       "    </tr>\n",
       "    <tr>\n",
       "      <th>8</th>\n",
       "      <td>FUR_TIME</td>\n",
       "      <td>0.030</td>\n",
       "    </tr>\n",
       "    <tr>\n",
       "      <th>5</th>\n",
       "      <td>FUR_HZ_TIME</td>\n",
       "      <td>0.030</td>\n",
       "    </tr>\n",
       "    <tr>\n",
       "      <th>7</th>\n",
       "      <td>FUR_SZ_TIME</td>\n",
       "      <td>0.030</td>\n",
       "    </tr>\n",
       "    <tr>\n",
       "      <th>26</th>\n",
       "      <td>HSB_미적용</td>\n",
       "      <td>0.029</td>\n",
       "    </tr>\n",
       "    <tr>\n",
       "      <th>3</th>\n",
       "      <td>PT_WGT</td>\n",
       "      <td>0.026</td>\n",
       "    </tr>\n",
       "    <tr>\n",
       "      <th>23</th>\n",
       "      <td>FUR_NO_3호기</td>\n",
       "      <td>0.006</td>\n",
       "    </tr>\n",
       "    <tr>\n",
       "      <th>31</th>\n",
       "      <td>WORK_GR_4조</td>\n",
       "      <td>0.004</td>\n",
       "    </tr>\n",
       "    <tr>\n",
       "      <th>25</th>\n",
       "      <td>FUR_NO_ROW_2</td>\n",
       "      <td>0.004</td>\n",
       "    </tr>\n",
       "    <tr>\n",
       "      <th>29</th>\n",
       "      <td>WORK_GR_2조</td>\n",
       "      <td>0.004</td>\n",
       "    </tr>\n",
       "    <tr>\n",
       "      <th>24</th>\n",
       "      <td>FUR_NO_ROW_1</td>\n",
       "      <td>0.004</td>\n",
       "    </tr>\n",
       "    <tr>\n",
       "      <th>20</th>\n",
       "      <td>STEEL_KIND_T8</td>\n",
       "      <td>0.004</td>\n",
       "    </tr>\n",
       "    <tr>\n",
       "      <th>21</th>\n",
       "      <td>FUR_NO_1호기</td>\n",
       "      <td>0.003</td>\n",
       "    </tr>\n",
       "    <tr>\n",
       "      <th>28</th>\n",
       "      <td>WORK_GR_1조</td>\n",
       "      <td>0.002</td>\n",
       "    </tr>\n",
       "    <tr>\n",
       "      <th>30</th>\n",
       "      <td>WORK_GR_3조</td>\n",
       "      <td>0.002</td>\n",
       "    </tr>\n",
       "    <tr>\n",
       "      <th>22</th>\n",
       "      <td>FUR_NO_2호기</td>\n",
       "      <td>0.002</td>\n",
       "    </tr>\n",
       "    <tr>\n",
       "      <th>14</th>\n",
       "      <td>STEEL_KIND_C3</td>\n",
       "      <td>0.002</td>\n",
       "    </tr>\n",
       "    <tr>\n",
       "      <th>16</th>\n",
       "      <td>STEEL_KIND_T1</td>\n",
       "      <td>0.001</td>\n",
       "    </tr>\n",
       "    <tr>\n",
       "      <th>17</th>\n",
       "      <td>STEEL_KIND_T3</td>\n",
       "      <td>0.001</td>\n",
       "    </tr>\n",
       "    <tr>\n",
       "      <th>19</th>\n",
       "      <td>STEEL_KIND_T7</td>\n",
       "      <td>0.001</td>\n",
       "    </tr>\n",
       "    <tr>\n",
       "      <th>18</th>\n",
       "      <td>STEEL_KIND_T5</td>\n",
       "      <td>0.000</td>\n",
       "    </tr>\n",
       "    <tr>\n",
       "      <th>15</th>\n",
       "      <td>STEEL_KIND_T0</td>\n",
       "      <td>0.000</td>\n",
       "    </tr>\n",
       "    <tr>\n",
       "      <th>13</th>\n",
       "      <td>STEEL_KIND_C1</td>\n",
       "      <td>0.000</td>\n",
       "    </tr>\n",
       "  </tbody>\n",
       "</table>\n",
       "</div>"
      ],
      "text/plain": [
       "              Feature  Importance\n",
       "10    ROLLING_TEMP_T5       0.321\n",
       "1             PT_WDTH       0.083\n",
       "6         FUR_SZ_TEMP       0.080\n",
       "9          FUR_EXTEMP       0.068\n",
       "0              PT_THK       0.063\n",
       "27             HSB_적용       0.054\n",
       "11  ROLLING_DESCALING       0.046\n",
       "4         FUR_HZ_TEMP       0.037\n",
       "12      STEEL_KIND_C0       0.033\n",
       "2              PT_LTH       0.032\n",
       "8            FUR_TIME       0.030\n",
       "5         FUR_HZ_TIME       0.030\n",
       "7         FUR_SZ_TIME       0.030\n",
       "26            HSB_미적용       0.029\n",
       "3              PT_WGT       0.026\n",
       "23         FUR_NO_3호기       0.006\n",
       "31         WORK_GR_4조       0.004\n",
       "25       FUR_NO_ROW_2       0.004\n",
       "29         WORK_GR_2조       0.004\n",
       "24       FUR_NO_ROW_1       0.004\n",
       "20      STEEL_KIND_T8       0.004\n",
       "21         FUR_NO_1호기       0.003\n",
       "28         WORK_GR_1조       0.002\n",
       "30         WORK_GR_3조       0.002\n",
       "22         FUR_NO_2호기       0.002\n",
       "14      STEEL_KIND_C3       0.002\n",
       "16      STEEL_KIND_T1       0.001\n",
       "17      STEEL_KIND_T3       0.001\n",
       "19      STEEL_KIND_T7       0.001\n",
       "18      STEEL_KIND_T5       0.000\n",
       "15      STEEL_KIND_T0       0.000\n",
       "13      STEEL_KIND_C1       0.000"
      ]
     },
     "execution_count": 69,
     "metadata": {},
     "output_type": "execute_result"
    }
   ],
   "source": [
    "#설명 변수의 중요도: feature_importances\n",
    "\n",
    "#변수명 저장\n",
    "v_feature_name = df_train_x.columns\n",
    "\n",
    "df_importance = pd.DataFrame()\n",
    "df_importance['Feature'] = v_feature_name\n",
    "df_importance['Importance'] = rf_uncustomized.feature_importances_\n",
    "\n",
    "#df_feature_importance의 테이블을 중요도별로 정렬\n",
    "df_importance.sort_values('Importance', ascending=False, inplace=True)\n",
    "df_importance.round(3)\n"
   ]
  },
  {
   "cell_type": "markdown",
   "metadata": {},
   "source": [
    "랜덤 포레스트 기본모델로 VF를 파악해본 결과\n",
    "ROLLING_TEMP_T5\tPT_WDTH FUR_SZ_TEMP\tFUR_EXTEMP PT_THK FUR_HZ_TEMP  HSB_미적용\tHSB_적용순으로 변수 중요도가 생성되었다. "
   ]
  },
  {
   "cell_type": "code",
   "execution_count": 70,
   "metadata": {},
   "outputs": [
    {
     "data": {
      "text/plain": [
       "Text(0, 0.5, '변수')"
      ]
     },
     "execution_count": 70,
     "metadata": {},
     "output_type": "execute_result"
    },
    {
     "data": {
      "image/png": "[encoded data removed]",
      "text/plain": [
       "<Figure size 1440x2160 with 1 Axes>"
      ]
     },
     "metadata": {
      "needs_background": "light"
     },
     "output_type": "display_data"
    }
   ],
   "source": [
    "#설명변수 중요도그래프, 중요도가 높은 변수를 상위에 그림\n",
    "df_importance.sort_values('Importance', ascending=True, inplace=True)\n",
    "coordinates = range(len(df_importance))\n",
    "fig = plt.figure(figsize = (20, 30))\n",
    "plt.barh(y=coordinates, width=df_importance['Importance'])\n",
    "plt.yticks(coordinates, df_importance['Feature'])\n",
    "plt.xlabel('변수중요도')\n",
    "plt.ylabel('변수')"
   ]
  },
  {
   "cell_type": "code",
   "execution_count": 71,
   "metadata": {},
   "outputs": [
    {
     "name": "stdout",
     "output_type": "stream",
     "text": [
      "Score on training set: 1.000\n",
      "Score on test set: 0.972\n"
     ]
    }
   ],
   "source": [
    "gb_uncustomized =GBC(random_state = 9981)\n",
    "gb_uncustomized.fit(df_train_x, df_train_y)\n",
    "print('Score on training set: {:.3f}'.format(gb_uncustomized.score(df_train_x,df_train_y)))\n",
    "#test 데이터 설명력\n",
    "print('Score on test set: {:.3f}'.format(gb_uncustomized.score(df_val_x, df_val_y)))"
   ]
  },
  {
   "cell_type": "code",
   "execution_count": 72,
   "metadata": {},
   "outputs": [
    {
     "data": {
      "text/html": [
       "<div>\n",
       "<style scoped>\n",
       "    .dataframe tbody tr th:only-of-type {\n",
       "        vertical-align: middle;\n",
       "    }\n",
       "\n",
       "    .dataframe tbody tr th {\n",
       "        vertical-align: top;\n",
       "    }\n",
       "\n",
       "    .dataframe thead th {\n",
       "        text-align: right;\n",
       "    }\n",
       "</style>\n",
       "<table border=\"1\" class=\"dataframe\">\n",
       "  <thead>\n",
       "    <tr style=\"text-align: right;\">\n",
       "      <th></th>\n",
       "      <th>Feature</th>\n",
       "      <th>Importance</th>\n",
       "    </tr>\n",
       "  </thead>\n",
       "  <tbody>\n",
       "    <tr>\n",
       "      <th>10</th>\n",
       "      <td>ROLLING_TEMP_T5</td>\n",
       "      <td>0.635</td>\n",
       "    </tr>\n",
       "    <tr>\n",
       "      <th>9</th>\n",
       "      <td>FUR_EXTEMP</td>\n",
       "      <td>0.090</td>\n",
       "    </tr>\n",
       "    <tr>\n",
       "      <th>26</th>\n",
       "      <td>HSB_미적용</td>\n",
       "      <td>0.079</td>\n",
       "    </tr>\n",
       "    <tr>\n",
       "      <th>27</th>\n",
       "      <td>HSB_적용</td>\n",
       "      <td>0.050</td>\n",
       "    </tr>\n",
       "    <tr>\n",
       "      <th>6</th>\n",
       "      <td>FUR_SZ_TEMP</td>\n",
       "      <td>0.042</td>\n",
       "    </tr>\n",
       "    <tr>\n",
       "      <th>0</th>\n",
       "      <td>PT_THK</td>\n",
       "      <td>0.029</td>\n",
       "    </tr>\n",
       "    <tr>\n",
       "      <th>11</th>\n",
       "      <td>ROLLING_DESCALING</td>\n",
       "      <td>0.024</td>\n",
       "    </tr>\n",
       "    <tr>\n",
       "      <th>4</th>\n",
       "      <td>FUR_HZ_TEMP</td>\n",
       "      <td>0.014</td>\n",
       "    </tr>\n",
       "    <tr>\n",
       "      <th>7</th>\n",
       "      <td>FUR_SZ_TIME</td>\n",
       "      <td>0.014</td>\n",
       "    </tr>\n",
       "    <tr>\n",
       "      <th>1</th>\n",
       "      <td>PT_WDTH</td>\n",
       "      <td>0.009</td>\n",
       "    </tr>\n",
       "  </tbody>\n",
       "</table>\n",
       "</div>"
      ],
      "text/plain": [
       "              Feature  Importance\n",
       "10    ROLLING_TEMP_T5       0.635\n",
       "9          FUR_EXTEMP       0.090\n",
       "26            HSB_미적용       0.079\n",
       "27             HSB_적용       0.050\n",
       "6         FUR_SZ_TEMP       0.042\n",
       "0              PT_THK       0.029\n",
       "11  ROLLING_DESCALING       0.024\n",
       "4         FUR_HZ_TEMP       0.014\n",
       "7         FUR_SZ_TIME       0.014\n",
       "1             PT_WDTH       0.009"
      ]
     },
     "execution_count": 72,
     "metadata": {},
     "output_type": "execute_result"
    }
   ],
   "source": [
    "#설명 변수의 중요도: feature_importances\n",
    "\n",
    "#변수명 저장\n",
    "v_feature_name = df_train_x.columns\n",
    "\n",
    "df_importance = pd.DataFrame()\n",
    "df_importance['Feature'] = v_feature_name\n",
    "df_importance['Importance'] = gb_uncustomized.feature_importances_\n",
    "\n",
    "#df_feature_importance의 테이블을 중요도별로 정렬\n",
    "df_importance.sort_values('Importance', ascending=False, inplace=True)\n",
    "df_importance.round(3)[:10]"
   ]
  },
  {
   "cell_type": "code",
   "execution_count": 73,
   "metadata": {},
   "outputs": [
    {
     "data": {
      "text/plain": [
       "Text(0, 0.5, '변수')"
      ]
     },
     "execution_count": 73,
     "metadata": {},
     "output_type": "execute_result"
    },
    {
     "data": {
      "image/png": "[encoded data removed]",
      "text/plain": [
       "<Figure size 1440x2160 with 1 Axes>"
      ]
     },
     "metadata": {
      "needs_background": "light"
     },
     "output_type": "display_data"
    }
   ],
   "source": [
    "#설명변수 중요도그래프, 중요도가 높은 변수를 상위에 그림\n",
    "df_importance.sort_values('Importance', ascending=True, inplace=True)\n",
    "coordinates = range(len(df_importance))\n",
    "fig = plt.figure(figsize = (20, 30))\n",
    "plt.barh(y=coordinates, width=df_importance['Importance'])\n",
    "plt.yticks(coordinates, df_importance['Feature'])\n",
    "plt.xlabel('변수중요도')\n",
    "plt.ylabel('변수')"
   ]
  },
  {
   "cell_type": "markdown",
   "metadata": {},
   "source": [
    "그레디언트 부스팅 기본모델로 VF를 파악해 본 결과\n",
    "ROLLING_TEMP_T5, FUR_EXTEMP,  FUR_SZ_TEMP HSB_미적용 HSB_적용, PT_THK, ROLLING_DESCALING FUR_HZ_TEMP FUR_SZ_TIME PT_WDTH 순으로\n",
    "중요 변수를 얻을 수 있었다\n",
    "\n"
   ]
  },
  {
   "cell_type": "markdown",
   "metadata": {},
   "source": [
    "# VF 선정 결과\n",
    "그래프를 통한 EDA이후 Decision Tree, Randomforest, Gradient Boosting logistic Regression 총 4가지 \n",
    "모델에서 공통되거나 각 모델에서 모델생성시 영향력이 큰 변수 6개를 선택하면 다음과 같다. \n",
    "\n",
    "모델별 중요 변수로 선정된 설명변수를 나열해보면 아래와 같다.\n",
    "\n",
    "Decision TREE(의사결정나무)\n",
    "ROLLING_TEMP_5, FUR_EXTEMP, HSB_적용, ROLLING_DESCALING_9 ROLLING_DESCALING_7 \n",
    "\n",
    "Logistic Regressor(로지스틱 회귀분석)\n",
    " ROLLING_TEMP_T5 PT_THK\n",
    "\n",
    "Random Forest(랜덤포레스트\n",
    "ROLLING_TEMP_T5\tPT_WDTH FUR_SZ_TEMP\tFUR_EXTEMP PT_THK FUR_HZ_TEMP  HSB_미적용\tHSB_적용순\n",
    "\n",
    "Gradient Boosting (그래디언트 부스팅)\n",
    "ROLLING_TEMP_T5, ROLLING_DESCALING_9  FUR_SZ_TEMP HSB_미적용 HSB_적용 FUR_EXTEMP\n",
    "ROLLING_DESCALING_7 ROLLING_DESCALING_5  FUR_TIME\n",
    "\n",
    "# 위의 모델에서 공통적으로 나오거나 EDA하는 과정에서 중요변수로 생각됬던 변수들과 비교하여 중 총 7개의  최종 Vital few를 도출하였다.\n",
    "\n",
    " 도출한 VF는 다음과 같다.\n",
    " ROLLING_TEMP_T5, ROLLING_DESCALING,  HSB,  FUR_EXTEMP, PT_WDTH,  PT_THK FUR_TIME "
   ]
  },
  {
   "cell_type": "markdown",
   "metadata": {},
   "source": [
    "# 도출된 VF로 데이터 전처리 "
   ]
  },
  {
   "cell_type": "code",
   "execution_count": 74,
   "metadata": {},
   "outputs": [],
   "source": [
    "vf_nu_df_x1= df_raw[['SCALE','ROLLING_TEMP_T5','FUR_EXTEMP',\n",
    "                     'PT_WDTH', 'PT_THK', 'FUR_TIME','HSB','ROLLING_DESCALING']]\n",
    "vf_nu_df_x1=vf_nu_df_x1.astype({'SCALE' : 'int'})"
   ]
  },
  {
   "cell_type": "code",
   "execution_count": 75,
   "metadata": {},
   "outputs": [
    {
     "name": "stdout",
     "output_type": "stream",
     "text": [
      "<class 'pandas.core.frame.DataFrame'>\n",
      "Int64Index: 714 entries, 0 to 719\n",
      "Data columns (total 9 columns):\n",
      " #   Column             Non-Null Count  Dtype  \n",
      "---  ------             --------------  -----  \n",
      " 0   SCALE              714 non-null    int64  \n",
      " 1   ROLLING_TEMP_T5    714 non-null    int64  \n",
      " 2   FUR_EXTEMP         714 non-null    int64  \n",
      " 3   PT_WDTH            714 non-null    int64  \n",
      " 4   PT_THK             714 non-null    float64\n",
      " 5   FUR_TIME           714 non-null    int64  \n",
      " 6   ROLLING_DESCALING  714 non-null    int64  \n",
      " 7   HSB_미적용            714 non-null    uint8  \n",
      " 8   HSB_적용             714 non-null    uint8  \n",
      "dtypes: float64(1), int64(6), uint8(2)\n",
      "memory usage: 46.0 KB\n"
     ]
    }
   ],
   "source": [
    "df_raw_dummy_x = pd.get_dummies(vf_nu_df_x1)\n",
    "df_raw_dummy_x.info()\n"
   ]
  },
  {
   "cell_type": "code",
   "execution_count": 76,
   "metadata": {},
   "outputs": [],
   "source": [
    "vf_nu_df_x =df_raw_dummy_x.drop('SCALE', axis =1 ,inplace =False)\n",
    "vf_nu_df_y =df_raw_dummy_x['SCALE']\n",
    "vf_nu_df_y= vf_nu_df_y.astype({'SCALE': 'int'})\n"
   ]
  },
  {
   "cell_type": "code",
   "execution_count": 77,
   "metadata": {},
   "outputs": [
    {
     "name": "stdout",
     "output_type": "stream",
     "text": [
      "train data X size:(285, 8)\n",
      "train data Y size:(285,)\n",
      "test data X size:(215, 8)\n",
      "test data Y size:(215,)\n",
      "val data X size:(214, 8)\n",
      "val data Y size:(214,)\n"
     ]
    }
   ],
   "source": [
    "vf_train_x , vf_test_x ,vf_train_y, vf_test_y = \\\n",
    "train_test_split(vf_nu_df_x, vf_nu_df_y, test_size = 0.3, random_state= 9981)\n",
    "vf_train_x, vf_val_x , vf_train_y, vf_val_y = \\\n",
    "train_test_split(vf_train_x,vf_train_y, test_size=3/7, random_state=9981)\n",
    "print('train data X size:{}'.format(vf_train_x.shape))\n",
    "print('train data Y size:{}'.format(vf_train_y.shape))\n",
    "print('test data X size:{}'.format(vf_test_x.shape))\n",
    "print('test data Y size:{}'.format(vf_test_y.shape))\n",
    "print('val data X size:{}'.format(vf_val_x.shape))\n",
    "print('val data Y size:{}'.format(vf_val_y.shape))\n",
    "# type(vf_train_x)\n"
   ]
  },
  {
   "cell_type": "code",
   "execution_count": 78,
   "metadata": {},
   "outputs": [
    {
     "data": {
      "text/plain": [
       "421    0\n",
       "291    0\n",
       "712    0\n",
       "525    0\n",
       "252    0\n",
       "      ..\n",
       "99     0\n",
       "112    1\n",
       "110    0\n",
       "581    1\n",
       "152    1\n",
       "Name: SCALE, Length: 285, dtype: int64"
      ]
     },
     "execution_count": 78,
     "metadata": {},
     "output_type": "execute_result"
    }
   ],
   "source": [
    "vf_train_y"
   ]
  },
  {
   "cell_type": "code",
   "execution_count": 90,
   "metadata": {},
   "outputs": [
    {
     "data": {
      "text/html": [
       "<div>\n",
       "<style scoped>\n",
       "    .dataframe tbody tr th:only-of-type {\n",
       "        vertical-align: middle;\n",
       "    }\n",
       "\n",
       "    .dataframe tbody tr th {\n",
       "        vertical-align: top;\n",
       "    }\n",
       "\n",
       "    .dataframe thead th {\n",
       "        text-align: right;\n",
       "    }\n",
       "</style>\n",
       "<table border=\"1\" class=\"dataframe\">\n",
       "  <thead>\n",
       "    <tr style=\"text-align: right;\">\n",
       "      <th></th>\n",
       "      <th>MinSamplesLeaf</th>\n",
       "      <th>TrainScore</th>\n",
       "      <th>ValidationScore</th>\n",
       "    </tr>\n",
       "  </thead>\n",
       "  <tbody>\n",
       "    <tr>\n",
       "      <th>0</th>\n",
       "      <td>1</td>\n",
       "      <td>1.000</td>\n",
       "      <td>0.958</td>\n",
       "    </tr>\n",
       "    <tr>\n",
       "      <th>1</th>\n",
       "      <td>2</td>\n",
       "      <td>0.986</td>\n",
       "      <td>0.972</td>\n",
       "    </tr>\n",
       "    <tr>\n",
       "      <th>2</th>\n",
       "      <td>3</td>\n",
       "      <td>0.989</td>\n",
       "      <td>0.986</td>\n",
       "    </tr>\n",
       "    <tr>\n",
       "      <th>3</th>\n",
       "      <td>4</td>\n",
       "      <td>0.989</td>\n",
       "      <td>0.986</td>\n",
       "    </tr>\n",
       "    <tr>\n",
       "      <th>4</th>\n",
       "      <td>5</td>\n",
       "      <td>0.989</td>\n",
       "      <td>0.986</td>\n",
       "    </tr>\n",
       "    <tr>\n",
       "      <th>5</th>\n",
       "      <td>6</td>\n",
       "      <td>0.986</td>\n",
       "      <td>0.986</td>\n",
       "    </tr>\n",
       "    <tr>\n",
       "      <th>6</th>\n",
       "      <td>7</td>\n",
       "      <td>0.979</td>\n",
       "      <td>0.967</td>\n",
       "    </tr>\n",
       "    <tr>\n",
       "      <th>7</th>\n",
       "      <td>8</td>\n",
       "      <td>0.979</td>\n",
       "      <td>0.967</td>\n",
       "    </tr>\n",
       "    <tr>\n",
       "      <th>8</th>\n",
       "      <td>9</td>\n",
       "      <td>0.979</td>\n",
       "      <td>0.967</td>\n",
       "    </tr>\n",
       "    <tr>\n",
       "      <th>9</th>\n",
       "      <td>10</td>\n",
       "      <td>0.937</td>\n",
       "      <td>0.907</td>\n",
       "    </tr>\n",
       "    <tr>\n",
       "      <th>10</th>\n",
       "      <td>11</td>\n",
       "      <td>0.933</td>\n",
       "      <td>0.897</td>\n",
       "    </tr>\n",
       "    <tr>\n",
       "      <th>11</th>\n",
       "      <td>12</td>\n",
       "      <td>0.923</td>\n",
       "      <td>0.897</td>\n",
       "    </tr>\n",
       "    <tr>\n",
       "      <th>12</th>\n",
       "      <td>13</td>\n",
       "      <td>0.923</td>\n",
       "      <td>0.897</td>\n",
       "    </tr>\n",
       "    <tr>\n",
       "      <th>13</th>\n",
       "      <td>14</td>\n",
       "      <td>0.923</td>\n",
       "      <td>0.897</td>\n",
       "    </tr>\n",
       "    <tr>\n",
       "      <th>14</th>\n",
       "      <td>15</td>\n",
       "      <td>0.923</td>\n",
       "      <td>0.897</td>\n",
       "    </tr>\n",
       "    <tr>\n",
       "      <th>15</th>\n",
       "      <td>16</td>\n",
       "      <td>0.923</td>\n",
       "      <td>0.897</td>\n",
       "    </tr>\n",
       "    <tr>\n",
       "      <th>16</th>\n",
       "      <td>17</td>\n",
       "      <td>0.923</td>\n",
       "      <td>0.897</td>\n",
       "    </tr>\n",
       "    <tr>\n",
       "      <th>17</th>\n",
       "      <td>18</td>\n",
       "      <td>0.923</td>\n",
       "      <td>0.897</td>\n",
       "    </tr>\n",
       "    <tr>\n",
       "      <th>18</th>\n",
       "      <td>19</td>\n",
       "      <td>0.923</td>\n",
       "      <td>0.897</td>\n",
       "    </tr>\n",
       "    <tr>\n",
       "      <th>19</th>\n",
       "      <td>20</td>\n",
       "      <td>0.923</td>\n",
       "      <td>0.897</td>\n",
       "    </tr>\n",
       "  </tbody>\n",
       "</table>\n",
       "</div>"
      ],
      "text/plain": [
       "    MinSamplesLeaf  TrainScore  ValidationScore\n",
       "0                1       1.000            0.958\n",
       "1                2       0.986            0.972\n",
       "2                3       0.989            0.986\n",
       "3                4       0.989            0.986\n",
       "4                5       0.989            0.986\n",
       "5                6       0.986            0.986\n",
       "6                7       0.979            0.967\n",
       "7                8       0.979            0.967\n",
       "8                9       0.979            0.967\n",
       "9               10       0.937            0.907\n",
       "10              11       0.933            0.897\n",
       "11              12       0.923            0.897\n",
       "12              13       0.923            0.897\n",
       "13              14       0.923            0.897\n",
       "14              15       0.923            0.897\n",
       "15              16       0.923            0.897\n",
       "16              17       0.923            0.897\n",
       "17              18       0.923            0.897\n",
       "18              19       0.923            0.897\n",
       "19              20       0.923            0.897"
      ]
     },
     "execution_count": 90,
     "metadata": {},
     "output_type": "execute_result"
    }
   ],
   "source": [
    "# 최적의 분류를 위하여 모델의 하이터 파라미터를 조정해야하는데 입사귀수, 분리노드 최소 자료수를 순서대로 \n",
    "#하이퍼 파라미터를 결정하겠다.\n",
    "\n",
    "#모델 Parameter 조정 \n",
    "#train 및 test 설명력 결과 저장\n",
    "train_score = []; val_score = []\n",
    "#min_samples_leaf: 잎사귀 최소 자료 수\n",
    "para_leaf = [n_leaf*1 for n_leaf in range(1,21)]\n",
    "for v_min_samples_leaf in para_leaf:\n",
    "    dc = DecisionTreeClassifier(random_state = 9981, min_samples_leaf = v_min_samples_leaf) \n",
    "    dc.fit(vf_train_x, vf_train_y)\n",
    "    train_score.append(dc.score(vf_train_x, vf_train_y))\n",
    "    val_score.append(dc.score(vf_val_x,vf_val_y))#결과 저장\n",
    "df_score_leaf = pd.DataFrame()\n",
    "df_score_leaf['MinSamplesLeaf'] = para_leaf\n",
    "df_score_leaf['TrainScore'] = train_score\n",
    "df_score_leaf['ValidationScore'] = val_score#모델 설명력 확인\n",
    "df_score_leaf.round(3)"
   ]
  },
  {
   "cell_type": "code",
   "execution_count": 91,
   "metadata": {},
   "outputs": [
    {
     "data": {
      "text/plain": [
       "<matplotlib.legend.Legend at 0x7fedc67ea8b0>"
      ]
     },
     "execution_count": 91,
     "metadata": {},
     "output_type": "execute_result"
    },
    {
     "data": {
      "image/png": "[encoded data removed]",
      "text/plain": [
       "<Figure size 432x288 with 1 Axes>"
      ]
     },
     "metadata": {
      "needs_background": "light"
     },
     "output_type": "display_data"
    }
   ],
   "source": [
    "plt.plot(para_leaf,train_score, linestyle =\"-\", label ='Train score')\n",
    "plt.plot(para_leaf, val_score, linestyle =\"-\", label ='Validation score')\n",
    "plt.legend()\n",
    "#  잎사귀 수 6일때, 트레인 발리데이션 acc가 동일 \n",
    "# 잎사귀 수 6 결정"
   ]
  },
  {
   "cell_type": "code",
   "execution_count": 105,
   "metadata": {},
   "outputs": [
    {
     "data": {
      "text/html": [
       "<div>\n",
       "<style scoped>\n",
       "    .dataframe tbody tr th:only-of-type {\n",
       "        vertical-align: middle;\n",
       "    }\n",
       "\n",
       "    .dataframe tbody tr th {\n",
       "        vertical-align: top;\n",
       "    }\n",
       "\n",
       "    .dataframe thead th {\n",
       "        text-align: right;\n",
       "    }\n",
       "</style>\n",
       "<table border=\"1\" class=\"dataframe\">\n",
       "  <thead>\n",
       "    <tr style=\"text-align: right;\">\n",
       "      <th></th>\n",
       "      <th>MinSamplesLeaf</th>\n",
       "      <th>TrainScore</th>\n",
       "      <th>ValidationScore</th>\n",
       "    </tr>\n",
       "  </thead>\n",
       "  <tbody>\n",
       "    <tr>\n",
       "      <th>0</th>\n",
       "      <td>4</td>\n",
       "      <td>0.986</td>\n",
       "      <td>0.986</td>\n",
       "    </tr>\n",
       "    <tr>\n",
       "      <th>1</th>\n",
       "      <td>6</td>\n",
       "      <td>0.986</td>\n",
       "      <td>0.986</td>\n",
       "    </tr>\n",
       "    <tr>\n",
       "      <th>2</th>\n",
       "      <td>8</td>\n",
       "      <td>0.986</td>\n",
       "      <td>0.986</td>\n",
       "    </tr>\n",
       "    <tr>\n",
       "      <th>3</th>\n",
       "      <td>10</td>\n",
       "      <td>0.986</td>\n",
       "      <td>0.986</td>\n",
       "    </tr>\n",
       "    <tr>\n",
       "      <th>4</th>\n",
       "      <td>12</td>\n",
       "      <td>0.986</td>\n",
       "      <td>0.986</td>\n",
       "    </tr>\n",
       "    <tr>\n",
       "      <th>5</th>\n",
       "      <td>14</td>\n",
       "      <td>0.986</td>\n",
       "      <td>0.986</td>\n",
       "    </tr>\n",
       "    <tr>\n",
       "      <th>6</th>\n",
       "      <td>16</td>\n",
       "      <td>0.986</td>\n",
       "      <td>0.986</td>\n",
       "    </tr>\n",
       "    <tr>\n",
       "      <th>7</th>\n",
       "      <td>18</td>\n",
       "      <td>0.986</td>\n",
       "      <td>0.986</td>\n",
       "    </tr>\n",
       "    <tr>\n",
       "      <th>8</th>\n",
       "      <td>20</td>\n",
       "      <td>0.986</td>\n",
       "      <td>0.986</td>\n",
       "    </tr>\n",
       "    <tr>\n",
       "      <th>9</th>\n",
       "      <td>22</td>\n",
       "      <td>0.986</td>\n",
       "      <td>0.986</td>\n",
       "    </tr>\n",
       "    <tr>\n",
       "      <th>10</th>\n",
       "      <td>24</td>\n",
       "      <td>0.986</td>\n",
       "      <td>0.986</td>\n",
       "    </tr>\n",
       "    <tr>\n",
       "      <th>11</th>\n",
       "      <td>26</td>\n",
       "      <td>0.986</td>\n",
       "      <td>0.986</td>\n",
       "    </tr>\n",
       "    <tr>\n",
       "      <th>12</th>\n",
       "      <td>28</td>\n",
       "      <td>0.986</td>\n",
       "      <td>0.986</td>\n",
       "    </tr>\n",
       "    <tr>\n",
       "      <th>13</th>\n",
       "      <td>30</td>\n",
       "      <td>0.986</td>\n",
       "      <td>0.986</td>\n",
       "    </tr>\n",
       "    <tr>\n",
       "      <th>14</th>\n",
       "      <td>32</td>\n",
       "      <td>0.986</td>\n",
       "      <td>0.986</td>\n",
       "    </tr>\n",
       "    <tr>\n",
       "      <th>15</th>\n",
       "      <td>34</td>\n",
       "      <td>0.986</td>\n",
       "      <td>0.986</td>\n",
       "    </tr>\n",
       "    <tr>\n",
       "      <th>16</th>\n",
       "      <td>36</td>\n",
       "      <td>0.986</td>\n",
       "      <td>0.986</td>\n",
       "    </tr>\n",
       "    <tr>\n",
       "      <th>17</th>\n",
       "      <td>38</td>\n",
       "      <td>0.986</td>\n",
       "      <td>0.986</td>\n",
       "    </tr>\n",
       "    <tr>\n",
       "      <th>18</th>\n",
       "      <td>40</td>\n",
       "      <td>0.986</td>\n",
       "      <td>0.986</td>\n",
       "    </tr>\n",
       "  </tbody>\n",
       "</table>\n",
       "</div>"
      ],
      "text/plain": [
       "    MinSamplesLeaf  TrainScore  ValidationScore\n",
       "0                4       0.986            0.986\n",
       "1                6       0.986            0.986\n",
       "2                8       0.986            0.986\n",
       "3               10       0.986            0.986\n",
       "4               12       0.986            0.986\n",
       "5               14       0.986            0.986\n",
       "6               16       0.986            0.986\n",
       "7               18       0.986            0.986\n",
       "8               20       0.986            0.986\n",
       "9               22       0.986            0.986\n",
       "10              24       0.986            0.986\n",
       "11              26       0.986            0.986\n",
       "12              28       0.986            0.986\n",
       "13              30       0.986            0.986\n",
       "14              32       0.986            0.986\n",
       "15              34       0.986            0.986\n",
       "16              36       0.986            0.986\n",
       "17              38       0.986            0.986\n",
       "18              40       0.986            0.986"
      ]
     },
     "execution_count": 105,
     "metadata": {},
     "output_type": "execute_result"
    }
   ],
   "source": [
    "train_score = []; val_score = []\n",
    "#min_samples_split: 분리 노드의 최소 자료 수\n",
    "para_split = [n_split *2 for n_split in range(2,21)]\n",
    "\n",
    "for v_min_samples_split in para_split:\n",
    "    dc = DecisionTreeClassifier(random_state = 9981, min_samples_leaf = 6, min_samples_split = v_min_samples_split) \n",
    "    dc.fit(vf_train_x, vf_train_y)\n",
    "   \n",
    "    train_score.append(dc.score(vf_train_x, vf_train_y))\n",
    "    val_score.append(dc.score(vf_val_x,vf_val_y))#결과 저장\n",
    "df_score_split = pd.DataFrame()\n",
    "df_score_split['MinSamplesLeaf'] = para_split\n",
    "df_score_split['TrainScore'] = train_score\n",
    "df_score_split['ValidationScore'] = val_score#모델 설명력 확인\n",
    "df_score_split.round(3)\n"
   ]
  },
  {
   "cell_type": "code",
   "execution_count": 104,
   "metadata": {},
   "outputs": [
    {
     "data": {
      "text/plain": [
       "<matplotlib.legend.Legend at 0x7fedccbb7ca0>"
      ]
     },
     "execution_count": 104,
     "metadata": {},
     "output_type": "execute_result"
    },
    {
     "data": {
      "image/png": "[encoded data removed]",
      "text/plain": [
       "<Figure size 432x288 with 1 Axes>"
      ]
     },
     "metadata": {
      "needs_background": "light"
     },
     "output_type": "display_data"
    }
   ],
   "source": [
    "plt.plot(para_split,train_score, linestyle =\"-\", label ='Train score')\n",
    "plt.plot(para_split, val_score, linestyle =\"-\", label ='Validation score')\n",
    "plt.legend()\n",
    "# 최소 자료노드 샘플 수는 결과에 영향이 없는 것으로 나와 디폴트 값을 지정하겠다."
   ]
  },
  {
   "cell_type": "code",
   "execution_count": 103,
   "metadata": {},
   "outputs": [
    {
     "data": {
      "text/html": [
       "<div>\n",
       "<style scoped>\n",
       "    .dataframe tbody tr th:only-of-type {\n",
       "        vertical-align: middle;\n",
       "    }\n",
       "\n",
       "    .dataframe tbody tr th {\n",
       "        vertical-align: top;\n",
       "    }\n",
       "\n",
       "    .dataframe thead th {\n",
       "        text-align: right;\n",
       "    }\n",
       "</style>\n",
       "<table border=\"1\" class=\"dataframe\">\n",
       "  <thead>\n",
       "    <tr style=\"text-align: right;\">\n",
       "      <th></th>\n",
       "      <th>MinSamplesLeaf</th>\n",
       "      <th>TrainScore</th>\n",
       "      <th>ValidationScore</th>\n",
       "    </tr>\n",
       "  </thead>\n",
       "  <tbody>\n",
       "    <tr>\n",
       "      <th>0</th>\n",
       "      <td>4</td>\n",
       "      <td>0.986</td>\n",
       "      <td>0.986</td>\n",
       "    </tr>\n",
       "    <tr>\n",
       "      <th>1</th>\n",
       "      <td>6</td>\n",
       "      <td>0.986</td>\n",
       "      <td>0.986</td>\n",
       "    </tr>\n",
       "    <tr>\n",
       "      <th>2</th>\n",
       "      <td>8</td>\n",
       "      <td>0.986</td>\n",
       "      <td>0.986</td>\n",
       "    </tr>\n",
       "    <tr>\n",
       "      <th>3</th>\n",
       "      <td>10</td>\n",
       "      <td>0.986</td>\n",
       "      <td>0.986</td>\n",
       "    </tr>\n",
       "    <tr>\n",
       "      <th>4</th>\n",
       "      <td>12</td>\n",
       "      <td>0.986</td>\n",
       "      <td>0.986</td>\n",
       "    </tr>\n",
       "    <tr>\n",
       "      <th>5</th>\n",
       "      <td>14</td>\n",
       "      <td>0.986</td>\n",
       "      <td>0.986</td>\n",
       "    </tr>\n",
       "    <tr>\n",
       "      <th>6</th>\n",
       "      <td>16</td>\n",
       "      <td>0.986</td>\n",
       "      <td>0.986</td>\n",
       "    </tr>\n",
       "    <tr>\n",
       "      <th>7</th>\n",
       "      <td>18</td>\n",
       "      <td>0.986</td>\n",
       "      <td>0.986</td>\n",
       "    </tr>\n",
       "    <tr>\n",
       "      <th>8</th>\n",
       "      <td>20</td>\n",
       "      <td>0.986</td>\n",
       "      <td>0.986</td>\n",
       "    </tr>\n",
       "    <tr>\n",
       "      <th>9</th>\n",
       "      <td>22</td>\n",
       "      <td>0.986</td>\n",
       "      <td>0.986</td>\n",
       "    </tr>\n",
       "    <tr>\n",
       "      <th>10</th>\n",
       "      <td>24</td>\n",
       "      <td>0.986</td>\n",
       "      <td>0.986</td>\n",
       "    </tr>\n",
       "    <tr>\n",
       "      <th>11</th>\n",
       "      <td>26</td>\n",
       "      <td>0.986</td>\n",
       "      <td>0.986</td>\n",
       "    </tr>\n",
       "    <tr>\n",
       "      <th>12</th>\n",
       "      <td>28</td>\n",
       "      <td>0.986</td>\n",
       "      <td>0.986</td>\n",
       "    </tr>\n",
       "    <tr>\n",
       "      <th>13</th>\n",
       "      <td>30</td>\n",
       "      <td>0.986</td>\n",
       "      <td>0.986</td>\n",
       "    </tr>\n",
       "    <tr>\n",
       "      <th>14</th>\n",
       "      <td>32</td>\n",
       "      <td>0.986</td>\n",
       "      <td>0.986</td>\n",
       "    </tr>\n",
       "    <tr>\n",
       "      <th>15</th>\n",
       "      <td>34</td>\n",
       "      <td>0.986</td>\n",
       "      <td>0.986</td>\n",
       "    </tr>\n",
       "    <tr>\n",
       "      <th>16</th>\n",
       "      <td>36</td>\n",
       "      <td>0.986</td>\n",
       "      <td>0.986</td>\n",
       "    </tr>\n",
       "    <tr>\n",
       "      <th>17</th>\n",
       "      <td>38</td>\n",
       "      <td>0.986</td>\n",
       "      <td>0.986</td>\n",
       "    </tr>\n",
       "    <tr>\n",
       "      <th>18</th>\n",
       "      <td>40</td>\n",
       "      <td>0.986</td>\n",
       "      <td>0.986</td>\n",
       "    </tr>\n",
       "  </tbody>\n",
       "</table>\n",
       "</div>"
      ],
      "text/plain": [
       "    MinSamplesLeaf  TrainScore  ValidationScore\n",
       "0                4       0.986            0.986\n",
       "1                6       0.986            0.986\n",
       "2                8       0.986            0.986\n",
       "3               10       0.986            0.986\n",
       "4               12       0.986            0.986\n",
       "5               14       0.986            0.986\n",
       "6               16       0.986            0.986\n",
       "7               18       0.986            0.986\n",
       "8               20       0.986            0.986\n",
       "9               22       0.986            0.986\n",
       "10              24       0.986            0.986\n",
       "11              26       0.986            0.986\n",
       "12              28       0.986            0.986\n",
       "13              30       0.986            0.986\n",
       "14              32       0.986            0.986\n",
       "15              34       0.986            0.986\n",
       "16              36       0.986            0.986\n",
       "17              38       0.986            0.986\n",
       "18              40       0.986            0.986"
      ]
     },
     "execution_count": 103,
     "metadata": {},
     "output_type": "execute_result"
    }
   ],
   "source": [
    "train_score = []; val_score = []\n",
    "#min_samples_split: 분리 노드의 최소 자료 수\n",
    "para_ = [n_split *2 for n_split in range(2,21)]\n",
    "\n",
    "for v_min_samples_split in para_split:\n",
    "    dc = DecisionTreeClassifier(random_state = 9981, min_samples_leaf = 6, min_samples_split = v_min_samples_split) \n",
    "    dc.fit(vf_train_x, vf_train_y)\n",
    "   \n",
    "    train_score.append(dc.score(vf_train_x, vf_train_y))\n",
    "    val_score.append(dc.score(vf_val_x,vf_val_y))#결과 저장\n",
    "df_score_split = pd.DataFrame()\n",
    "df_score_split['MinSamplesLeaf'] = para_split\n",
    "df_score_split['TrainScore'] = train_score\n",
    "df_score_split['ValidationScore'] = val_score#모델 설명력 확인\n",
    "df_score_split.round(3)"
   ]
  },
  {
   "cell_type": "code",
   "execution_count": 96,
   "metadata": {},
   "outputs": [
    {
     "data": {
      "text/html": [
       "<div>\n",
       "<style scoped>\n",
       "    .dataframe tbody tr th:only-of-type {\n",
       "        vertical-align: middle;\n",
       "    }\n",
       "\n",
       "    .dataframe tbody tr th {\n",
       "        vertical-align: top;\n",
       "    }\n",
       "\n",
       "    .dataframe thead th {\n",
       "        text-align: right;\n",
       "    }\n",
       "</style>\n",
       "<table border=\"1\" class=\"dataframe\">\n",
       "  <thead>\n",
       "    <tr style=\"text-align: right;\">\n",
       "      <th></th>\n",
       "      <th>Depth</th>\n",
       "      <th>TrainScore</th>\n",
       "      <th>ValidationScore</th>\n",
       "    </tr>\n",
       "  </thead>\n",
       "  <tbody>\n",
       "    <tr>\n",
       "      <th>0</th>\n",
       "      <td>1</td>\n",
       "      <td>0.909</td>\n",
       "      <td>0.911</td>\n",
       "    </tr>\n",
       "    <tr>\n",
       "      <th>1</th>\n",
       "      <td>2</td>\n",
       "      <td>0.940</td>\n",
       "      <td>0.949</td>\n",
       "    </tr>\n",
       "    <tr>\n",
       "      <th>2</th>\n",
       "      <td>3</td>\n",
       "      <td>0.972</td>\n",
       "      <td>0.963</td>\n",
       "    </tr>\n",
       "    <tr>\n",
       "      <th>3</th>\n",
       "      <td>4</td>\n",
       "      <td>0.972</td>\n",
       "      <td>0.963</td>\n",
       "    </tr>\n",
       "    <tr>\n",
       "      <th>4</th>\n",
       "      <td>5</td>\n",
       "      <td>0.986</td>\n",
       "      <td>0.986</td>\n",
       "    </tr>\n",
       "    <tr>\n",
       "      <th>5</th>\n",
       "      <td>6</td>\n",
       "      <td>0.986</td>\n",
       "      <td>0.986</td>\n",
       "    </tr>\n",
       "    <tr>\n",
       "      <th>6</th>\n",
       "      <td>7</td>\n",
       "      <td>0.986</td>\n",
       "      <td>0.986</td>\n",
       "    </tr>\n",
       "    <tr>\n",
       "      <th>7</th>\n",
       "      <td>8</td>\n",
       "      <td>0.986</td>\n",
       "      <td>0.986</td>\n",
       "    </tr>\n",
       "    <tr>\n",
       "      <th>8</th>\n",
       "      <td>9</td>\n",
       "      <td>0.986</td>\n",
       "      <td>0.986</td>\n",
       "    </tr>\n",
       "    <tr>\n",
       "      <th>9</th>\n",
       "      <td>10</td>\n",
       "      <td>0.986</td>\n",
       "      <td>0.986</td>\n",
       "    </tr>\n",
       "  </tbody>\n",
       "</table>\n",
       "</div>"
      ],
      "text/plain": [
       "   Depth  TrainScore  ValidationScore\n",
       "0      1       0.909            0.911\n",
       "1      2       0.940            0.949\n",
       "2      3       0.972            0.963\n",
       "3      4       0.972            0.963\n",
       "4      5       0.986            0.986\n",
       "5      6       0.986            0.986\n",
       "6      7       0.986            0.986\n",
       "7      8       0.986            0.986\n",
       "8      9       0.986            0.986\n",
       "9     10       0.986            0.986"
      ]
     },
     "execution_count": 96,
     "metadata": {},
     "output_type": "execute_result"
    }
   ],
   "source": [
    "#max_depth: 최대 깊이 변경에 따른 모델 성능#train 및 val 설명력 결과 저장\n",
    "train_score = []; val_score = []#max_depth: 최대 깊이 변경\n",
    "para_depth = [depth for depth in range(1,11)]\n",
    "for v_max_depth in para_depth:\n",
    "    dc = DecisionTreeClassifier(random_state =9981, min_samples_leaf = 6 ,max_depth = v_max_depth) \n",
    "    dc.fit(vf_train_x, vf_train_y)\n",
    "    train_score.append(dc.score(vf_train_x, vf_train_y))\n",
    "    val_score.append(dc.score(vf_val_x,vf_val_y))#결과 저장\n",
    "df_score_depth = pd.DataFrame()\n",
    "df_score_depth['Depth'] = para_depth\n",
    "df_score_depth['TrainScore'] = train_score\n",
    "df_score_depth['ValidationScore'] = val_score\n",
    "df_score_depth.round(3)"
   ]
  },
  {
   "cell_type": "code",
   "execution_count": 97,
   "metadata": {},
   "outputs": [
    {
     "data": {
      "text/plain": [
       "<matplotlib.legend.Legend at 0x7fedc7d54dc0>"
      ]
     },
     "execution_count": 97,
     "metadata": {},
     "output_type": "execute_result"
    },
    {
     "data": {
      "image/png": "[encoded data removed]",
      "text/plain": [
       "<Figure size 432x288 with 1 Axes>"
      ]
     },
     "metadata": {
      "needs_background": "light"
     },
     "output_type": "display_data"
    }
   ],
   "source": [
    "plt.plot(para_depth,train_score, linestyle =\"-\", label ='Train score')\n",
    "plt.plot(para_depth,val_score, linestyle =\"--\", label ='Test score')\n",
    "plt.legend()\n",
    "#최대 깊이가 5일때 train set과 validation set이 0.986으로 동일한 acc를 보인다."
   ]
  },
  {
   "cell_type": "markdown",
   "metadata": {},
   "source": [
    "# 최종 모델 선정 \n",
    "random_state=9981, min_samples_leaf=6, max_depth=5"
   ]
  },
  {
   "cell_type": "code",
   "execution_count": 98,
   "metadata": {},
   "outputs": [
    {
     "name": "stdout",
     "output_type": "stream",
     "text": [
      "Score on training set: 0.986\n",
      "Score on test set: 0.986\n",
      "Score on val set: 0.986\n"
     ]
    }
   ],
   "source": [
    "dc_final =DecisionTreeClassifier(random_state=9981, min_samples_leaf=6, max_depth=5)\n",
    "dc_final.fit(vf_train_x, vf_train_y)\n",
    "\n",
    "#Train 데이터 설명력\n",
    "print('Score on training set: {:.3f}'.format(dc_final.score(vf_train_x, vf_train_y)))\n",
    "\n",
    "#Test 데이터 설명력\n",
    "print('Score on test set: {:.3f}'.format(dc_final.score(vf_train_x, vf_train_y)))\n",
    "\n",
    "#Val 데이터 설명력\n",
    "print('Score on val set: {:.3f}'.format(dc_final.score(vf_val_x, vf_val_y)))\n",
    "# 잎사귀수와 분리노드 최소자료수를 설정한 후 해당 수치로 최종 모델을 돌려 본결과 \n",
    "# train , test, validation set 모두 다 98.6%넘는 정확도를 얻을 수 있었다."
   ]
  },
  {
   "cell_type": "markdown",
   "metadata": {},
   "source": [
    "train set, test set, validation set 나누어진 세분류의 데이터에서 모두 0.986의 정확도를 보였다.\n",
    "\n",
    "도출된 VF로 돌린 디시젼 트리의 그림을 보고 중요 변수 영향을 판단하고, 개선방법을 도출하겠다."
   ]
  },
  {
   "cell_type": "code",
   "execution_count": 99,
   "metadata": {},
   "outputs": [
    {
     "data": {
      "text/html": [
       "<div>\n",
       "<style scoped>\n",
       "    .dataframe tbody tr th:only-of-type {\n",
       "        vertical-align: middle;\n",
       "    }\n",
       "\n",
       "    .dataframe tbody tr th {\n",
       "        vertical-align: top;\n",
       "    }\n",
       "\n",
       "    .dataframe thead th {\n",
       "        text-align: right;\n",
       "    }\n",
       "</style>\n",
       "<table border=\"1\" class=\"dataframe\">\n",
       "  <thead>\n",
       "    <tr style=\"text-align: right;\">\n",
       "      <th></th>\n",
       "      <th>Feature</th>\n",
       "      <th>Importance</th>\n",
       "    </tr>\n",
       "  </thead>\n",
       "  <tbody>\n",
       "    <tr>\n",
       "      <th>0</th>\n",
       "      <td>ROLLING_TEMP_T5</td>\n",
       "      <td>0.661</td>\n",
       "    </tr>\n",
       "    <tr>\n",
       "      <th>1</th>\n",
       "      <td>FUR_EXTEMP</td>\n",
       "      <td>0.140</td>\n",
       "    </tr>\n",
       "    <tr>\n",
       "      <th>6</th>\n",
       "      <td>HSB_미적용</td>\n",
       "      <td>0.129</td>\n",
       "    </tr>\n",
       "    <tr>\n",
       "      <th>3</th>\n",
       "      <td>PT_THK</td>\n",
       "      <td>0.064</td>\n",
       "    </tr>\n",
       "    <tr>\n",
       "      <th>5</th>\n",
       "      <td>ROLLING_DESCALING</td>\n",
       "      <td>0.006</td>\n",
       "    </tr>\n",
       "    <tr>\n",
       "      <th>2</th>\n",
       "      <td>PT_WDTH</td>\n",
       "      <td>0.000</td>\n",
       "    </tr>\n",
       "    <tr>\n",
       "      <th>4</th>\n",
       "      <td>FUR_TIME</td>\n",
       "      <td>0.000</td>\n",
       "    </tr>\n",
       "    <tr>\n",
       "      <th>7</th>\n",
       "      <td>HSB_적용</td>\n",
       "      <td>0.000</td>\n",
       "    </tr>\n",
       "  </tbody>\n",
       "</table>\n",
       "</div>"
      ],
      "text/plain": [
       "             Feature  Importance\n",
       "0    ROLLING_TEMP_T5       0.661\n",
       "1         FUR_EXTEMP       0.140\n",
       "6            HSB_미적용       0.129\n",
       "3             PT_THK       0.064\n",
       "5  ROLLING_DESCALING       0.006\n",
       "2            PT_WDTH       0.000\n",
       "4           FUR_TIME       0.000\n",
       "7             HSB_적용       0.000"
      ]
     },
     "execution_count": 99,
     "metadata": {},
     "output_type": "execute_result"
    }
   ],
   "source": [
    "#해당 모델을 만드는 과정에 있어서 영향을 크게 준 변수들을 파악하기 위해 아래의 표를 그려보았다.\n",
    "\n",
    "v_feature_name = vf_train_x.columns\n",
    "\n",
    "df_importance = pd.DataFrame()\n",
    "df_importance['Feature'] = v_feature_name\n",
    "df_importance['Importance'] = dc_final.feature_importances_\n",
    "\n",
    "df_importance.sort_values(\"Importance\", ascending=False, inplace=True)\n",
    "df_importance.round(3)\n",
    "#worst concave points 변수가 모델 생성에 있어 가장 큰 영향을 준 변수로 측정되었고,"
   ]
  },
  {
   "cell_type": "code",
   "execution_count": 115,
   "metadata": {},
   "outputs": [
    {
     "data": {
      "image/svg+xml": [
       "<?xml version=\"1.0\" encoding=\"UTF-8\" standalone=\"no\"?>\n",
       "<!DOCTYPE svg PUBLIC \"-//W3C//DTD SVG 1.1//EN\"\n",
       " \"http://www.w3.org/Graphics/SVG/1.1/DTD/svg11.dtd\">\n",
       "<!-- Generated by graphviz version 2.40.1 (20161225.0304)\n",
       " -->\n",
       "<!-- Title: Tree Pages: 1 -->\n",
       "<svg width=\"513pt\" height=\"671pt\"\n",
       " viewBox=\"0.00 0.00 513.00 671.00\" xmlns=\"http://www.w3.org/2000/svg\" xmlns:xlink=\"http://www.w3.org/1999/xlink\">\n",
       "<g id=\"graph0\" class=\"graph\" transform=\"scale(1 1) rotate(0) translate(4 667)\">\n",
       "<title>Tree</title>\n",
       "<polygon fill=\"#ffffff\" stroke=\"transparent\" points=\"-4,4 -4,-667 509,-667 509,4 -4,4\"/>\n",
       "<!-- 0 -->\n",
       "<g id=\"node1\" class=\"node\">\n",
       "<title>0</title>\n",
       "<polygon fill=\"#f0b890\" stroke=\"#000000\" points=\"490.5,-663 287.5,-663 287.5,-580 490.5,-580 490.5,-663\"/>\n",
       "<text text-anchor=\"middle\" x=\"389\" y=\"-647.8\" font-family=\"Times,serif\" font-size=\"14.00\" fill=\"#000000\">ROLLING_TEMP_T5 &lt;= 1000.5</text>\n",
       "<text text-anchor=\"middle\" x=\"389\" y=\"-632.8\" font-family=\"Times,serif\" font-size=\"14.00\" fill=\"#000000\">gini = 0.424</text>\n",
       "<text text-anchor=\"middle\" x=\"389\" y=\"-617.8\" font-family=\"Times,serif\" font-size=\"14.00\" fill=\"#000000\">samples = 285</text>\n",
       "<text text-anchor=\"middle\" x=\"389\" y=\"-602.8\" font-family=\"Times,serif\" font-size=\"14.00\" fill=\"#000000\">value = [198, 87]</text>\n",
       "<text text-anchor=\"middle\" x=\"389\" y=\"-587.8\" font-family=\"Times,serif\" font-size=\"14.00\" fill=\"#000000\">class = 양품</text>\n",
       "</g>\n",
       "<!-- 1 -->\n",
       "<g id=\"node2\" class=\"node\">\n",
       "<title>1</title>\n",
       "<polygon fill=\"#e89253\" stroke=\"#000000\" points=\"388.5,-544 257.5,-544 257.5,-461 388.5,-461 388.5,-544\"/>\n",
       "<text text-anchor=\"middle\" x=\"323\" y=\"-528.8\" font-family=\"Times,serif\" font-size=\"14.00\" fill=\"#000000\">HSB_미적용 &lt;= 0.5</text>\n",
       "<text text-anchor=\"middle\" x=\"323\" y=\"-513.8\" font-family=\"Times,serif\" font-size=\"14.00\" fill=\"#000000\">gini = 0.205</text>\n",
       "<text text-anchor=\"middle\" x=\"323\" y=\"-498.8\" font-family=\"Times,serif\" font-size=\"14.00\" fill=\"#000000\">samples = 224</text>\n",
       "<text text-anchor=\"middle\" x=\"323\" y=\"-483.8\" font-family=\"Times,serif\" font-size=\"14.00\" fill=\"#000000\">value = [198, 26]</text>\n",
       "<text text-anchor=\"middle\" x=\"323\" y=\"-468.8\" font-family=\"Times,serif\" font-size=\"14.00\" fill=\"#000000\">class = 양품</text>\n",
       "</g>\n",
       "<!-- 0&#45;&gt;1 -->\n",
       "<g id=\"edge1\" class=\"edge\">\n",
       "<title>0&#45;&gt;1</title>\n",
       "<path fill=\"none\" stroke=\"#000000\" d=\"M365.9164,-579.8796C361.1211,-571.2335 356.0178,-562.0322 351.0662,-553.1042\"/>\n",
       "<polygon fill=\"#000000\" stroke=\"#000000\" points=\"354.0931,-551.3455 346.1821,-544.2981 347.9716,-554.7407 354.0931,-551.3455\"/>\n",
       "<text text-anchor=\"middle\" x=\"339.2969\" y=\"-564.6313\" font-family=\"Times,serif\" font-size=\"14.00\" fill=\"#000000\">True</text>\n",
       "</g>\n",
       "<!-- 10 -->\n",
       "<g id=\"node11\" class=\"node\">\n",
       "<title>10</title>\n",
       "<polygon fill=\"#399de5\" stroke=\"#000000\" points=\"505,-536.5 407,-536.5 407,-468.5 505,-468.5 505,-536.5\"/>\n",
       "<text text-anchor=\"middle\" x=\"456\" y=\"-521.3\" font-family=\"Times,serif\" font-size=\"14.00\" fill=\"#000000\">gini = 0.0</text>\n",
       "<text text-anchor=\"middle\" x=\"456\" y=\"-506.3\" font-family=\"Times,serif\" font-size=\"14.00\" fill=\"#000000\">samples = 61</text>\n",
       "<text text-anchor=\"middle\" x=\"456\" y=\"-491.3\" font-family=\"Times,serif\" font-size=\"14.00\" fill=\"#000000\">value = [0, 61]</text>\n",
       "<text text-anchor=\"middle\" x=\"456\" y=\"-476.3\" font-family=\"Times,serif\" font-size=\"14.00\" fill=\"#000000\">class = 불량</text>\n",
       "</g>\n",
       "<!-- 0&#45;&gt;10 -->\n",
       "<g id=\"edge10\" class=\"edge\">\n",
       "<title>0&#45;&gt;10</title>\n",
       "<path fill=\"none\" stroke=\"#000000\" d=\"M412.4333,-579.8796C418.6863,-568.7735 425.4552,-556.7513 431.751,-545.5691\"/>\n",
       "<polygon fill=\"#000000\" stroke=\"#000000\" points=\"434.8235,-547.2459 436.6798,-536.8149 428.7239,-543.8116 434.8235,-547.2459\"/>\n",
       "<text text-anchor=\"middle\" x=\"443.411\" y=\"-557.1917\" font-family=\"Times,serif\" font-size=\"14.00\" fill=\"#000000\">False</text>\n",
       "</g>\n",
       "<!-- 2 -->\n",
       "<g id=\"node3\" class=\"node\">\n",
       "<title>2</title>\n",
       "<polygon fill=\"#e78c4a\" stroke=\"#000000\" points=\"333,-425 167,-425 167,-342 333,-342 333,-425\"/>\n",
       "<text text-anchor=\"middle\" x=\"250\" y=\"-409.8\" font-family=\"Times,serif\" font-size=\"14.00\" fill=\"#000000\">FUR_EXTEMP &lt;= 1175.0</text>\n",
       "<text text-anchor=\"middle\" x=\"250\" y=\"-394.8\" font-family=\"Times,serif\" font-size=\"14.00\" fill=\"#000000\">gini = 0.146</text>\n",
       "<text text-anchor=\"middle\" x=\"250\" y=\"-379.8\" font-family=\"Times,serif\" font-size=\"14.00\" fill=\"#000000\">samples = 215</text>\n",
       "<text text-anchor=\"middle\" x=\"250\" y=\"-364.8\" font-family=\"Times,serif\" font-size=\"14.00\" fill=\"#000000\">value = [198, 17]</text>\n",
       "<text text-anchor=\"middle\" x=\"250\" y=\"-349.8\" font-family=\"Times,serif\" font-size=\"14.00\" fill=\"#000000\">class = 양품</text>\n",
       "</g>\n",
       "<!-- 1&#45;&gt;2 -->\n",
       "<g id=\"edge2\" class=\"edge\">\n",
       "<title>1&#45;&gt;2</title>\n",
       "<path fill=\"none\" stroke=\"#000000\" d=\"M297.4681,-460.8796C292.109,-452.1434 286.4021,-442.8404 280.8718,-433.8253\"/>\n",
       "<polygon fill=\"#000000\" stroke=\"#000000\" points=\"283.8533,-431.9919 275.6408,-425.2981 277.8865,-435.6522 283.8533,-431.9919\"/>\n",
       "</g>\n",
       "<!-- 9 -->\n",
       "<g id=\"node10\" class=\"node\">\n",
       "<title>9</title>\n",
       "<polygon fill=\"#399de5\" stroke=\"#000000\" points=\"443,-417.5 351,-417.5 351,-349.5 443,-349.5 443,-417.5\"/>\n",
       "<text text-anchor=\"middle\" x=\"397\" y=\"-402.3\" font-family=\"Times,serif\" font-size=\"14.00\" fill=\"#000000\">gini = 0.0</text>\n",
       "<text text-anchor=\"middle\" x=\"397\" y=\"-387.3\" font-family=\"Times,serif\" font-size=\"14.00\" fill=\"#000000\">samples = 9</text>\n",
       "<text text-anchor=\"middle\" x=\"397\" y=\"-372.3\" font-family=\"Times,serif\" font-size=\"14.00\" fill=\"#000000\">value = [0, 9]</text>\n",
       "<text text-anchor=\"middle\" x=\"397\" y=\"-357.3\" font-family=\"Times,serif\" font-size=\"14.00\" fill=\"#000000\">class = 불량</text>\n",
       "</g>\n",
       "<!-- 1&#45;&gt;9 -->\n",
       "<g id=\"edge9\" class=\"edge\">\n",
       "<title>1&#45;&gt;9</title>\n",
       "<path fill=\"none\" stroke=\"#000000\" d=\"M348.8816,-460.8796C355.7879,-449.7735 363.2639,-437.7513 370.2175,-426.5691\"/>\n",
       "<polygon fill=\"#000000\" stroke=\"#000000\" points=\"373.3527,-428.1552 375.6613,-417.8149 367.4083,-424.4587 373.3527,-428.1552\"/>\n",
       "</g>\n",
       "<!-- 3 -->\n",
       "<g id=\"node4\" class=\"node\">\n",
       "<title>3</title>\n",
       "<polygon fill=\"#e68641\" stroke=\"#000000\" points=\"268,-306 68,-306 68,-223 268,-223 268,-306\"/>\n",
       "<text text-anchor=\"middle\" x=\"168\" y=\"-290.8\" font-family=\"Times,serif\" font-size=\"14.00\" fill=\"#000000\">ROLLING_DESCALING &lt;= 9.5</text>\n",
       "<text text-anchor=\"middle\" x=\"168\" y=\"-275.8\" font-family=\"Times,serif\" font-size=\"14.00\" fill=\"#000000\">gini = 0.075</text>\n",
       "<text text-anchor=\"middle\" x=\"168\" y=\"-260.8\" font-family=\"Times,serif\" font-size=\"14.00\" fill=\"#000000\">samples = 206</text>\n",
       "<text text-anchor=\"middle\" x=\"168\" y=\"-245.8\" font-family=\"Times,serif\" font-size=\"14.00\" fill=\"#000000\">value = [198, 8]</text>\n",
       "<text text-anchor=\"middle\" x=\"168\" y=\"-230.8\" font-family=\"Times,serif\" font-size=\"14.00\" fill=\"#000000\">class = 양품</text>\n",
       "</g>\n",
       "<!-- 2&#45;&gt;3 -->\n",
       "<g id=\"edge3\" class=\"edge\">\n",
       "<title>2&#45;&gt;3</title>\n",
       "<path fill=\"none\" stroke=\"#000000\" d=\"M221.3204,-341.8796C215.2385,-333.0534 208.7578,-323.6485 202.4859,-314.5466\"/>\n",
       "<polygon fill=\"#000000\" stroke=\"#000000\" points=\"205.3582,-312.5465 196.802,-306.2981 199.5941,-316.5184 205.3582,-312.5465\"/>\n",
       "</g>\n",
       "<!-- 8 -->\n",
       "<g id=\"node9\" class=\"node\">\n",
       "<title>8</title>\n",
       "<polygon fill=\"#399de5\" stroke=\"#000000\" points=\"378,-298.5 286,-298.5 286,-230.5 378,-230.5 378,-298.5\"/>\n",
       "<text text-anchor=\"middle\" x=\"332\" y=\"-283.3\" font-family=\"Times,serif\" font-size=\"14.00\" fill=\"#000000\">gini = 0.0</text>\n",
       "<text text-anchor=\"middle\" x=\"332\" y=\"-268.3\" font-family=\"Times,serif\" font-size=\"14.00\" fill=\"#000000\">samples = 9</text>\n",
       "<text text-anchor=\"middle\" x=\"332\" y=\"-253.3\" font-family=\"Times,serif\" font-size=\"14.00\" fill=\"#000000\">value = [0, 9]</text>\n",
       "<text text-anchor=\"middle\" x=\"332\" y=\"-238.3\" font-family=\"Times,serif\" font-size=\"14.00\" fill=\"#000000\">class = 불량</text>\n",
       "</g>\n",
       "<!-- 2&#45;&gt;8 -->\n",
       "<g id=\"edge8\" class=\"edge\">\n",
       "<title>2&#45;&gt;8</title>\n",
       "<path fill=\"none\" stroke=\"#000000\" d=\"M278.6796,-341.8796C286.4083,-330.6636 294.7809,-318.5131 302.5508,-307.2372\"/>\n",
       "<polygon fill=\"#000000\" stroke=\"#000000\" points=\"305.5623,-309.0353 308.3544,-298.8149 299.7982,-305.0634 305.5623,-309.0353\"/>\n",
       "</g>\n",
       "<!-- 4 -->\n",
       "<g id=\"node5\" class=\"node\">\n",
       "<title>4</title>\n",
       "<polygon fill=\"#e78c4b\" stroke=\"#000000\" points=\"163,-187 41,-187 41,-104 163,-104 163,-187\"/>\n",
       "<text text-anchor=\"middle\" x=\"102\" y=\"-171.8\" font-family=\"Times,serif\" font-size=\"14.00\" fill=\"#000000\">PT_THK &lt;= 20.05</text>\n",
       "<text text-anchor=\"middle\" x=\"102\" y=\"-156.8\" font-family=\"Times,serif\" font-size=\"14.00\" fill=\"#000000\">gini = 0.151</text>\n",
       "<text text-anchor=\"middle\" x=\"102\" y=\"-141.8\" font-family=\"Times,serif\" font-size=\"14.00\" fill=\"#000000\">samples = 97</text>\n",
       "<text text-anchor=\"middle\" x=\"102\" y=\"-126.8\" font-family=\"Times,serif\" font-size=\"14.00\" fill=\"#000000\">value = [89, 8]</text>\n",
       "<text text-anchor=\"middle\" x=\"102\" y=\"-111.8\" font-family=\"Times,serif\" font-size=\"14.00\" fill=\"#000000\">class = 양품</text>\n",
       "</g>\n",
       "<!-- 3&#45;&gt;4 -->\n",
       "<g id=\"edge4\" class=\"edge\">\n",
       "<title>3&#45;&gt;4</title>\n",
       "<path fill=\"none\" stroke=\"#000000\" d=\"M144.9164,-222.8796C140.1211,-214.2335 135.0178,-205.0322 130.0662,-196.1042\"/>\n",
       "<polygon fill=\"#000000\" stroke=\"#000000\" points=\"133.0931,-194.3455 125.1821,-187.2981 126.9716,-197.7407 133.0931,-194.3455\"/>\n",
       "</g>\n",
       "<!-- 7 -->\n",
       "<g id=\"node8\" class=\"node\">\n",
       "<title>7</title>\n",
       "<polygon fill=\"#e58139\" stroke=\"#000000\" points=\"286.5,-179.5 181.5,-179.5 181.5,-111.5 286.5,-111.5 286.5,-179.5\"/>\n",
       "<text text-anchor=\"middle\" x=\"234\" y=\"-164.3\" font-family=\"Times,serif\" font-size=\"14.00\" fill=\"#000000\">gini = 0.0</text>\n",
       "<text text-anchor=\"middle\" x=\"234\" y=\"-149.3\" font-family=\"Times,serif\" font-size=\"14.00\" fill=\"#000000\">samples = 109</text>\n",
       "<text text-anchor=\"middle\" x=\"234\" y=\"-134.3\" font-family=\"Times,serif\" font-size=\"14.00\" fill=\"#000000\">value = [109, 0]</text>\n",
       "<text text-anchor=\"middle\" x=\"234\" y=\"-119.3\" font-family=\"Times,serif\" font-size=\"14.00\" fill=\"#000000\">class = 양품</text>\n",
       "</g>\n",
       "<!-- 3&#45;&gt;7 -->\n",
       "<g id=\"edge7\" class=\"edge\">\n",
       "<title>3&#45;&gt;7</title>\n",
       "<path fill=\"none\" stroke=\"#000000\" d=\"M191.0836,-222.8796C197.2433,-211.7735 203.9111,-199.7513 210.1129,-188.5691\"/>\n",
       "<polygon fill=\"#000000\" stroke=\"#000000\" points=\"213.1787,-190.2576 214.9682,-179.8149 207.0572,-186.8624 213.1787,-190.2576\"/>\n",
       "</g>\n",
       "<!-- 5 -->\n",
       "<g id=\"node6\" class=\"node\">\n",
       "<title>5</title>\n",
       "<polygon fill=\"#61b1ea\" stroke=\"#000000\" points=\"92,-68 0,-68 0,0 92,0 92,-68\"/>\n",
       "<text text-anchor=\"middle\" x=\"46\" y=\"-52.8\" font-family=\"Times,serif\" font-size=\"14.00\" fill=\"#000000\">gini = 0.278</text>\n",
       "<text text-anchor=\"middle\" x=\"46\" y=\"-37.8\" font-family=\"Times,serif\" font-size=\"14.00\" fill=\"#000000\">samples = 6</text>\n",
       "<text text-anchor=\"middle\" x=\"46\" y=\"-22.8\" font-family=\"Times,serif\" font-size=\"14.00\" fill=\"#000000\">value = [1, 5]</text>\n",
       "<text text-anchor=\"middle\" x=\"46\" y=\"-7.8\" font-family=\"Times,serif\" font-size=\"14.00\" fill=\"#000000\">class = 불량</text>\n",
       "</g>\n",
       "<!-- 4&#45;&gt;5 -->\n",
       "<g id=\"edge5\" class=\"edge\">\n",
       "<title>4&#45;&gt;5</title>\n",
       "<path fill=\"none\" stroke=\"#000000\" d=\"M81.1477,-103.9815C76.7625,-95.2504 72.1267,-86.0202 67.711,-77.2281\"/>\n",
       "<polygon fill=\"#000000\" stroke=\"#000000\" points=\"70.8246,-75.6291 63.2087,-68.2637 64.5692,-78.7708 70.8246,-75.6291\"/>\n",
       "</g>\n",
       "<!-- 6 -->\n",
       "<g id=\"node7\" class=\"node\">\n",
       "<title>6</title>\n",
       "<polygon fill=\"#e68540\" stroke=\"#000000\" points=\"208,-68 110,-68 110,0 208,0 208,-68\"/>\n",
       "<text text-anchor=\"middle\" x=\"159\" y=\"-52.8\" font-family=\"Times,serif\" font-size=\"14.00\" fill=\"#000000\">gini = 0.064</text>\n",
       "<text text-anchor=\"middle\" x=\"159\" y=\"-37.8\" font-family=\"Times,serif\" font-size=\"14.00\" fill=\"#000000\">samples = 91</text>\n",
       "<text text-anchor=\"middle\" x=\"159\" y=\"-22.8\" font-family=\"Times,serif\" font-size=\"14.00\" fill=\"#000000\">value = [88, 3]</text>\n",
       "<text text-anchor=\"middle\" x=\"159\" y=\"-7.8\" font-family=\"Times,serif\" font-size=\"14.00\" fill=\"#000000\">class = 양품</text>\n",
       "</g>\n",
       "<!-- 4&#45;&gt;6 -->\n",
       "<g id=\"edge6\" class=\"edge\">\n",
       "<title>4&#45;&gt;6</title>\n",
       "<path fill=\"none\" stroke=\"#000000\" d=\"M123.2247,-103.9815C127.6881,-95.2504 132.4067,-86.0202 136.9013,-77.2281\"/>\n",
       "<polygon fill=\"#000000\" stroke=\"#000000\" points=\"140.0486,-78.7608 141.484,-68.2637 133.8158,-75.5745 140.0486,-78.7608\"/>\n",
       "</g>\n",
       "</g>\n",
       "</svg>\n"
      ],
      "text/plain": [
       "<graphviz.files.Source at 0x7fedcd051250>"
      ]
     },
     "metadata": {},
     "output_type": "display_data"
    }
   ],
   "source": [
    "#그림을 특성을 나누어 보았다. 위에 말한대로 AGE CEMENT WATER 등으로 가지가 나누어졌다.\n",
    "tree_final = DecisionTreeClassifier(random_state=9981, min_samples_leaf=6, max_depth=5)\n",
    "tree_final.fit(vf_train_x, vf_train_y)\n",
    "export_graphviz(tree_final, out_file = 'tree_depth.dot', class_names= [\"양품\",\"불량\"], feature_names = v_feature_name, impurity = True, filled =True)\n",
    "with open('tree_depth.dot')as f:\n",
    "    dot_graph = f.read()\n",
    "display(graphviz.Source(dot_graph))\n"
   ]
  },
  {
   "cell_type": "code",
   "execution_count": 101,
   "metadata": {},
   "outputs": [
    {
     "name": "stdout",
     "output_type": "stream",
     "text": [
      "Accuracy: 0.972093\n",
      "\n",
      "Confusion matrix : \n",
      "[[136   0]\n",
      " [  6  73]]\n"
     ]
    }
   ],
   "source": [
    "y_pred = tree_final.predict(vf_test_x)\n",
    "print('Accuracy: {0:3f}\\n'.format(tree_final.score(vf_test_x, vf_test_y)))\n",
    "print('Confusion matrix : \\n{}'.format(confusion_matrix(vf_test_y, y_pred)))"
   ]
  },
  {
   "cell_type": "markdown",
   "metadata": {},
   "source": [
    "최종 모델 생성을 통해 디시젼 트리의 그림을 그려본 결과 위와 같은 결과를 얻을 수 있다.\n",
    "따라서 우리가 스케일 불량율을 줄이기 위해서는 다음과 같은 변수를 제어한다.\n",
    "\n",
    "ROLLING_TEMP_T5(압연온도)를  <= 1000.5도 이하로 제어한다.\n",
    "ROLLING_DESCALING(디스케일링 횟수) <= 9.5이하로 한다.\n",
    "FUR_EXTEMP(추출 온도) <= 1175.0도 이하로 한다.\n",
    "HSB 미적용 <- 데이터 상으로는 적용해야 불량이 줄어 들 것 같은 생각이 들었는데 모델링 과정에서 문제가 생긴 것 같다.\n",
    "PT_THK(플레이트 두께) <= 해당 변수는 생산지시두께로 우리가 변환 할 수 없다.\n"
   ]
  },
  {
   "cell_type": "code",
   "execution_count": 108,
   "metadata": {},
   "outputs": [
    {
     "ename": "SyntaxError",
     "evalue": "invalid syntax (<ipython-input-108-3ef3187c80ff>, line 1)",
     "output_type": "error",
     "traceback": [
      "\u001b[0;36m  File \u001b[0;32m\"<ipython-input-108-3ef3187c80ff>\"\u001b[0;36m, line \u001b[0;32m1\u001b[0m\n\u001b[0;31m    import pydot(graph) = pydot.graph_from_dot_file('tree_low.dot',encoding='utf8')\u001b[0m\n\u001b[0m                ^\u001b[0m\n\u001b[0;31mSyntaxError\u001b[0m\u001b[0;31m:\u001b[0m invalid syntax\n"
     ]
    }
   ],
   "source": [
    "import pydot(graph) = pydot.graph_from_dot_file('tree_low.dot',encoding='utf8')\n",
    "graph.write_png('decisionTree.png')"
   ]
  },
  {
   "cell_type": "code",
   "execution_count": null,
   "metadata": {},
   "outputs": [],
   "source": []
  },
  {
   "cell_type": "code",
   "execution_count": null,
   "metadata": {},
   "outputs": [],
   "source": []
  }
 ],
 "metadata": {
  "kernelspec": {
   "display_name": "Python 3",
   "language": "python",
   "name": "python3"
  },
  "language_info": {
   "codemirror_mode": {
    "name": "ipython",
    "version": 3
   },
   "file_extension": ".py",
   "mimetype": "text/x-python",
   "name": "python",
   "nbconvert_exporter": "python",
   "pygments_lexer": "ipython3",
   "version": "3.8.3"
  }
 },
 "nbformat": 4,
 "nbformat_minor": 4
}
