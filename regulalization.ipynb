{
 "cells": [
  {
   "cell_type": "code",
   "execution_count": 29,
   "metadata": {},
   "outputs": [
    {
     "name": "stdout",
     "output_type": "stream",
     "text": [
      "device: cpu\n"
     ]
    }
   ],
   "source": [
    "import torch\n",
    "import torch.nn as nn\n",
    "import torch.optim as optim\n",
    "import torch.nn.init as init\n",
    "import torchvision.datasets as dataset\n",
    "import torchvision.transforms as transforms\n",
    "from torch.utils.data import DataLoader\n",
    "\n",
    "import numpy as np\n",
    "from matplotlib import pyplot as plt\n",
    "\n",
    "device = torch.device(\"cuda:0\" if torch.cuda.is_available() else \"cpu\")\n",
    "\n",
    "print(\"device: gpu\") if torch.cuda.is_available() else print(\"device: cpu\")"
   ]
  },
  {
   "cell_type": "code",
   "execution_count": 31,
   "metadata": {},
   "outputs": [],
   "source": [
    "# hypter parameter setting\n",
    "learning_rate = 1e-1\n",
    "epochs = 10\n",
    "# batch_size = 60000 # gradient descent\n",
    "# batch_size = 1 # stochastic gradient descent\n",
    "batch_size = 32 # mini-batch stochastic gradient descent\n",
    "act = nn.Tanh()\n",
    "h = 200\n",
    "\n",
    "display_step = 10\n",
    "dropout_rate = .2 # probability to be 0 "
   ]
  },
  {
   "cell_type": "code",
   "execution_count": 3,
   "metadata": {},
   "outputs": [
    {
     "name": "stdout",
     "output_type": "stream",
     "text": [
      "len(train_data):  60000\n",
      "len(test_data):  10000\n",
      "original data shape:  torch.Size([1, 28, 28])\n",
      "label:  5\n"
     ]
    },
    {
     "data": {
      "image/png": "[encoded data removed]",
      "text/plain": [
       "<Figure size 432x288 with 1 Axes>"
      ]
     },
     "metadata": {
      "needs_background": "light"
     },
     "output_type": "display_data"
    },
    {
     "name": "stdout",
     "output_type": "stream",
     "text": [
      "processed data shape: torch.Size([32, 1, 28, 28])\n",
      "label: tensor([2, 6, 7, 0, 3, 3, 2, 7, 4, 7, 2, 0, 1, 1, 2, 4, 9, 8, 7, 2, 4, 0, 0, 7,\n",
      "        5, 7, 8, 8, 1, 8, 8, 5])\n"
     ]
    },
    {
     "data": {
      "image/png": "[encoded data removed]",
      "text/plain": [
       "<Figure size 432x288 with 1 Axes>"
      ]
     },
     "metadata": {
      "needs_background": "light"
     },
     "output_type": "display_data"
    }
   ],
   "source": [
    "# load data\n",
    "train_data = dataset.MNIST(\"./\", train = True, transform = transforms.ToTensor(), target_transform = None, download = True)\n",
    "test_data = dataset.MNIST(\"./\", train = False, transform = transforms.ToTensor(), target_transform = None, download = True)\n",
    "\n",
    "# check the data\n",
    "print('len(train_data): ', len(train_data))\n",
    "print('len(test_data): ', len(test_data))\n",
    "\n",
    "x_train, y_train = train_data[0]\n",
    "print('original data shape: ', x_train.shape)\n",
    "print('label: ', y_train)\n",
    "\n",
    "plt.figure()\n",
    "plt.imshow(x_train[0])\n",
    "plt.show()\n",
    "\n",
    "# Pre-process (batch, shuffle)\n",
    "train_loader = torch.utils.data.DataLoader(train_data, batch_size = batch_size, shuffle = True, num_workers = 1, drop_last = True)\n",
    "test_loader = torch.utils.data.DataLoader(test_data, batch_size = 10000, shuffle = True, num_workers = 1, drop_last = True)\n",
    "\n",
    "# check the data \n",
    "examples = enumerate(train_loader)\n",
    "batch_idx, (example_data, example_target) = next(examples)\n",
    "\n",
    "print('processed data shape:', example_data.shape)\n",
    "print('label:', example_target)\n",
    "\n",
    "plt.figure()\n",
    "plt.imshow(example_data[0][0])\n",
    "plt.show()"
   ]
  },
  {
   "cell_type": "code",
   "execution_count": 4,
   "metadata": {},
   "outputs": [],
   "source": [
    "# model\n",
    "model = nn.Sequential(\n",
    "        nn.Linear(np.prod(x_train.shape[1:]),1024),\n",
    "        act,\n",
    "        nn.Linear(1024,300),\n",
    "        act,\n",
    "        nn.Linear(300,10)\n",
    "        )\n",
    "\n",
    "model = model.to(device)\n",
    "model.train()\n",
    "\n",
    "# loss and optimizer\n",
    "loss_function = nn.CrossEntropyLoss()\n",
    "optimizer = optim.SGD(model.parameters(), lr = learning_rate)"
   ]
  },
  {
   "cell_type": "code",
   "execution_count": 5,
   "metadata": {},
   "outputs": [
    {
     "name": "stdout",
     "output_type": "stream",
     "text": [
      "Epoch: 1 \\Loss: tensor(0.0875, grad_fn=<NllLossBackward>)\n",
      "Epoch: 6 \\Loss: tensor(0.0177, grad_fn=<NllLossBackward>)\n",
      "Epoch: 11 \\Loss: tensor(0.0215, grad_fn=<NllLossBackward>)\n",
      "Epoch: 16 \\Loss: tensor(0.0050, grad_fn=<NllLossBackward>)\n",
      "Epoch: 21 \\Loss: tensor(0.0033, grad_fn=<NllLossBackward>)\n",
      "Epoch: 26 \\Loss: tensor(0.0007, grad_fn=<NllLossBackward>)\n",
      "total 10000\n",
      "correct tensor(9810.)\n",
      "accuracy tensor(0.9810)\n"
     ]
    }
   ],
   "source": [
    "loss_array = []\n",
    "iteration_loss_array = []\n",
    "\n",
    "# train the model\n",
    "for epoch in range(epochs):\n",
    "    for iteration, [data, label] in enumerate(train_loader):\n",
    "        optimizer.zero_grad()\n",
    "        \n",
    "        x = data.to(device)\n",
    "        x = x.view(batch_size, -1)\n",
    "        y = label.to(device)\n",
    "        \n",
    "        output = model(x)\n",
    "\n",
    "        loss = loss_function(output, y)\n",
    "        loss.backward()\n",
    "        optimizer.step()\n",
    "        iteration_loss_array.append(loss.cpu().detach().numpy())\n",
    "            \n",
    "    loss_array.append(loss.cpu().detach().numpy())\n",
    "    \n",
    "    if epoch % 5 == 0:\n",
    "        print(\"Epoch:\", epoch + 1, \"\\Loss:\", loss)\n",
    "\n",
    "# test\n",
    "model.eval()\n",
    "correct = 0\n",
    "total = 0\n",
    "\n",
    "prediction_list = []\n",
    "label_list = []\n",
    "\n",
    "with torch.no_grad():\n",
    "    for data, label in test_loader:\n",
    "        x = data.to(device)\n",
    "        x = x.view(-1, 784)\n",
    "        y = label.to(device)\n",
    "        \n",
    "        prediction = model(x)\n",
    "        _, prediction_index = torch.max(prediction, 1)\n",
    "                \n",
    "        prediction_list.append(prediction_index)\n",
    "        label_list.append(y)\n",
    "        \n",
    "        total += y.size(0)\n",
    "        correct += (prediction_index == y).sum().float()\n",
    "        \n",
    "print('total', total)\n",
    "print('correct', correct)\n",
    "print('accuracy', correct/total)"
   ]
  },
  {
   "cell_type": "code",
   "execution_count": 6,
   "metadata": {},
   "outputs": [
    {
     "data": {
      "image/png": "[encoded data removed]",
      "text/plain": [
       "<Figure size 432x288 with 1 Axes>"
      ]
     },
     "metadata": {
      "needs_background": "light"
     },
     "output_type": "display_data"
    },
    {
     "data": {
      "image/png": "[encoded data removed]",
      "text/plain": [
       "<Figure size 432x288 with 1 Axes>"
      ]
     },
     "metadata": {
      "needs_background": "light"
     },
     "output_type": "display_data"
    },
    {
     "name": "stdout",
     "output_type": "stream",
     "text": [
      "prediction : (10000,)\n",
      "true label : (10000,)\n"
     ]
    },
    {
     "data": {
      "text/plain": [
       "array([[ 973,    0,    1,    1,    0,    0,    1,    1,    2,    1],\n",
       "       [   0, 1123,    2,    3,    0,    1,    2,    1,    3,    0],\n",
       "       [   5,    0, 1011,    3,    2,    0,    2,    2,    7,    0],\n",
       "       [   0,    0,    3,  995,    0,    2,    0,    1,    4,    5],\n",
       "       [   0,    1,    3,    1,  962,    1,    4,    2,    0,    8],\n",
       "       [   3,    0,    0,    7,    2,  869,    4,    0,    4,    3],\n",
       "       [   4,    2,    1,    0,    5,    4,  940,    0,    2,    0],\n",
       "       [   2,    2,    8,    1,    0,    0,    0, 1005,    4,    6],\n",
       "       [   2,    0,    3,    4,    2,    4,    1,    2,  954,    2],\n",
       "       [   2,    2,    0,    5,   11,    2,    0,    7,    2,  978]])"
      ]
     },
     "execution_count": 6,
     "metadata": {},
     "output_type": "execute_result"
    }
   ],
   "source": [
    "# plot losses\n",
    "plt.figure()\n",
    "plt.plot(loss_array)\n",
    "plt.show()\n",
    "# plot iteration losses\n",
    "plt.figure()\n",
    "plt.plot(iteration_loss_array)\n",
    "plt.show()\n",
    "\n",
    "# confusion matrix\n",
    "from sklearn.metrics import confusion_matrix\n",
    "import numpy as np\n",
    "    \n",
    "prediction_array = np.array(prediction_list[0].cpu())\n",
    "label_array = np.array(label_list[0].cpu())\n",
    "\n",
    "print(\"prediction :\", prediction_array.shape)\n",
    "print(\"true label :\", label_array.shape)\n",
    "\n",
    "confusion_matrix(\n",
    "    label_array,\n",
    "    prediction_array) # y_pred"
   ]
  },
  {
   "cell_type": "code",
   "execution_count": 17,
   "metadata": {},
   "outputs": [],
   "source": [
    "\n",
    "# class MLP(nn.Module):\n",
    "#     def __init__(self):\n",
    "#         super(MLP,self).__init__()\n",
    "#         self.hidden1 = 1024\n",
    "#         self.hidden2 = 300\n",
    "#         self.final =10\n",
    "        \n",
    "#         self.fc1 =nn.Linear(28*28, self.hidden1)\n",
    "#         self.act1 =nn.Tanh()\n",
    "        \n",
    "#         self.fc2 =nn.Linear(self.hidden1, self.hidden2)\n",
    "#         self.act2 =nn.Tanh()\n",
    "#         self.fc3 =nn.Linear(self.hidden1, self.final)\n",
    "        \n",
    "#     def forward(self,x):\n",
    "#         output1 = self.fc1(x)\n",
    "#         hidden1 = self.act1(output1)\n",
    "#         output2 = self.fc2(hidden1)\n",
    "#         hidden2 = self.act(output2)\n",
    "        \n",
    "#         logit = self.fc3(hidden2)\n",
    "        \n",
    "#         return output1, hidden1, output2, hidden2, logit\n",
    "    \n",
    "    \n",
    "# model = MLP().to(device)\n",
    "# model.train()\n",
    "\n",
    "\n",
    "# loss_function = nn.CrossEntropyLoss()\n",
    "# optimizer = optim.SGD(model.parameters(), lr = learning_rate)\n",
    "\n",
    "# model\n",
    "class MLP(nn.Module):\n",
    "    def __init__(self):\n",
    "        super(MLP, self).__init__()\n",
    "        self.hidden1 = 1024\n",
    "        self.hidden2 = 300\n",
    "        self.final = 10\n",
    "\n",
    "        self.fc1 = nn.Linear(784, self.hidden1)\n",
    "        self.act1 = nn.Tanh()\n",
    "        self.fc2 = nn.Linear(self.hidden1, self.hidden2)\n",
    "        self.act2 = nn.Tanh()\n",
    "        self.fc3 = nn.Linear(self.hidden2, self.final)\n",
    "\n",
    "    def forward(self, x):\n",
    "        output1 = self.fc1(x)\n",
    "        hidden1 = self.act1(output1)\n",
    "\n",
    "        output2 = self.fc2(hidden1)\n",
    "        hidden2 = self.act2(output2)\n",
    "        \n",
    "        logit = self.fc3(hidden2)\n",
    "        \n",
    "        return output1, hidden1, output2, hidden2, logit # 히든레이어의 분포를 찍어서..\n",
    "\n",
    "model = MLP().to(device)\n",
    "model.train()\n",
    "\n",
    "# loss and optimizer\n",
    "loss_function = nn.CrossEntropyLoss()\n",
    "optimizer = optim.SGD(model.parameters(), lr = learning_rate)\n"
   ]
  },
  {
   "cell_type": "code",
   "execution_count": 21,
   "metadata": {},
   "outputs": [
    {
     "name": "stdout",
     "output_type": "stream",
     "text": [
      "0 epoch loss: 0.0005520894192159176\n",
      "5 epoch loss: 0.0020163150038570166\n",
      "total 10000\n",
      "correct tensor(9819.)\n",
      "accuracy tensor(0.9819)\n"
     ]
    }
   ],
   "source": [
    "loss_array = []\n",
    "\n",
    "# train the model\n",
    "for i in range(epochs):\n",
    "    for index, [data, label] in enumerate(train_loader):\n",
    "        data = data.to(device)\n",
    "        label = label.to(device)\n",
    "                \n",
    "        optimizer.zero_grad()\n",
    "        data = data.view(batch_size, -1)\n",
    "        output1, hidden1, output2, hidden2, logit = model.forward(data)\n",
    "        loss = loss_function(logit, label)\n",
    "        loss.backward()\n",
    "        optimizer.step()\n",
    "        \n",
    "    loss_array.append(loss.cpu().detach().numpy())\n",
    "\n",
    "    if i % display_step == 0:\n",
    "        print('{} epoch loss: {}'.format(i,loss))\n",
    "        \n",
    "# test\n",
    "model.eval()\n",
    "correct = 0\n",
    "total = 0\n",
    "\n",
    "prediction_list = []\n",
    "label_list = []\n",
    "\n",
    "with torch.no_grad():\n",
    "    for data, label in test_loader:\n",
    "        x = data.to(device)\n",
    "        x = x.view(-1, 784)\n",
    "        y = label.to(device)\n",
    "        \n",
    "        output1, hidden1, output2, hidden2, prediction = model(x)\n",
    "        _, prediction_index = torch.max(prediction, 1)\n",
    "                \n",
    "        prediction_list.append(prediction_index)\n",
    "        label_list.append(y)\n",
    "        \n",
    "        total += y.size(0)\n",
    "        correct += (prediction_index == y).sum().float()\n",
    "        \n",
    "print('total', total)\n",
    "print('correct', correct)\n",
    "print('accuracy', correct/total)"
   ]
  },
  {
   "cell_type": "code",
   "execution_count": 24,
   "metadata": {},
   "outputs": [
    {
     "data": {
      "image/png": "[encoded data removed]",
      "text/plain": [
       "<Figure size 432x288 with 1 Axes>"
      ]
     },
     "metadata": {
      "needs_background": "light"
     },
     "output_type": "display_data"
    },
    {
     "name": "stdout",
     "output_type": "stream",
     "text": [
      "prediction : (10000,)\n",
      "true label : (10000,)\n"
     ]
    },
    {
     "data": {
      "text/plain": [
       "array([[ 975,    0,    0,    1,    0,    1,    0,    1,    1,    1],\n",
       "       [   0, 1126,    1,    1,    0,    1,    2,    1,    3,    0],\n",
       "       [   6,    1, 1009,    2,    1,    0,    4,    4,    5,    0],\n",
       "       [   0,    0,    1,  994,    0,    4,    0,    2,    4,    5],\n",
       "       [   0,    0,    3,    1,  962,    2,    2,    2,    0,   10],\n",
       "       [   3,    0,    0,    7,    1,  870,    4,    1,    3,    3],\n",
       "       [   3,    2,    0,    1,    3,    3,  943,    0,    3,    0],\n",
       "       [   0,    1,    7,    2,    1,    0,    0, 1008,    2,    7],\n",
       "       [   2,    0,    3,    3,    2,    5,    1,    3,  952,    3],\n",
       "       [   1,    2,    0,    6,    8,    2,    0,    6,    4,  980]])"
      ]
     },
     "execution_count": 24,
     "metadata": {},
     "output_type": "execute_result"
    }
   ],
   "source": [
    "plt.figure()\n",
    "plt.plot(loss_array)\n",
    "plt.show()\n",
    "\n",
    "# confusion matrix\n",
    "from sklearn.metrics import confusion_matrix\n",
    "import numpy as np\n",
    "    \n",
    "prediction_array = np.array(prediction_list[0].cpu())\n",
    "label_array = np.array(label_list[0].cpu())\n",
    "\n",
    "print(\"prediction :\", prediction_array.shape)\n",
    "print(\"true label :\", label_array.shape)\n",
    "\n",
    "confusion_matrix(\n",
    "    label_array,\n",
    "    prediction_array) # y_pred"
   ]
  },
  {
   "cell_type": "code",
   "execution_count": 25,
   "metadata": {},
   "outputs": [
    {
     "name": "stdout",
     "output_type": "stream",
     "text": [
      "torch.Size([10000, 784]) torch.Size([10000, 1024]) torch.Size([10000, 1024]) torch.Size([10000, 300]) torch.Size([10000, 300])\n"
     ]
    },
    {
     "data": {
      "image/png": "[encoded data removed]",
      "text/plain": [
       "<Figure size 720x504 with 6 Axes>"
      ]
     },
     "metadata": {
      "needs_background": "light"
     },
     "output_type": "display_data"
    }
   ],
   "source": [
    "print(x.shape, output1.shape, hidden1.shape, output2.shape, hidden2.shape)\n",
    "\n",
    "def plot_inner_dist(x, o1, h1, o2, h2):\n",
    "    fig, axs = plt.subplots(2, 3, figsize=(10, 7), sharex='col')\n",
    "    axs[0, 0].hist(o1.reshape(-1))\n",
    "    axs[0, 1].hist(h1.reshape(-1))\n",
    "    axs[0, 2].scatter(o1[0], h1[0])\n",
    "    axs[1, 0].hist(o2.reshape(-1))\n",
    "    axs[1, 1].hist(h2.reshape(-1))\n",
    "    axs[1, 2].scatter(o2[0], h2[0])\n",
    "    plt.show()\n",
    "plot_inner_dist(x.cpu().numpy(), output1.cpu().numpy(), \n",
    "                hidden1.cpu().numpy(), output2.cpu().numpy(), hidden2.cpu().numpy())"
   ]
  },
  {
   "cell_type": "code",
   "execution_count": 26,
   "metadata": {},
   "outputs": [],
   "source": [
    "# model\n",
    "class MLP(nn.Module):\n",
    "    def __init__(self):\n",
    "        super(MLP, self).__init__()\n",
    "        self.hidden1 = 1024\n",
    "        self.hidden2 = 300\n",
    "        self.final = 10\n",
    "\n",
    "        self.fc1 = nn.Linear(784, self.hidden1)\n",
    "        self.bn1 = nn.BatchNorm1d(self.hidden1)\n",
    "        self.act1 = nn.Tanh()\n",
    "        self.fc2 = nn.Linear(self.hidden1, self.hidden2)\n",
    "        self.bn2 = nn.BatchNorm1d(self.hidden2)\n",
    "        self.act2 = nn.Tanh()\n",
    "        self.fc3 = nn.Linear(self.hidden2, self.final)\n",
    "\n",
    "    def forward(self, x):\n",
    "        output1 = self.fc1(x)\n",
    "        bn1 = self.bn1(output1)\n",
    "        hidden1 = self.act1(bn1)\n",
    "\n",
    "        output2 = self.fc2(hidden1)\n",
    "        bn2 = self.bn2(output2)\n",
    "        hidden2 = self.act2(bn2)\n",
    "        \n",
    "        logit = self.fc3(hidden2)\n",
    "        \n",
    "        return output1, hidden1, output2, hidden2, logit\n",
    "\n",
    "model = MLP().to(device)\n",
    "model.train()\n",
    "\n",
    "# loss and optimizer\n",
    "loss_function = nn.CrossEntropyLoss()\n",
    "optimizer = optim.SGD(model.parameters(), lr = learning_rate)"
   ]
  },
  {
   "cell_type": "code",
   "execution_count": 27,
   "metadata": {},
   "outputs": [
    {
     "name": "stdout",
     "output_type": "stream",
     "text": [
      "0 epoch loss: 0.06398878246545792\n",
      "5 epoch loss: 0.00494967820122838\n",
      "total 10000\n",
      "correct tensor(9803.)\n",
      "accuracy tensor(0.9803)\n"
     ]
    }
   ],
   "source": [
    "loss_array = []\n",
    "\n",
    "# train the model\n",
    "for i in range(epochs):\n",
    "    for index, [data, label] in enumerate(train_loader):\n",
    "        data = data.to(device)\n",
    "        label = label.to(device)\n",
    "                \n",
    "        optimizer.zero_grad()\n",
    "        data = data.view(batch_size, -1)\n",
    "        output1, hidden1, output2, hidden2, logit = model.forward(data)\n",
    "        loss = loss_function(logit, label)\n",
    "        loss.backward()\n",
    "        optimizer.step()\n",
    "        \n",
    "    loss_array.append(loss.cpu().detach().numpy())\n",
    "\n",
    "    if i % display_step == 0:\n",
    "        print('{} epoch loss: {}'.format(i,loss))\n",
    "        \n",
    "# test\n",
    "model.eval()\n",
    "correct = 0\n",
    "total = 0\n",
    "\n",
    "prediction_list = []\n",
    "label_list = []\n",
    "\n",
    "with torch.no_grad():\n",
    "    for data, label in test_loader:\n",
    "        x = data.to(device)\n",
    "        x = x.view(-1, 784)\n",
    "        y = label.to(device)\n",
    "        \n",
    "        output1, hidden1, output2, hidden2, prediction = model(x)\n",
    "        _, prediction_index = torch.max(prediction, 1)\n",
    "                \n",
    "        prediction_list.append(prediction_index)\n",
    "        label_list.append(y)\n",
    "        \n",
    "        total += y.size(0)\n",
    "        correct += (prediction_index == y).sum().float()\n",
    "        \n",
    "print('total', total)\n",
    "print('correct', correct)\n",
    "print('accuracy', correct/total)"
   ]
  },
  {
   "cell_type": "code",
   "execution_count": 32,
   "metadata": {},
   "outputs": [],
   "source": [
    "# model\n",
    "class MLP(nn.Module):\n",
    "    def __init__(self):\n",
    "        super(MLP, self).__init__()\n",
    "        self.hidden1 = 1024\n",
    "        self.hidden2 = 300\n",
    "        self.final = 10\n",
    "\n",
    "        self.fc1 = nn.Linear(784, self.hidden1)\n",
    "        self.bn1 = nn.BatchNorm1d(self.hidden1)\n",
    "        self.act1 = nn.Tanh()\n",
    "        self.drop1 = nn.Dropout(dropout_rate)\n",
    "        \n",
    "        self.fc2 = nn.Linear(self.hidden1, self.hidden2)\n",
    "        self.bn2 = nn.BatchNorm1d(self.hidden2)\n",
    "        self.act2 = nn.Tanh()\n",
    "        self.drop2 = nn.Dropout(dropout_rate) # 드롭아웃은 엑티베이션 함수 뒤에 두줄\n",
    "        \n",
    "        self.fc3 = nn.Linear(self.hidden2, self.final)\n",
    "\n",
    "    def forward(self, x):\n",
    "        output1 = self.fc1(x)\n",
    "        bn1 = self.bn1(output1)\n",
    "        hidden1 = self.act1(bn1)\n",
    "        drop1 = self.drop1(hidden1)\n",
    "\n",
    "        output2 = self.fc2(drop1)\n",
    "        bn2 = self.bn2(output2)\n",
    "        hidden2 = self.act2(bn2)\n",
    "        drop2 = self.drop2(hidden2)\n",
    "        \n",
    "        logit = self.fc3(drop2)\n",
    "        \n",
    "        return logit\n",
    "\n",
    "model = MLP().to(device)\n",
    "model.train()\n",
    "\n",
    "# loss and optimizer\n",
    "loss_function = nn.CrossEntropyLoss()\n",
    "optimizer = optim.SGD(model.parameters(), lr = learning_rate)"
   ]
  },
  {
   "cell_type": "code",
   "execution_count": 33,
   "metadata": {},
   "outputs": [
    {
     "ename": "ValueError",
     "evalue": "too many values to unpack (expected 5)",
     "output_type": "error",
     "traceback": [
      "\u001b[0;31m---------------------------------------------------------------------------\u001b[0m",
      "\u001b[0;31mValueError\u001b[0m                                Traceback (most recent call last)",
      "\u001b[0;32m<ipython-input-33-8c1101530fcf>\u001b[0m in \u001b[0;36m<module>\u001b[0;34m\u001b[0m\n\u001b[1;32m      9\u001b[0m         \u001b[0moptimizer\u001b[0m\u001b[0;34m.\u001b[0m\u001b[0mzero_grad\u001b[0m\u001b[0;34m(\u001b[0m\u001b[0;34m)\u001b[0m\u001b[0;34m\u001b[0m\u001b[0;34m\u001b[0m\u001b[0m\n\u001b[1;32m     10\u001b[0m         \u001b[0mdata\u001b[0m \u001b[0;34m=\u001b[0m \u001b[0mdata\u001b[0m\u001b[0;34m.\u001b[0m\u001b[0mview\u001b[0m\u001b[0;34m(\u001b[0m\u001b[0mbatch_size\u001b[0m\u001b[0;34m,\u001b[0m \u001b[0;34m-\u001b[0m\u001b[0;36m1\u001b[0m\u001b[0;34m)\u001b[0m\u001b[0;34m\u001b[0m\u001b[0;34m\u001b[0m\u001b[0m\n\u001b[0;32m---> 11\u001b[0;31m         \u001b[0moutput1\u001b[0m\u001b[0;34m,\u001b[0m \u001b[0mhidden1\u001b[0m\u001b[0;34m,\u001b[0m \u001b[0moutput2\u001b[0m\u001b[0;34m,\u001b[0m \u001b[0mhidden2\u001b[0m\u001b[0;34m,\u001b[0m \u001b[0mlogit\u001b[0m \u001b[0;34m=\u001b[0m \u001b[0mmodel\u001b[0m\u001b[0;34m.\u001b[0m\u001b[0mforward\u001b[0m\u001b[0;34m(\u001b[0m\u001b[0mdata\u001b[0m\u001b[0;34m)\u001b[0m\u001b[0;34m\u001b[0m\u001b[0;34m\u001b[0m\u001b[0m\n\u001b[0m\u001b[1;32m     12\u001b[0m         \u001b[0mloss\u001b[0m \u001b[0;34m=\u001b[0m \u001b[0mloss_function\u001b[0m\u001b[0;34m(\u001b[0m\u001b[0mlogit\u001b[0m\u001b[0;34m,\u001b[0m \u001b[0mlabel\u001b[0m\u001b[0;34m)\u001b[0m\u001b[0;34m\u001b[0m\u001b[0;34m\u001b[0m\u001b[0m\n\u001b[1;32m     13\u001b[0m         \u001b[0mloss\u001b[0m\u001b[0;34m.\u001b[0m\u001b[0mbackward\u001b[0m\u001b[0;34m(\u001b[0m\u001b[0;34m)\u001b[0m\u001b[0;34m\u001b[0m\u001b[0;34m\u001b[0m\u001b[0m\n",
      "\u001b[0;31mValueError\u001b[0m: too many values to unpack (expected 5)"
     ]
    }
   ],
   "source": [
    "loss_array = []\n",
    "\n",
    "# train the model\n",
    "for i in range(epochs):\n",
    "    for index, [data, label] in enumerate(train_loader):\n",
    "        data = data.to(device)\n",
    "        label = label.to(device)\n",
    "                \n",
    "        optimizer.zero_grad()\n",
    "        data = data.view(batch_size, -1)\n",
    "        output1, hidden1, output2, hidden2, logit = model.forward(data)\n",
    "        loss = loss_function(logit, label)\n",
    "        loss.backward()\n",
    "        optimizer.step()\n",
    "        \n",
    "    loss_array.append(loss.cpu().detach().numpy())\n",
    "\n",
    "    if i % display_step == 0:\n",
    "        print('{} epoch loss: {}'.format(i,loss))\n",
    "        \n",
    "# test\n",
    "model.eval()\n",
    "correct = 0\n",
    "total = 0\n",
    "\n",
    "prediction_list = []\n",
    "label_list = []\n",
    "\n",
    "with torch.no_grad():\n",
    "    for data, label in test_loader:\n",
    "        x = data.to(device)\n",
    "        x = x.view(-1, 784)\n",
    "        y = label.to(device)\n",
    "        \n",
    "        output1, hidden1, output2, hidden2, prediction = model(x)\n",
    "        _, prediction_index = torch.max(prediction, 1)\n",
    "                \n",
    "        prediction_list.append(prediction_index)\n",
    "        label_list.append(y)\n",
    "        \n",
    "        total += y.size(0)\n",
    "        correct += (prediction_index == y).sum().float()\n",
    "        \n",
    "print('total', total)\n",
    "print('correct', correct)\n",
    "print('accuracy', correct/total)"
   ]
  },
  {
   "cell_type": "code",
   "execution_count": 40,
   "metadata": {},
   "outputs": [
    {
     "ename": "AttributeError",
     "evalue": "module 'torch.optim' has no attribute 'ADAM'",
     "output_type": "error",
     "traceback": [
      "\u001b[0;31m---------------------------------------------------------------------------\u001b[0m",
      "\u001b[0;31mAttributeError\u001b[0m                            Traceback (most recent call last)",
      "\u001b[0;32m<ipython-input-40-4b0d4309e56d>\u001b[0m in \u001b[0;36m<module>\u001b[0;34m\u001b[0m\n\u001b[1;32m     38\u001b[0m \u001b[0;34m\u001b[0m\u001b[0m\n\u001b[1;32m     39\u001b[0m \u001b[0mloss_function\u001b[0m \u001b[0;34m=\u001b[0m \u001b[0mnn\u001b[0m\u001b[0;34m.\u001b[0m\u001b[0mCrossEntropyLoss\u001b[0m\u001b[0;34m(\u001b[0m\u001b[0;34m)\u001b[0m\u001b[0;34m\u001b[0m\u001b[0;34m\u001b[0m\u001b[0m\n\u001b[0;32m---> 40\u001b[0;31m \u001b[0moptimizer\u001b[0m \u001b[0;34m=\u001b[0m \u001b[0moptim\u001b[0m\u001b[0;34m.\u001b[0m\u001b[0mADAM\u001b[0m\u001b[0;34m(\u001b[0m\u001b[0mmodel\u001b[0m\u001b[0;34m.\u001b[0m\u001b[0mparameters\u001b[0m\u001b[0;34m(\u001b[0m\u001b[0;34m)\u001b[0m\u001b[0;34m,\u001b[0m \u001b[0mlr\u001b[0m \u001b[0;34m=\u001b[0m \u001b[0mlearning_rate\u001b[0m\u001b[0;34m)\u001b[0m\u001b[0;34m\u001b[0m\u001b[0;34m\u001b[0m\u001b[0m\n\u001b[0m\u001b[1;32m     41\u001b[0m \u001b[0;34m\u001b[0m\u001b[0m\n",
      "\u001b[0;31mAttributeError\u001b[0m: module 'torch.optim' has no attribute 'ADAM'"
     ]
    }
   ],
   "source": [
    "class MLP(nn.Module):\n",
    "    def __init__(self):\n",
    "        super(MLP,self).__init__()\n",
    "        self.hidden1 = 1024\n",
    "        self.hidden2 = 300\n",
    "        self.final = 10\n",
    "        \n",
    "        self.fc1 = nn.Linear(784, self.hidden1)\n",
    "        self.bn1 = nn.BatchNorm1d(self.hidden1)\n",
    "        self.act1 = nn.Tanh()\n",
    "        self.drop1 = nn.Dropout(dropout_rate)\n",
    "        \n",
    "        self.fc2 = nn.Linear(self.hidden1, self.hidden2)\n",
    "        self.bn2 = nn.BatchNorm1d(self.hidden2)\n",
    "        self.act2 = nn.Tanh()\n",
    "        self.drop2 = nn.Dropout(dropout_rate)\n",
    "        \n",
    "        self.fc3 = nn.Linear(self.hidden2, self.final)\n",
    "        \n",
    "    def forward(self, x):\n",
    "        output1 = self.fc1(x)\n",
    "        bn1 = self.bn1(output1)\n",
    "        hidden1 = self.act1(bn1)\n",
    "        drop1 = self.drop1(hidden1)\n",
    "\n",
    "        output2 = self.fc2(drop1)\n",
    "        bn2 = self.bn2(output2)\n",
    "        hidden2 = self.act2(bn2)\n",
    "        drop2 = self.drop2(hidden2)\n",
    "        \n",
    "        logit = self.fc3(drop2)\n",
    "        \n",
    "        return logit\n",
    "\n",
    "model = MLP().to(device)\n",
    "model.train()\n",
    "\n",
    "#\n",
    "loss_function = nn.CrossEntropyLoss()\n",
    "optimizer = optim.SGD(model.parameters(), lr = learning_rate)\n",
    "    "
   ]
  },
  {
   "cell_type": "code",
   "execution_count": 39,
   "metadata": {},
   "outputs": [
    {
     "ename": "ValueError",
     "evalue": "too many values to unpack (expected 5)",
     "output_type": "error",
     "traceback": [
      "\u001b[0;31m---------------------------------------------------------------------------\u001b[0m",
      "\u001b[0;31mValueError\u001b[0m                                Traceback (most recent call last)",
      "\u001b[0;32m<ipython-input-39-8c1101530fcf>\u001b[0m in \u001b[0;36m<module>\u001b[0;34m\u001b[0m\n\u001b[1;32m      9\u001b[0m         \u001b[0moptimizer\u001b[0m\u001b[0;34m.\u001b[0m\u001b[0mzero_grad\u001b[0m\u001b[0;34m(\u001b[0m\u001b[0;34m)\u001b[0m\u001b[0;34m\u001b[0m\u001b[0;34m\u001b[0m\u001b[0m\n\u001b[1;32m     10\u001b[0m         \u001b[0mdata\u001b[0m \u001b[0;34m=\u001b[0m \u001b[0mdata\u001b[0m\u001b[0;34m.\u001b[0m\u001b[0mview\u001b[0m\u001b[0;34m(\u001b[0m\u001b[0mbatch_size\u001b[0m\u001b[0;34m,\u001b[0m \u001b[0;34m-\u001b[0m\u001b[0;36m1\u001b[0m\u001b[0;34m)\u001b[0m\u001b[0;34m\u001b[0m\u001b[0;34m\u001b[0m\u001b[0m\n\u001b[0;32m---> 11\u001b[0;31m         \u001b[0moutput1\u001b[0m\u001b[0;34m,\u001b[0m \u001b[0mhidden1\u001b[0m\u001b[0;34m,\u001b[0m \u001b[0moutput2\u001b[0m\u001b[0;34m,\u001b[0m \u001b[0mhidden2\u001b[0m\u001b[0;34m,\u001b[0m \u001b[0mlogit\u001b[0m \u001b[0;34m=\u001b[0m \u001b[0mmodel\u001b[0m\u001b[0;34m.\u001b[0m\u001b[0mforward\u001b[0m\u001b[0;34m(\u001b[0m\u001b[0mdata\u001b[0m\u001b[0;34m)\u001b[0m\u001b[0;34m\u001b[0m\u001b[0;34m\u001b[0m\u001b[0m\n\u001b[0m\u001b[1;32m     12\u001b[0m         \u001b[0mloss\u001b[0m \u001b[0;34m=\u001b[0m \u001b[0mloss_function\u001b[0m\u001b[0;34m(\u001b[0m\u001b[0mlogit\u001b[0m\u001b[0;34m,\u001b[0m \u001b[0mlabel\u001b[0m\u001b[0;34m)\u001b[0m\u001b[0;34m\u001b[0m\u001b[0;34m\u001b[0m\u001b[0m\n\u001b[1;32m     13\u001b[0m         \u001b[0mloss\u001b[0m\u001b[0;34m.\u001b[0m\u001b[0mbackward\u001b[0m\u001b[0;34m(\u001b[0m\u001b[0;34m)\u001b[0m\u001b[0;34m\u001b[0m\u001b[0;34m\u001b[0m\u001b[0m\n",
      "\u001b[0;31mValueError\u001b[0m: too many values to unpack (expected 5)"
     ]
    }
   ],
   "source": [
    "loss_array = []\n",
    "\n",
    "# train the model\n",
    "for i in range(epochs):\n",
    "    for index, [data, label] in enumerate(train_loader):\n",
    "        data = data.to(device)\n",
    "        label = label.to(device)\n",
    "                \n",
    "        optimizer.zero_grad()\n",
    "        data = data.view(batch_size, -1)\n",
    "        output1, hidden1, output2, hidden2, logit = model.forward(data)\n",
    "        loss = loss_function(logit, label)\n",
    "        loss.backward()\n",
    "        optimizer.step()\n",
    "        \n",
    "    loss_array.append(loss.cpu().detach().numpy())\n",
    "\n",
    "    if i % display_step == 0:\n",
    "        print('{} epoch loss: {}'.format(i,loss))\n",
    "        \n",
    "# test\n",
    "model.eval()\n",
    "correct = 0\n",
    "total = 0\n",
    "\n",
    "prediction_list = []\n",
    "label_list = []\n",
    "\n",
    "with torch.no_grad():\n",
    "    for data, label in test_loader:\n",
    "        x = data.to(device)\n",
    "        x = x.view(-1, 784)\n",
    "        y = label.to(device)\n",
    "        \n",
    "        output1, hidden1, output2, hidden2, prediction = model(x)\n",
    "        _, prediction_index = torch.max(prediction, 1)\n",
    "                \n",
    "        prediction_list.append(prediction_index)\n",
    "        label_list.append(y)\n",
    "        \n",
    "        total += y.size(0)\n",
    "        correct += (prediction_index == y).sum().float()\n",
    "        \n",
    "print('total', total)\n",
    "print('correct', correct)\n",
    "print('accuracy', correct/total)"
   ]
  },
  {
   "cell_type": "code",
   "execution_count": null,
   "metadata": {},
   "outputs": [],
   "source": []
  }
 ],
 "metadata": {
  "kernelspec": {
   "display_name": "Pytorch",
   "language": "python",
   "name": "pytorch"
  },
  "language_info": {
   "codemirror_mode": {
    "name": "ipython",
    "version": 3
   },
   "file_extension": ".py",
   "mimetype": "text/x-python",
   "name": "python",
   "nbconvert_exporter": "python",
   "pygments_lexer": "ipython3",
   "version": "3.7.9"
  }
 },
 "nbformat": 4,
 "nbformat_minor": 4
}
